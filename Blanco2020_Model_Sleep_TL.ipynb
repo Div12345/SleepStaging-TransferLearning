{
  "nbformat": 4,
  "nbformat_minor": 0,
  "metadata": {
    "colab": {
      "name": "Blanco2020_Model_Sleep_TL.ipynb",
      "provenance": [],
      "authorship_tag": "ABX9TyM7J14nHFe2NRHrsRWWXxzd",
      "include_colab_link": true
    },
    "kernelspec": {
      "name": "python3",
      "display_name": "Python 3"
    },
    "language_info": {
      "name": "python"
    }
  },
  "cells": [
    {
      "cell_type": "markdown",
      "metadata": {
        "id": "view-in-github",
        "colab_type": "text"
      },
      "source": [
        "<a href=\"https://colab.research.google.com/github/Div12345/SleepStaging-TransferLearning/blob/main/Blanco2020_Model_Sleep_TL.ipynb\" target=\"_parent\"><img src=\"https://colab.research.google.com/assets/colab-badge.svg\" alt=\"Open In Colab\"/></a>"
      ]
    },
    {
      "cell_type": "markdown",
      "metadata": {
        "id": "L7J9lDSdRTgt"
      },
      "source": [
        "# Blanco et al. 2020 Model\n",
        "[Paper](https://arxiv.org/ftp/arxiv/papers/2103/2103.16215.pdf)"
      ]
    },
    {
      "cell_type": "markdown",
      "metadata": {
        "id": "L9sQe2m-bYJE"
      },
      "source": [
        "# Setup"
      ]
    },
    {
      "cell_type": "code",
      "metadata": {
        "id": "m5JTtD-_8Dy0",
        "cellView": "form"
      },
      "source": [
        "#@title Dependencies Install\n",
        "!pip install wandb\n",
        "!pip install git+https://github.com/sylvchev/beetl-competition\n",
        "!pip install moabb\n",
        "!pip install braindecode\n",
        "!pip install git+https://github.com/pyRiemann/pyRiemann\n",
        "!pip install matplotlib\n",
        "!pip install https://github.com/ufoym/imbalanced-dataset-sampler/archive/master.zip"
      ],
      "execution_count": null,
      "outputs": []
    },
    {
      "cell_type": "code",
      "metadata": {
        "id": "uuMPQYfn8LbD",
        "cellView": "form"
      },
      "source": [
        "#@title Imports\n",
        "from mne import get_config, set_config\n",
        "import os.path as osp\n",
        "import os\n",
        "from beetl.task_datasets import BeetlSleepLeaderboard, BeetlSleepSource\n",
        "import numpy as np\n",
        "import pandas as pd\n",
        "import mne\n",
        "\n",
        "import braindecode\n",
        "from braindecode import EEGClassifier\n",
        "from braindecode.util import np_to_var, set_random_seeds\n",
        "from braindecode.models import SleepStagerChambon2018\n",
        "from braindecode.datautil.preprocess import preprocess, Preprocessor, zscore\n",
        "from braindecode.samplers.ssl import RelativePositioningSampler\n",
        "#from braindecode.datautil import create_from_X_y\n",
        "from braindecode.datasets import BaseDataset\n",
        "\n",
        "import sklearn\n",
        "from sklearn.model_selection import train_test_split\n",
        "from sklearn.linear_model import LogisticRegression\n",
        "from sklearn.preprocessing import StandardScaler\n",
        "from sklearn.pipeline import make_pipeline\n",
        "from sklearn.metrics import confusion_matrix, classification_report, balanced_accuracy_score, cohen_kappa_score\n",
        "\n",
        "import matplotlib.pyplot as plt\n",
        "from matplotlib.lines import Line2D\n",
        "\n",
        "import skorch\n",
        "import skorch.dataset\n",
        "from skorch.callbacks import EarlyStopping, Checkpoint, EpochScoring, WandbLogger, TrainEndCheckpoint\n",
        "from skorch.dataset import Dataset\n",
        "from skorch.helper import predefined_split\n",
        "from skorch.classifier import NeuralNetClassifier as NNClassifier\n",
        "\n",
        "import time\n",
        "import math\n",
        "import copy\n",
        "from copy import deepcopy\n",
        "\n",
        "import pickle\n",
        "import torch\n",
        "from torch import nn\n",
        "from torch.utils.data import DataLoader\n",
        "import torch.nn.functional as F\n",
        "\n",
        "from torchsampler import ImbalancedDatasetSampler as IDS\n",
        "\n",
        "import wandb\n",
        "\n",
        "import joblib"
      ],
      "execution_count": null,
      "outputs": []
    },
    {
      "cell_type": "code",
      "metadata": {
        "colab": {
          "base_uri": "https://localhost:8080/"
        },
        "id": "JsEpic6LddRa",
        "outputId": "63440407-60c6-4d04-94bf-fc384c633ae0"
      },
      "source": [
        "from google.colab import drive\n",
        "drive.mount('/content/drive')"
      ],
      "execution_count": null,
      "outputs": [
        {
          "output_type": "stream",
          "name": "stdout",
          "text": [
            "Mounted at /content/drive\n"
          ]
        }
      ]
    },
    {
      "cell_type": "code",
      "metadata": {
        "id": "6H7g78UA8OBg",
        "colab": {
          "base_uri": "https://localhost:8080/"
        },
        "outputId": "4070091c-8a9c-405c-8c1f-ee16ea3f145b"
      },
      "source": [
        "# Optional wandb for model logging\n",
        "!wandb login\n",
        "# Specific to user - Put it here for convinience"
      ],
      "execution_count": null,
      "outputs": [
        {
          "output_type": "stream",
          "name": "stdout",
          "text": [
            "\u001b[34m\u001b[1mwandb\u001b[0m: You can find your API key in your browser here: https://wandb.ai/authorize\n",
            "\u001b[34m\u001b[1mwandb\u001b[0m: Paste an API key from your profile and hit enter: \n",
            "\u001b[34m\u001b[1mwandb\u001b[0m: Appending key for api.wandb.ai to your netrc file: /root/.netrc\n"
          ]
        }
      ]
    },
    {
      "cell_type": "code",
      "metadata": {
        "colab": {
          "base_uri": "https://localhost:8080/"
        },
        "id": "v_h42a0Z8SlJ",
        "outputId": "21d2d8ff-521a-42a0-87c9-863eefd148a4"
      },
      "source": [
        "mne.set_log_level(False) # Equivalent to WARNING\n",
        "path = \"/content/drive/MyDrive/mne_data\"\n",
        "set_config(\"MNE_DATA\", path)\n",
        "set_config(\"MNE_DATASETS_BEETLSLEEPLEADERBOARD_PATH\",path)\n",
        "set_config(\"MNE_DATASETS_BEETLSLEEPSOURCE_PATH\",path)\n",
        "get_config()"
      ],
      "execution_count": null,
      "outputs": [
        {
          "output_type": "stream",
          "name": "stderr",
          "text": [
            "<ipython-input-4-d9ce88047e42>:4: RuntimeWarning: Setting non-standard config type: \"MNE_DATASETS_BEETLSLEEPLEADERBOARD_PATH\"\n",
            "  set_config(\"MNE_DATASETS_BEETLSLEEPLEADERBOARD_PATH\",path)\n",
            "<ipython-input-4-d9ce88047e42>:5: RuntimeWarning: Setting non-standard config type: \"MNE_DATASETS_BEETLSLEEPSOURCE_PATH\"\n",
            "  set_config(\"MNE_DATASETS_BEETLSLEEPSOURCE_PATH\",path)\n"
          ]
        },
        {
          "output_type": "execute_result",
          "data": {
            "text/plain": [
              "{'MNE_DATA': '/content/drive/MyDrive/mne_data',\n",
              " 'MNE_DATASETS_BEETLSLEEPLEADERBOARD_PATH': '/content/drive/MyDrive/mne_data',\n",
              " 'MNE_DATASETS_BEETLSLEEPSOURCE_PATH': '/content/drive/MyDrive/mne_data'}"
            ]
          },
          "metadata": {},
          "execution_count": 4
        }
      ]
    },
    {
      "cell_type": "code",
      "metadata": {
        "colab": {
          "base_uri": "https://localhost:8080/"
        },
        "id": "E_fQU4bJ8TF2",
        "outputId": "7934f309-def9-48a6-cf1b-301d8e06677b"
      },
      "source": [
        "cuda = torch.cuda.is_available()  # check if GPU is available\n",
        "device = 'cuda' if cuda else 'cpu'\n",
        "print(device)\n",
        "if cuda:\n",
        "    torch.backends.cudnn.benchmark = True\n",
        "# Set random seed to be able to reproduce results\n",
        "set_random_seeds(seed=87, cuda=cuda)\n",
        "random_state = 87\n",
        "\n",
        "!nvidia-smi -L\n",
        "# !nvidia-smi -q\n",
        "\n",
        "# gpu = cuda.get_current_device()\n",
        "# print(\"maxThreadsPerBlock = %s\" % str(gpu.MAX_THREADS_PER_BLOCK))"
      ],
      "execution_count": null,
      "outputs": [
        {
          "output_type": "stream",
          "name": "stdout",
          "text": [
            "cuda\n",
            "GPU 0: Tesla P100-PCIE-16GB (UUID: GPU-c3e06580-ab8e-2ffd-1dc1-f3ea7be7b9c2)\n"
          ]
        }
      ]
    },
    {
      "cell_type": "code",
      "metadata": {
        "id": "QLNWv8j48Vhd",
        "cellView": "form"
      },
      "source": [
        "#@title Helper Functions\n",
        "\n",
        "def label_count(y_train):\n",
        "  labels= np.unique(y_train)\n",
        "  labelsize=labels.shape[0]\n",
        "  #print('labelsize:',labelsize)\n",
        "  label_count = np.zeros(labelsize).astype(int)\n",
        "  for i in range(labelsize):\n",
        "      # tempy = ys1[ys1==labels[i]]\n",
        "      label_count[i]=y_train[y_train==labels[i]].shape[0]\n",
        "  maxsize = label_count.max()\n",
        "  print(label_count)\n",
        "  return np_to_var(label_count)\n",
        "\n",
        "def label_viz(y):\n",
        "  # Another Nice func with viz\n",
        "  classes_mapping = {0: 'W', 1: 'S1', 2: 'S2', 3: 'S3', 4: 'S4', 5:'REM'}\n",
        "  # This might be a time consuming method though\n",
        "  y_train = pd.Series([y for _, y in train_ds]).map(classes_mapping)\n",
        "  ax = y_train.value_counts().plot(kind='barh')\n",
        "  ax.set_xlabel('Number of training examples');\n",
        "  ax.set_ylabel('Sleep stage');\n",
        "\n",
        "# For trained Skorch model\n",
        "def training_viz(clf):\n",
        "  # For Trained Skorch Classifier\n",
        "  df = pd.DataFrame(clf.history.to_list())\n",
        "  df[['train_mis_clf', 'valid_mis_clf']] = 100 - df[\n",
        "      ['train_bacc', 'valid_bacc']] * 100\n",
        "\n",
        "  # get percent of misclass for better visual comparison to loss\n",
        "  plt.style.use('seaborn-talk')\n",
        "  fig, ax1 = plt.subplots(figsize=(20, 7))\n",
        "  df.loc[:, ['train_loss', 'valid_loss']].plot(\n",
        "      ax=ax1, style=['-', ':'], marker='o', color='tab:blue', legend=False,\n",
        "      fontsize=14)\n",
        "\n",
        "  ax1.tick_params(axis='y', labelcolor='tab:blue', labelsize=14)\n",
        "  ax1.set_ylabel(\"Loss\", color='tab:blue', fontsize=14)\n",
        "\n",
        "  ax2 = ax1.twinx()  # instantiate a second axes that shares the same x-axis\n",
        "\n",
        "  df.loc[:, ['train_mis_clf', 'valid_mis_clf']].plot(\n",
        "      ax=ax2, style=['-', ':'], marker='o', color='tab:red', legend=False)\n",
        "  ax2.tick_params(axis='y', labelcolor='tab:red', labelsize=14)\n",
        "  ax2.set_ylabel('Balanced misclassification rate [%]', color='tab:red',\n",
        "                fontsize=14)\n",
        "  ax2.set_ylim(ax2.get_ylim()[0], 85)  # make some room for legend\n",
        "  ax1.set_xlabel('Epoch', fontsize=14)\n",
        "\n",
        "  # where some data has already been plotted to ax\n",
        "  handles = []\n",
        "  handles.append(\n",
        "      Line2D([0], [0], color='black', linewidth=1, linestyle='-', label='Train'))\n",
        "  handles.append(\n",
        "      Line2D([0], [0], color='black', linewidth=1, linestyle=':', label='Valid'))\n",
        "  plt.legend(handles, [h.get_label() for h in handles], fontsize=14)\n",
        "  plt.tight_layout()\n",
        "\n",
        "# Scaling the data\n",
        "class TrainObject(object):\n",
        "    # Scaling the data\n",
        "    def __init__(self, X, y, nps= False):\n",
        "        assert len(X) == len(y)\n",
        "        # mean = np.mean(X, axis=2, keepdims=True)\n",
        "        # # Here normalise across the window, when channel size is not large enough\n",
        "        # # In motor imagery kit, we put axis = 1, across channel as an example\n",
        "        # std = np.std(X, axis=2, keepdims=True)\n",
        "        # X = (X - mean) / std\n",
        "        X = zscore(X)\n",
        "        # we scale it to 1000 as a better training scale of the shallow CNN\n",
        "        # according to the orignal work of the paper referenced above\n",
        "        if (nps == False):\n",
        "          self.X = np_to_var(X.astype(np.float32)*1e3).to(device)\n",
        "          self.y = np_to_var(y.astype(np.int8)).to(device)\n",
        "        else:\n",
        "          self.X = X.astype(np.float32)*1e3\n",
        "          self.y = y.astype(np.int8)\n",
        "\n",
        "def predict_leaderboard_unlabelled(clf, save_fname, x_test_data = None, emb = False,nps=False):\n",
        "  # Test Data - 6 to 17 - 12 subjects \n",
        "  if x_test_data is None:\n",
        "    _, _, X_test, _ = dsl.get_data(subjects=range(6, 18)) \n",
        "    print(\"Sleep leaderboard - Test Data : There are {} trials with {} electrodes and {} time samples\".format(*X_test.shape))\n",
        "\n",
        "    # print(X_test.shape[0])\n",
        "\n",
        "    x_test_mean = TrainObject(X_test, y = np.zeros(X_test.shape[0]),nps=nps)\n",
        "    if (nps==False):\n",
        "      # means torch must've been the input to the classifier\n",
        "      x_test_data = Dataset(x_test_mean.X,x_test_mean.y)\n",
        "      # Maybe put a tqdm bar?\n",
        "      y_pred = clf.predict(x_test_data)\n",
        "    else:\n",
        "      x_test_data = x_test_mean \n",
        "      y_pred = clf.predict(x_test_data.X)\n",
        "  else:\n",
        "    y_pred = clf.predict(x_test_data)\n",
        "  print(x_test_data.shape)\n",
        "\n",
        "  print(\"Checking if all classes have been predicted\")\n",
        "  print(np.unique(y_pred))\n",
        "  #@markdown Set the save_path for saving the prediction\n",
        "  save_path = \"/content/drive/MyDrive/mne_data/NeuroIPS_Hack_Sleep/predict/\" #@param\n",
        "  np.savetxt(save_path+save_fname+\".txt\",y_pred,delimiter=',',fmt=\"%d\")"
      ],
      "execution_count": null,
      "outputs": []
    },
    {
      "cell_type": "code",
      "metadata": {
        "id": "kHWXsvutVDsq",
        "cellView": "form"
      },
      "source": [
        "#@title Helper Functions for loading the Data\n",
        "def get_trainB():\n",
        "  start = time.time()\n",
        "  dss = BeetlSleepSource()\n",
        "  \n",
        "  start = time.time()\n",
        "  X_train, y_train, _ = dss.get_data()\n",
        "  end = time.time()\n",
        "\n",
        "  print(f\"Train data load time {(end-start)/60} min\")\n",
        "  print(X_train.shape,y_train.shape)\n",
        "  label_count(y_train)\n",
        "\n",
        "  # z-scoring or normalizing\n",
        "  \n",
        "  # start = time.time()\n",
        "  trainX = TrainObject(X_train, y = y_train, nps = False)\n",
        "  end = time.time()\n",
        "  print(f\"Z-scoring time {end-start}\")\n",
        "  \n",
        "  start = time.time()\n",
        "  # trainB = Dataset(trainX)\n",
        "  trainB = Dataset(trainX.X,trainX.y)\n",
        "  end = time.time()\n",
        "  print(f\"Torch dataset time {end-start} sec = {(end-start)/60} min\")\n",
        "  # 10 sec + 7 min\n",
        "  return trainB\n",
        "\n",
        "def get_valB():\n",
        "  # valB\n",
        "  # Labelled Leaderboard Data\n",
        "  start = time.time()\n",
        "  dsl = BeetlSleepLeaderboard()\n",
        "  # dsl.get_data()\n",
        "\n",
        "  # Validation Data - 5? 6? subjects from the test group - Competition says 5, looks like 6\n",
        "\n",
        "  X_target, y_target, _, _ = dsl.get_data(subjects=range(0,6))\n",
        "\n",
        "  end = time.time()\n",
        "  print(f\"leaderboard labelled load time = {(end-start)/60} min\")\n",
        "\n",
        "  print(X_target.shape,y_target.shape)\n",
        "  label_count(y_target)\n",
        "\n",
        "  # z-scoring or normalizing\n",
        "  start = time.time()\n",
        "  valX = TrainObject(X_target, y = y_target, nps = False)\n",
        "  end = time.time()\n",
        "  print(f\"Z-scoring time {end-start} sec\")\n",
        "\n",
        "  \n",
        "  # for braindecode\n",
        "  start = time.time()\n",
        "  valB = Dataset(valX.X,valX.y)\n",
        "  end = time.time()\n",
        "  print(f\"Torch dataset time {end-start} sec = {(end-start)/60} min\")\n",
        "  # 3 sec + 1.5 min\n",
        "  return valB\n",
        "\n",
        "def get_testB():\n",
        "  dsl = BeetlSleepLeaderboard()\n",
        "  _, _, X_test, _ = dsl.get_data(subjects=range(6, 18)) \n",
        "  print(\"Sleep leaderboard - Test Data : There are {} trials with {} electrodes and {} time samples\".format(*X_test.shape))\n",
        "  # print(X_test.shape[0])\n",
        "  # x_test_mean = TrainObject(X_test, y = np.zeros(X_test.shape[0]),nps=nps)\n",
        "\n",
        "  # z-scoring or normalizing\n",
        "  start = time.time()\n",
        "  testX = TrainObject(X_test, y = np.zeros(X_test.shape[0]), nps = False)\n",
        "  end = time.time()\n",
        "  print(f\"Z-scoring time {end-start} sec\")\n",
        "  \n",
        "  # for braindecode\n",
        "  start = time.time()\n",
        "  testB = Dataset(testX.X,testX.y)\n",
        "  end = time.time()\n",
        "  print(f\"Torch dataset time {end-start} sec = {(end-start)/60} min\")\n",
        "  return testB\n",
        "\n",
        "def get_valC():\n",
        "  # Phase 2 Target Data\n",
        "  # Need to download by myself first\n",
        "  target_savebase = '/content/drive/MyDrive/mne_data/MNE-beetlsleeptest-data/sleep_target/'\n",
        "  X_sleep_target = []\n",
        "  y_sleep_target = []\n",
        "  #from s0-s4 in final set\n",
        "  start = time.time()\n",
        "  for subj in range(0, 5):\n",
        "      for session in range(1, 3):\n",
        "          # \"testing_s{}r{}X.npy\", replacing \"leaderboard_s{}r{}X.npy\" before\n",
        "          with open(target_savebase + \"testing_s{}r{}X.npy\".format(subj, session), 'rb') as f:\n",
        "            X_sleep_target.append(pickle.load(f))\n",
        "          with open(target_savebase + \"testing_s{}r{}y.npy\".format(subj, session), 'rb') as g:\n",
        "            y_sleep_target.append(pickle.load(g))\n",
        "  X_sleep_target = np.concatenate(X_sleep_target)\n",
        "  y_sleep_target = np.concatenate(y_sleep_target)\n",
        "\n",
        "\n",
        "  end = time.time()\n",
        "  print(f\"phase 2 labelled load time = {(end-start)/60} min\")\n",
        "\n",
        "  print(\"There are {} trials with {} electrodes and {} time samples\".format(*X_sleep_target.shape))\n",
        "  print(X_sleep_target.shape, y_sleep_target.shape)\n",
        "  label_count(y_sleep_target)\n",
        "\n",
        "  # package in torch dataset with mean normalizing\n",
        "  # z-scoring or normalizing\n",
        "  start = time.time()\n",
        "  valX = TrainObject(X_sleep_target, y = y_sleep_target, nps = False)\n",
        "  end = time.time()\n",
        "  print(f\"Z-scoring time {end-start} sec\")\n",
        "\n",
        "  \n",
        "  # for braindecode\n",
        "  start = time.time()\n",
        "  valC = Dataset(valX.X,valX.y)\n",
        "  end = time.time()\n",
        "  print(f\"Torch dataset time {end-start} sec = {(end-start)/60} min\")\n",
        "  # \n",
        "  return valC\n",
        "\n",
        "def get_testC():\n",
        "  # Phase 2 Test Data - Need to download by myself first\n",
        "  test_savebase = '/content/drive/MyDrive/mne_data/MNE-beetlsleeptest-data/testing/'\n",
        "  X_sleep_test = []\n",
        "  start = time.time()\n",
        "\n",
        "  #starts from s5 in final set\n",
        "  for subj in range(5, 14):\n",
        "      for session in range(1, 3):\n",
        "          # \"testing_s{}r{}X.npy\", replacing \"leaderboard_s{}r{}X.npy\" before\n",
        "          with open(test_savebase + \"testing_s{}r{}X.npy\".format(subj, session), 'rb') as f:\n",
        "              X_sleep_test.append(pickle.load(f))\n",
        "  X_sleep_test = np.concatenate(X_sleep_test)\n",
        "  end = time.time()\n",
        "  print(f\"phase 2 final test set load time = {(end-start)/60} min\")\n",
        "  print (\"There are {} trials with {} electrodes and {} time samples\".format(*X_sleep_test.shape))\n",
        "\n",
        "  # package in torch dataset with mean normalizing\n",
        "  # z-scoring or normalizing\n",
        "  start = time.time()\n",
        "  testX = TrainObject(X_sleep_test, y = np.zeros(X_sleep_test.shape[0]), nps = False)\n",
        "  end = time.time()\n",
        "  print(f\"Z-scoring time {end-start} sec\")\n",
        "  \n",
        "  # for braindecode\n",
        "  start = time.time()\n",
        "  testC = Dataset(testX.X,testX.y)\n",
        "  end = time.time()\n",
        "  print(f\"Torch dataset time {end-start} sec = {(end-start)/60} min\")\n",
        "  return testC"
      ],
      "execution_count": null,
      "outputs": []
    },
    {
      "cell_type": "code",
      "metadata": {
        "id": "VFdTDRSBXXXM"
      },
      "source": [
        "from time import time as t\n",
        "def load_obj(path,name):\n",
        "  target = path + name + '.pkl'\n",
        "  with open(target, 'rb') as f:\n",
        "    unpickler = pickle.Unpickler(f)\n",
        "    a = unpickler.load()\n",
        "    return a"
      ],
      "execution_count": null,
      "outputs": []
    },
    {
      "cell_type": "code",
      "metadata": {
        "colab": {
          "base_uri": "https://localhost:8080/"
        },
        "id": "kRK7hmlqXtJB",
        "outputId": "9143d181-759e-44fc-89a8-229bdbdba94c"
      },
      "source": [
        "# Loading the data as Torch datasets with z-scoring\n",
        "trainB = get_trainB()\n",
        "valB = get_valB()\n",
        "testB = get_testB()"
      ],
      "execution_count": null,
      "outputs": [
        {
          "output_type": "stream",
          "name": "stdout",
          "text": [
            "Train data load time 2.091049063205719 min\n",
            "(90545, 2, 3000) (90545,)\n",
            "[24043  7941 35983  5247  3057 14274]\n",
            "Z-scoring time 142.37633633613586\n",
            "Torch dataset time 0.0035288333892822266 sec = 5.8813889821370444e-05 min\n",
            "leaderboard labelled load time = 0.3546595533688863 min\n",
            "(15442, 2, 3000) (15442,)\n",
            "[6010 1672 5035  704  414 1607]\n",
            "Z-scoring time 1.0841395854949951 sec\n",
            "Torch dataset time 9.655952453613281e-05 sec = 1.6093254089355469e-06 min\n",
            "Sleep leaderboard - Test Data : There are 25748 trials with 2 electrodes and 3000 time samples\n",
            "Z-scoring time 1.6269407272338867 sec\n",
            "Torch dataset time 7.843971252441406e-05 sec = 1.3073285420735677e-06 min\n"
          ]
        }
      ]
    },
    {
      "cell_type": "code",
      "metadata": {
        "colab": {
          "base_uri": "https://localhost:8080/"
        },
        "id": "eV32LyTYm4Sr",
        "outputId": "d0ac10da-276c-4664-caf6-d2cee351441a"
      },
      "source": [
        "print(trainB)\n",
        "print(valB)\n",
        "print(testB)"
      ],
      "execution_count": null,
      "outputs": [
        {
          "output_type": "stream",
          "name": "stdout",
          "text": [
            "<skorch.dataset.Dataset object at 0x7f408e16acd0>\n",
            "<skorch.dataset.Dataset object at 0x7f40958a1790>\n",
            "<skorch.dataset.Dataset object at 0x7f41141f1050>\n"
          ]
        }
      ]
    },
    {
      "cell_type": "markdown",
      "metadata": {
        "id": "Ua33ZwTOf_HG"
      },
      "source": [
        "# Blanco2020 Model"
      ]
    },
    {
      "cell_type": "markdown",
      "metadata": {
        "id": "XcXLJVhxgWr1"
      },
      "source": [
        "\n",
        "\n",
        "Checkpointing based on val_loss_best, no early stopping"
      ]
    },
    {
      "cell_type": "code",
      "metadata": {
        "id": "A1zdYna3d3bR"
      },
      "source": [
        "#@title Blanco2020 Model(Titled SleepEEG here).. Run this Cell.\n",
        "class SleepEEG(nn.Module):\n",
        "    \"\"\"Sleep staging architecture from Blanco et al 2020.\n",
        "\n",
        "    Convolutional neural network for sleep staging described in [Blanco2020]_.\n",
        "    A series of seven convolutional layers with kernel sizes running down from 7 to 3,\n",
        "    in an attempt to extract more general features at the beginning, while more specific\n",
        "    and complex features were extracted in the final stages.\n",
        "\n",
        "    Parameters\n",
        "    ----------\n",
        "    n_channels : int\n",
        "        Number of EEG channels.\n",
        "    sfreq : float\n",
        "        EEG sampling frequency.\n",
        "    n_conv_chans : int\n",
        "        Number of convolutional channels. Set to 20 in [Blanco2020]_.\n",
        "    n_groups : int\n",
        "        Number of groups for the convolution. Set to 2 in [Blanco2020]_ for 2 Channel EEG.\n",
        "        controls the connections between inputs and outputs. n_channels and n_conv_chans must be\n",
        "        divisible by n_groups.\n",
        "    input_size_s : float\n",
        "        Size of the input, in seconds.\n",
        "    n_classes : int\n",
        "        Number of classes.\n",
        "    dropout : float\n",
        "        Dropout rate before the output dense layer.\n",
        "    apply_batch_norm : bool\n",
        "        If True, apply batch normalization after both temporal convolutional\n",
        "        layers.\n",
        "\n",
        "    References\n",
        "    ----------\n",
        "    .. [Blanco2020] Fernandez-Blanco, E., Rivero, D. & Pazos, A. Convolutional\n",
        "        neural networks for sleep stage scoring on a two-channel EEG signal.\n",
        "        Soft Comput 24, 4067–4079 (2020). https://doi.org/10.1007/s00500-019-04174-1\n",
        "    \"\"\"\n",
        "\n",
        "    def __init__(self, n_channels, sfreq, n_conv_chs=20, time_conv_size_s=0.5,\n",
        "                 max_pool_size_s=0.125, pad_size_s=0.25, input_size_s=30,\n",
        "                 n_classes=5, dropout=0.5, apply_batch_norm=False):\n",
        "        super().__init__()\n",
        "\n",
        "        time_conv_size = 7\n",
        "        max_pool_size = 2\n",
        "        input_size = np.ceil(input_size_s * sfreq).astype(int)\n",
        "\n",
        "        self.n_channels = n_channels\n",
        "\n",
        "        batch_norm = nn.BatchNorm2d if apply_batch_norm else nn.Identity\n",
        "\n",
        "        n_groups = 2\n",
        "        self.feature_extractor = nn.Sequential(\n",
        "            nn.Conv2d(2, n_conv_chs, (1, 7), groups = n_groups, padding=0),\n",
        "            batch_norm(n_conv_chs),\n",
        "            nn.ReLU(),\n",
        "            nn.MaxPool2d((1, max_pool_size)),\n",
        "            nn.Conv2d(n_conv_chs, n_conv_chs, (1, 7), groups =n_conv_chs, padding=0),\n",
        "            batch_norm(n_conv_chs),\n",
        "            nn.ReLU(),\n",
        "            nn.MaxPool2d((1, max_pool_size)),\n",
        "            nn.Conv2d(n_conv_chs, n_conv_chs, (1, 5), groups =n_conv_chs, padding=0),\n",
        "            batch_norm(n_conv_chs),\n",
        "            nn.ReLU(),\n",
        "            nn.MaxPool2d((1, max_pool_size)),\n",
        "            nn.Conv2d(n_conv_chs, n_conv_chs, (1, 5), groups =n_conv_chs, padding=0),\n",
        "            batch_norm(n_conv_chs),\n",
        "            nn.ReLU(),\n",
        "            nn.MaxPool2d((1, max_pool_size)),\n",
        "            nn.Conv2d(n_conv_chs, n_conv_chs, (1, 5), groups =n_conv_chs, padding=0),\n",
        "            batch_norm(n_conv_chs),\n",
        "            nn.ReLU(),\n",
        "            nn.MaxPool2d((1, max_pool_size)),\n",
        "            nn.Conv2d(n_conv_chs, n_conv_chs, (1, 3), groups =n_conv_chs, padding=0),\n",
        "            batch_norm(n_conv_chs),\n",
        "            nn.ReLU(),\n",
        "            nn.MaxPool2d((1, max_pool_size)),\n",
        "            nn.Conv2d(n_conv_chs, n_conv_chs, (1, 3), groups =n_conv_chs, padding=0),\n",
        "            batch_norm(n_conv_chs),\n",
        "            nn.ReLU(),\n",
        "            nn.MaxPool2d((1, max_pool_size))\n",
        "        )\n",
        "        self.len_last_layer = self._len_last_layer(n_channels, input_size)\n",
        "        self.fc = nn.Sequential(\n",
        "            nn.Dropout(dropout),\n",
        "            nn.Linear(self.len_last_layer, n_classes),\n",
        "            nn.Softmax(dim=1)\n",
        "        )\n",
        "\n",
        "    def _len_last_layer(self, n_channels, input_size):\n",
        "        self.feature_extractor.eval()\n",
        "        with torch.no_grad():\n",
        "            out = self.feature_extractor(\n",
        "                torch.Tensor(1,n_channels, 1, input_size)) # batch_size,n_channels,height, width\n",
        "        self.feature_extractor.train()\n",
        "        return len(out.flatten())\n",
        "\n",
        "    def embed(self, x):\n",
        "        if x.ndim == 3:\n",
        "            x = x.unsqueeze(2)\n",
        "\n",
        "        return self.feature_extractor(x).flatten(start_dim=1)\n",
        "\n",
        "    def forward(self, x):\n",
        "        \"\"\"\n",
        "        Forward pass.\n",
        "        Parameters\n",
        "        ----------\n",
        "        x: torch.Tensor\n",
        "            Batch of EEG windows of shape (batch_size, n_channels, n_times).\n",
        "        \"\"\"\n",
        "\n",
        "        return self.fc(self.embed(x))\n"
      ],
      "execution_count": null,
      "outputs": []
    },
    {
      "cell_type": "markdown",
      "metadata": {
        "id": "OSG377pM5OhZ"
      },
      "source": [
        "# Model training on first group data"
      ]
    },
    {
      "cell_type": "code",
      "metadata": {
        "colab": {
          "base_uri": "https://localhost:8080/"
        },
        "id": "Z9JIBrTmepcT",
        "outputId": "be4651a9-4b1b-4756-f646-94c1cd82258d"
      },
      "source": [
        "n_classes = 6\n",
        "sfreq = 100\n",
        "# Extract number of channels and time steps from dataset\n",
        "# n_channels = X_train[0].shape[0] #2\n",
        "n_channels = 2\n",
        "print(n_channels)\n",
        "# input_size_samples = X_train[0].shape[1]\n",
        "input_size_samples = 3000\n",
        "print(input_size_samples)\n",
        "\n",
        "model = SleepEEG(\n",
        "    n_channels,\n",
        "    sfreq,\n",
        "    n_classes=n_classes,\n",
        "    input_size_s=input_size_samples / sfreq\n",
        ")\n",
        "\n",
        "# Send model to GPU\n",
        "if cuda:\n",
        "    model.cuda()\n",
        "print(model)"
      ],
      "execution_count": null,
      "outputs": [
        {
          "output_type": "stream",
          "name": "stdout",
          "text": [
            "2\n",
            "3000\n"
          ]
        },
        {
          "output_type": "stream",
          "name": "stderr",
          "text": [
            "/usr/local/lib/python3.7/dist-packages/torch/nn/functional.py:718: UserWarning: Named tensors and all their associated APIs are an experimental feature and subject to change. Please do not use them for anything important until they are released as stable. (Triggered internally at  /pytorch/c10/core/TensorImpl.h:1156.)\n",
            "  return torch.max_pool2d(input, kernel_size, stride, padding, dilation, ceil_mode)\n"
          ]
        },
        {
          "output_type": "stream",
          "name": "stdout",
          "text": [
            "SleepEEG(\n",
            "  (feature_extractor): Sequential(\n",
            "    (0): Conv2d(2, 20, kernel_size=(1, 7), stride=(1, 1), groups=2)\n",
            "    (1): Identity()\n",
            "    (2): ReLU()\n",
            "    (3): MaxPool2d(kernel_size=(1, 2), stride=(1, 2), padding=0, dilation=1, ceil_mode=False)\n",
            "    (4): Conv2d(20, 20, kernel_size=(1, 7), stride=(1, 1), groups=20)\n",
            "    (5): Identity()\n",
            "    (6): ReLU()\n",
            "    (7): MaxPool2d(kernel_size=(1, 2), stride=(1, 2), padding=0, dilation=1, ceil_mode=False)\n",
            "    (8): Conv2d(20, 20, kernel_size=(1, 5), stride=(1, 1), groups=20)\n",
            "    (9): Identity()\n",
            "    (10): ReLU()\n",
            "    (11): MaxPool2d(kernel_size=(1, 2), stride=(1, 2), padding=0, dilation=1, ceil_mode=False)\n",
            "    (12): Conv2d(20, 20, kernel_size=(1, 5), stride=(1, 1), groups=20)\n",
            "    (13): Identity()\n",
            "    (14): ReLU()\n",
            "    (15): MaxPool2d(kernel_size=(1, 2), stride=(1, 2), padding=0, dilation=1, ceil_mode=False)\n",
            "    (16): Conv2d(20, 20, kernel_size=(1, 5), stride=(1, 1), groups=20)\n",
            "    (17): Identity()\n",
            "    (18): ReLU()\n",
            "    (19): MaxPool2d(kernel_size=(1, 2), stride=(1, 2), padding=0, dilation=1, ceil_mode=False)\n",
            "    (20): Conv2d(20, 20, kernel_size=(1, 3), stride=(1, 1), groups=20)\n",
            "    (21): Identity()\n",
            "    (22): ReLU()\n",
            "    (23): MaxPool2d(kernel_size=(1, 2), stride=(1, 2), padding=0, dilation=1, ceil_mode=False)\n",
            "    (24): Conv2d(20, 20, kernel_size=(1, 3), stride=(1, 1), groups=20)\n",
            "    (25): Identity()\n",
            "    (26): ReLU()\n",
            "    (27): MaxPool2d(kernel_size=(1, 2), stride=(1, 2), padding=0, dilation=1, ceil_mode=False)\n",
            "  )\n",
            "  (fc): Sequential(\n",
            "    (0): Dropout(p=0.5, inplace=False)\n",
            "    (1): Linear(in_features=400, out_features=6, bias=True)\n",
            "    (2): Softmax(dim=1)\n",
            "  )\n",
            ")\n"
          ]
        }
      ]
    },
    {
      "cell_type": "code",
      "metadata": {
        "colab": {
          "base_uri": "https://localhost:8080/",
          "height": 307
        },
        "id": "zU0Qho8bfYQ2",
        "outputId": "b3114fa0-6a5e-4bd8-ffcc-201a6997d3e6"
      },
      "source": [
        "# Create a wandb run\n",
        "wandb_run = wandb.init(name = \"300 epoch train\", project='cnn-fulltrain', entity='sleep_hacking')\n",
        "\n",
        "lr = 5e-3\n",
        "batch_size = 128\n",
        "n_epochs = 300\n",
        "\n",
        "# Log hyperparameters\n",
        "# wandb_run.config.update({\"learning rate\": lr, \"batch size\": batch_size})\n",
        "\n",
        "# Callback WandbLogger logs the \"best trained model\", etc. after every epoch\n",
        "# Not sure of definition of best trained\n",
        "\n",
        "train_bacc = EpochScoring(\n",
        "    scoring='balanced_accuracy', on_train=True, name='train_bacc',\n",
        "    lower_is_better=False)\n",
        "valid_bacc = EpochScoring(\n",
        "    scoring='balanced_accuracy', on_train=False, name='valid_bacc',\n",
        "    lower_is_better=False)\n",
        "callbacks = [('train_bal_acc', train_bacc),\n",
        "             ('valid_bal_acc', valid_bacc),\n",
        "             (\"checkpoint\",Checkpoint(\n",
        "                 monitor = 'valid_bacc_best',\n",
        "                 f_params = None, f_optimizer = None, f_criterion = None,\n",
        "                 f_pickle = \"model_{last_epoch[epoch]}.pkl\",\n",
        "                 dirname = \"/content/drive/MyDrive/mne_data/fulltrain300_checkpoints\")),\n",
        "             (\"wandb\",WandbLogger(wandb_run))\n",
        "             ]\n",
        "\n",
        "def get_labels(x):\n",
        "  return x.y.cpu()\n",
        "\n",
        "arg_dict ={\n",
        "    'iterator_train__batch_size': batch_size,\n",
        "    'iterator_train__sampler': IDS(train,callback_get_label=get_labels),\n",
        "    'iterator_train__shuffle': False,\n",
        "    # 'iterator_val_...'\n",
        "    # 'iterator_train__sampler__callback_get_label':lambda x:x.y.cpu()                                         \n",
        "}\n",
        "\n",
        "clf = EEGClassifier(\n",
        "    model,\n",
        "    criterion=torch.nn.CrossEntropyLoss,\n",
        "    optimizer=torch.optim.SGD,\n",
        "    train_split=predefined_split(valB),  # using valid_set for validation\n",
        "    # train_split=skorch.dataset.CVSplit(10),\n",
        "    # train_split=None,\n",
        "    iterator_train = DataLoader,\n",
        "    # iterator_valid = dl,\n",
        "    optimizer__lr=lr,\n",
        "    batch_size=batch_size,\n",
        "    callbacks=callbacks,\n",
        "    device=device,\n",
        "    **arg_dict\n",
        ")\n",
        "print(clf)"
      ],
      "execution_count": null,
      "outputs": [
        {
          "output_type": "error",
          "ename": "NameError",
          "evalue": "ignored",
          "traceback": [
            "\u001b[0;31m---------------------------------------------------------------------------\u001b[0m",
            "\u001b[0;31mNameError\u001b[0m                                 Traceback (most recent call last)",
            "\u001b[0;32m<ipython-input-17-eb74bd14d5eb>\u001b[0m in \u001b[0;36m<module>\u001b[0;34m()\u001b[0m\n\u001b[1;32m     25\u001b[0m                  \u001b[0mf_pickle\u001b[0m \u001b[0;34m=\u001b[0m \u001b[0;34m\"model_{last_epoch[epoch]}.pkl\"\u001b[0m\u001b[0;34m,\u001b[0m\u001b[0;34m\u001b[0m\u001b[0;34m\u001b[0m\u001b[0m\n\u001b[1;32m     26\u001b[0m                  dirname = \"/content/drive/MyDrive/mne_data/fulltrain300_checkpoints\")),\n\u001b[0;32m---> 27\u001b[0;31m              \u001b[0;34m(\u001b[0m\u001b[0;34m\"wandb\"\u001b[0m\u001b[0;34m,\u001b[0m\u001b[0mWandbLogger\u001b[0m\u001b[0;34m(\u001b[0m\u001b[0mwandb_run\u001b[0m\u001b[0;34m)\u001b[0m\u001b[0;34m)\u001b[0m\u001b[0;34m\u001b[0m\u001b[0;34m\u001b[0m\u001b[0m\n\u001b[0m\u001b[1;32m     28\u001b[0m              ]\n\u001b[1;32m     29\u001b[0m \u001b[0;34m\u001b[0m\u001b[0m\n",
            "\u001b[0;31mNameError\u001b[0m: name 'wandb_run' is not defined"
          ]
        }
      ]
    },
    {
      "cell_type": "code",
      "metadata": {
        "id": "R2q-m4KVf6sw"
      },
      "source": [
        "# Optional loading of model if already trained\n",
        "# load the model\n",
        "# with open('/content/drive/MyDrive/mne_data/fulltrain_CNN_model_13.pkl', 'rb') as f:\n",
        "#     clf = pickle.load(f)\n",
        "\n",
        "# wandb_run = wandb.init(project='fullrun', entity='sleep_hacking')\n",
        "# clf.set_params(callbacks__wandb = WandbLogger(wandb_run))\n",
        "# print(clf)"
      ],
      "execution_count": null,
      "outputs": []
    },
    {
      "cell_type": "code",
      "metadata": {
        "colab": {
          "base_uri": "https://localhost:8080/"
        },
        "id": "gYTTP_vY6FlX",
        "outputId": "29b7b868-3077-4d68-f3cb-43df5a5ce0b8"
      },
      "source": [
        "start = time.time()\n",
        "# Model training for a specified number of epochs. `y` is None as it is already\n",
        "# supplied in the dataset.\n",
        "# clf.fit(dl.dataset.X.cpu(), y=dl.dataset.y.cpu(), epochs=n_epochs)\n",
        "clf.fit(train, y=None, epochs=n_epochs)\n",
        "end = time.time()\n",
        "print(f'time taken : {end-start}')\n",
        "# saving\n",
        "with open('/content/drive/MyDrive/mne_data/sleepEEGmodel_fulltrain300.pkl', 'wb') as f:\n",
        "    pickle.dump(model, f)"
      ],
      "execution_count": null,
      "outputs": [
        {
          "name": "stdout",
          "output_type": "stream",
          "text": [
            "  epoch    train_bacc    train_loss    valid_bacc    valid_loss    cp     dur\n",
            "-------  ------------  ------------  ------------  ------------  ----  ------\n",
            "      1        \u001b[36m0.4112\u001b[0m        \u001b[32m1.6161\u001b[0m        \u001b[35m0.3726\u001b[0m        \u001b[31m1.7306\u001b[0m     +  6.6566\n",
            "      2        \u001b[36m0.4218\u001b[0m        \u001b[32m1.6088\u001b[0m        \u001b[35m0.3920\u001b[0m        \u001b[31m1.6755\u001b[0m     +  6.7166\n",
            "      3        \u001b[36m0.4619\u001b[0m        \u001b[32m1.5707\u001b[0m        \u001b[35m0.4565\u001b[0m        \u001b[31m1.5459\u001b[0m     +  7.5454\n",
            "      4        \u001b[36m0.4933\u001b[0m        \u001b[32m1.5409\u001b[0m        0.4397        \u001b[31m1.5359\u001b[0m        6.7412\n",
            "      5        \u001b[36m0.5032\u001b[0m        \u001b[32m1.5318\u001b[0m        \u001b[35m0.4797\u001b[0m        \u001b[31m1.5055\u001b[0m     +  7.2136\n",
            "      6        \u001b[36m0.5076\u001b[0m        \u001b[32m1.5248\u001b[0m        0.4369        \u001b[31m1.4984\u001b[0m        6.6345\n",
            "      7        \u001b[36m0.5098\u001b[0m        \u001b[32m1.5227\u001b[0m        0.4661        \u001b[31m1.4636\u001b[0m        7.2305\n",
            "      8        \u001b[36m0.5137\u001b[0m        \u001b[32m1.5207\u001b[0m        0.4383        1.5252        6.6246\n",
            "      9        \u001b[36m0.5174\u001b[0m        \u001b[32m1.5163\u001b[0m        0.4207        1.4726        6.7199\n",
            "     10        \u001b[36m0.5203\u001b[0m        \u001b[32m1.5143\u001b[0m        0.4305        1.4958        6.6307\n",
            "     11        0.5186        \u001b[32m1.5139\u001b[0m        0.4341        1.4760        6.6710\n",
            "     12        0.5202        \u001b[32m1.5121\u001b[0m        0.4190        1.4790        6.6221\n",
            "     13        \u001b[36m0.5222\u001b[0m        \u001b[32m1.5106\u001b[0m        0.4617        \u001b[31m1.4569\u001b[0m        6.6755\n",
            "     14        \u001b[36m0.5252\u001b[0m        \u001b[32m1.5080\u001b[0m        0.4701        1.4580        6.6261\n",
            "     15        \u001b[36m0.5275\u001b[0m        \u001b[32m1.5054\u001b[0m        0.4521        \u001b[31m1.4469\u001b[0m        6.5898\n",
            "     16        0.5246        1.5100        0.4263        \u001b[31m1.4455\u001b[0m        6.6341\n",
            "     17        0.5243        1.5089        0.4788        1.4673        6.6162\n",
            "     18        \u001b[36m0.5301\u001b[0m        \u001b[32m1.5044\u001b[0m        0.4300        1.4787        6.8002\n",
            "     19        \u001b[36m0.5338\u001b[0m        \u001b[32m1.5004\u001b[0m        0.4670        \u001b[31m1.4435\u001b[0m        6.7814\n",
            "     20        0.5316        1.5022        0.4674        1.4539        6.6591\n",
            "     21        \u001b[36m0.5345\u001b[0m        \u001b[32m1.4984\u001b[0m        0.4702        1.4635        6.7306\n",
            "     22        \u001b[36m0.5355\u001b[0m        1.4989        0.4578        1.4543        6.6560\n",
            "     23        0.5349        1.5007        0.4656        1.5102        6.7132\n",
            "     24        0.5340        1.5011        \u001b[35m0.5054\u001b[0m        \u001b[31m1.4421\u001b[0m     +  6.7007\n",
            "     25        \u001b[36m0.5384\u001b[0m        \u001b[32m1.4964\u001b[0m        0.5029        1.4607        6.6625\n",
            "     26        \u001b[36m0.5394\u001b[0m        1.4973        0.4036        1.4666        7.4179\n",
            "     27        \u001b[36m0.5402\u001b[0m        \u001b[32m1.4956\u001b[0m        0.4868        1.4713        6.6496\n",
            "     28        \u001b[36m0.5404\u001b[0m        \u001b[32m1.4944\u001b[0m        0.4729        1.4475        6.6604\n",
            "     29        \u001b[36m0.5409\u001b[0m        1.4947        0.4711        \u001b[31m1.4373\u001b[0m        6.6360\n",
            "     30        0.5395        1.4954        0.4926        1.4440        6.6925\n",
            "     31        \u001b[36m0.5443\u001b[0m        \u001b[32m1.4904\u001b[0m        0.4754        1.4672        6.6675\n",
            "     32        0.5435        1.4916        \u001b[35m0.5101\u001b[0m        \u001b[31m1.4207\u001b[0m     +  6.6313\n",
            "     33        0.5410        1.4928        0.4874        1.4789        6.6693\n",
            "     34        0.5429        1.4928        0.4733        1.4691        7.3228\n",
            "     35        0.5403        1.4951        0.4732        1.4795        6.6648\n",
            "     36        0.5437        1.4912        \u001b[35m0.5235\u001b[0m        1.4328     +  6.6839\n",
            "     37        0.5442        1.4915        0.4785        1.4270        6.6866\n",
            "     38        \u001b[36m0.5452\u001b[0m        \u001b[32m1.4893\u001b[0m        0.5103        1.4472        7.4076\n",
            "     39        \u001b[36m0.5465\u001b[0m        \u001b[32m1.4883\u001b[0m        \u001b[35m0.5378\u001b[0m        \u001b[31m1.4199\u001b[0m     +  6.6552\n",
            "     40        \u001b[36m0.5470\u001b[0m        \u001b[32m1.4864\u001b[0m        0.5121        \u001b[31m1.4144\u001b[0m        6.6046\n",
            "     41        0.5454        1.4889        0.4451        1.4712        7.2222\n",
            "     42        \u001b[36m0.5471\u001b[0m        1.4880        0.4781        1.4423        6.7546\n",
            "     43        \u001b[36m0.5491\u001b[0m        \u001b[32m1.4860\u001b[0m        0.4873        1.4443        6.6758\n",
            "     44        \u001b[36m0.5515\u001b[0m        \u001b[32m1.4839\u001b[0m        0.4851        1.4346        6.6858\n",
            "     45        0.5506        1.4841        0.4549        1.4852        6.6545\n",
            "     46        0.5497        1.4848        0.4832        1.4329        6.6763\n",
            "     47        0.5507        1.4841        0.4434        1.4503        6.6947\n",
            "     48        \u001b[36m0.5519\u001b[0m        1.4840        0.4317        1.4776        6.8927\n",
            "     49        \u001b[36m0.5536\u001b[0m        \u001b[32m1.4808\u001b[0m        0.4671        1.4689        6.6458\n",
            "     50        0.5523        1.4822        0.4983        1.4505        6.6209\n",
            "     51        \u001b[36m0.5547\u001b[0m        \u001b[32m1.4803\u001b[0m        0.4808        1.4155        6.6959\n",
            "     52        0.5537        1.4807        0.5126        1.4385        6.6693\n",
            "     53        \u001b[36m0.5569\u001b[0m        \u001b[32m1.4790\u001b[0m        \u001b[35m0.5378\u001b[0m        1.4303     +  6.6799\n",
            "     54        0.5557        1.4796        0.4319        1.4590        6.7186\n",
            "     55        0.5562        1.4793        0.4671        1.4408        7.3567\n",
            "     56        \u001b[36m0.5576\u001b[0m        \u001b[32m1.4774\u001b[0m        0.4681        1.4488        6.6524\n",
            "     57        \u001b[36m0.5581\u001b[0m        \u001b[32m1.4762\u001b[0m        0.4982        1.4280        6.6888\n",
            "     58        0.5581        1.4767        0.5188        1.4418        6.7467\n",
            "     59        0.5576        1.4764        0.4613        1.4596        6.6516\n",
            "     60        \u001b[36m0.5611\u001b[0m        \u001b[32m1.4756\u001b[0m        0.4156        1.4580        6.7737\n",
            "     61        0.5590        1.4756        0.4920        1.4337        6.6039\n",
            "     62        \u001b[36m0.5624\u001b[0m        \u001b[32m1.4727\u001b[0m        0.4706        1.4312        6.7357\n",
            "     63        0.5623        1.4736        0.4586        1.4684        6.9280\n",
            "     64        0.5612        1.4729        0.4844        1.4294        6.7553\n",
            "     65        \u001b[36m0.5626\u001b[0m        1.4730        0.4893        1.4479        6.7567\n",
            "     66        \u001b[36m0.5633\u001b[0m        \u001b[32m1.4724\u001b[0m        0.4843        1.4335        6.6878\n",
            "     67        0.5622        1.4725        0.5204        1.4205        6.7766\n",
            "     68        \u001b[36m0.5662\u001b[0m        \u001b[32m1.4693\u001b[0m        0.4475        1.4646        6.7707\n",
            "     69        0.5658        1.4694        0.5208        1.4310        6.7326\n",
            "     70        0.5650        1.4714        0.4985        1.4314        6.6645\n",
            "     71        0.5647        1.4710        0.5001        \u001b[31m1.4050\u001b[0m        6.7323\n",
            "     72        0.5643        1.4706        0.4384        1.4548        6.6235\n",
            "     73        0.5634        1.4725        0.5086        1.4554        6.7009\n",
            "     74        0.5643        1.4707        0.4697        1.4372        6.6517\n",
            "     75        0.5656        1.4712        0.5023        1.4140        6.6706\n",
            "     76        0.5647        1.4698        0.5175        1.4165        6.7083\n",
            "     77        \u001b[36m0.5668\u001b[0m        \u001b[32m1.4689\u001b[0m        0.4296        1.4783        6.6419\n",
            "     78        0.5636        1.4710        0.4529        1.4445        6.7151\n",
            "     79        \u001b[36m0.5684\u001b[0m        \u001b[32m1.4667\u001b[0m        0.4848        1.4634        6.6846\n",
            "     80        0.5673        1.4687        0.4709        1.4325        6.7012\n",
            "     81        \u001b[36m0.5688\u001b[0m        1.4670        0.4766        1.4350        6.7183\n",
            "     82        0.5674        1.4681        0.5147        1.4281        6.6483\n",
            "     83        0.5679        1.4678        0.4908        1.4114        6.6333\n",
            "     84        0.5675        1.4677        0.5051        1.4126        6.7993\n",
            "     85        0.5659        1.4704        0.4841        1.4477        6.6548\n",
            "     86        0.5686        \u001b[32m1.4664\u001b[0m        0.4915        1.4112        6.7722\n",
            "     87        0.5671        1.4677        0.4966        1.4353        6.6668\n",
            "     88        0.5665        1.4693        0.4638        1.4511        6.8580\n",
            "     89        0.5687        1.4666        0.4670        1.4617        6.6957\n",
            "     90        0.5673        1.4681        0.5114        1.4060        6.6940\n",
            "     91        \u001b[36m0.5693\u001b[0m        \u001b[32m1.4662\u001b[0m        0.4828        1.4595        6.7114\n",
            "     92        0.5677        1.4675        0.4886        1.4149        6.7548\n",
            "     93        0.5654        1.4693        0.4768        1.4356        6.6851\n",
            "     94        0.5677        1.4678        0.4939        1.4160        6.7852\n",
            "     95        0.5663        1.4686        0.4961        1.4483        6.6773\n",
            "     96        0.5668        1.4688        0.4816        1.4210        6.6403\n",
            "     97        0.5686        1.4674        0.4807        1.4337        6.7072\n",
            "     98        0.5682        1.4673        0.5137        1.4182        6.6680\n",
            "     99        0.5672        1.4679        0.4571        1.4526        6.7696\n",
            "    100        0.5681        1.4681        0.5235        1.4254        6.7013\n",
            "    101        \u001b[36m0.5728\u001b[0m        \u001b[32m1.4627\u001b[0m        \u001b[35m0.5422\u001b[0m        1.4150     +  6.6593\n",
            "    102        0.5677        1.4680        0.4882        1.4278        6.6681\n",
            "    103        \u001b[36m0.5728\u001b[0m        1.4636        0.5267        1.4145        7.3103\n",
            "    104        0.5709        1.4636        0.4643        1.4671        6.8179\n",
            "    105        \u001b[36m0.5736\u001b[0m        1.4628        0.4622        1.4580        6.7782\n",
            "    106        0.5710        1.4644        0.4706        1.4282        6.6888\n",
            "    107        0.5692        1.4661        0.5043        1.4308        6.7973\n",
            "    108        0.5697        1.4653        0.5189        1.4093        6.7338\n",
            "    109        0.5718        1.4646        0.5375        1.4141        6.6437\n",
            "    110        0.5723        1.4628        0.4942        1.4201        6.6645\n",
            "    111        0.5725        1.4636        0.4838        1.4411        6.7069\n",
            "    112        0.5721        1.4639        0.5209        1.4215        6.8714\n",
            "    113        0.5722        1.4637        0.5022        1.4270        6.7279\n",
            "    114        \u001b[36m0.5738\u001b[0m        \u001b[32m1.4627\u001b[0m        0.4700        1.4410        6.9193\n",
            "    115        0.5690        1.4658        0.4680        1.4366        6.7012\n",
            "    116        0.5715        1.4638        0.4933        1.4468        6.6679\n",
            "    117        0.5731        \u001b[32m1.4620\u001b[0m        0.4826        1.4373        6.7345\n",
            "    118        0.5716        1.4636        0.5119        1.4117        6.7756\n",
            "    119        0.5722        1.4632        0.4588        1.4569        6.9220\n",
            "    120        \u001b[36m0.5741\u001b[0m        \u001b[32m1.4607\u001b[0m        0.4640        1.4186        6.7476\n",
            "    121        \u001b[36m0.5743\u001b[0m        1.4615        0.4529        1.4528        6.7208\n",
            "    122        0.5703        1.4659        0.5268        1.4187        6.7982\n",
            "    123        0.5720        1.4630        0.5250        1.4082        6.6801\n",
            "    124        0.5735        1.4630        0.5232        1.4392        6.7743\n",
            "    125        \u001b[36m0.5753\u001b[0m        1.4607        0.4280        1.4398        6.8112\n",
            "    126        0.5739        1.4617        \u001b[35m0.5432\u001b[0m        1.4112     +  6.8156\n",
            "    127        0.5741        1.4620        0.4801        1.4406        6.8585\n",
            "    128        0.5730        1.4631        0.4861        1.4255        7.3396\n",
            "    129        0.5732        1.4626        0.5143        1.4099        6.7579\n",
            "    130        0.5703        1.4644        0.4883        1.4332        6.7538\n",
            "    131        0.5729        1.4632        0.4987        1.4149        6.7321\n",
            "    132        0.5725        1.4632        0.5134        1.4075        6.7232\n",
            "    133        0.5734        1.4623        0.5341        1.4567        6.8238\n",
            "    134        0.5728        1.4629        0.5013        1.4345        6.6763\n",
            "    135        0.5741        1.4621        0.4753        1.4287        6.7802\n",
            "    136        0.5742        1.4619        0.5000        1.4359        6.8360\n",
            "    137        \u001b[36m0.5753\u001b[0m        \u001b[32m1.4593\u001b[0m        0.4749        1.4206        6.7215\n",
            "    138        \u001b[36m0.5757\u001b[0m        1.4611        0.5120        1.4055        6.7842\n",
            "    139        0.5753        1.4607        0.4966        1.4054        6.7551\n",
            "    140        0.5738        1.4611        0.4358        1.4503        6.7843\n",
            "    141        0.5749        1.4607        0.4979        1.4431        6.8081\n",
            "    142        \u001b[36m0.5770\u001b[0m        1.4598        0.4910        1.4193        6.7428\n",
            "    143        0.5747        1.4608        0.4336        1.4557        6.7860\n",
            "    144        0.5763        \u001b[32m1.4586\u001b[0m        0.5008        1.4176        6.7843\n",
            "    145        0.5744        1.4608        0.4969        1.4471        6.7550\n",
            "    146        0.5768        1.4599        0.5200        1.4092        6.8232\n",
            "    147        0.5766        1.4594        0.4854        1.4411        6.7493\n",
            "    148        \u001b[36m0.5778\u001b[0m        \u001b[32m1.4586\u001b[0m        0.4739        1.4501        6.7448\n",
            "    149        0.5757        1.4586        0.4835        1.4092        6.8836\n",
            "    150        \u001b[36m0.5786\u001b[0m        \u001b[32m1.4577\u001b[0m        0.5170        1.4140        6.7994\n",
            "    151        0.5753        1.4611        0.4828        1.4273        6.7576\n",
            "    152        0.5785        \u001b[32m1.4573\u001b[0m        0.5284        1.4134        6.7708\n",
            "    153        \u001b[36m0.5789\u001b[0m        1.4576        0.4618        1.4482        6.7855\n",
            "    154        \u001b[36m0.5790\u001b[0m        \u001b[32m1.4572\u001b[0m        0.5224        1.4199        6.7621\n",
            "    155        \u001b[36m0.5797\u001b[0m        \u001b[32m1.4558\u001b[0m        0.4596        1.4326        6.7933\n",
            "    156        \u001b[36m0.5820\u001b[0m        \u001b[32m1.4541\u001b[0m        0.5278        1.4213        6.8076\n",
            "    157        0.5819        1.4551        0.5183        1.4310        6.7658\n",
            "    158        0.5811        \u001b[32m1.4539\u001b[0m        0.4930        1.4236        6.8132\n",
            "    159        \u001b[36m0.5846\u001b[0m        \u001b[32m1.4520\u001b[0m        0.4616        1.4393        6.7869\n",
            "    160        \u001b[36m0.5855\u001b[0m        \u001b[32m1.4502\u001b[0m        0.5107        1.4196        6.8457\n",
            "    161        0.5814        1.4535        0.4620        1.4302        6.7593\n",
            "    162        0.5849        1.4515        0.4990        1.4333        6.8373\n",
            "    163        \u001b[36m0.5857\u001b[0m        \u001b[32m1.4500\u001b[0m        0.5278        1.4105        6.7284\n",
            "    164        0.5855        \u001b[32m1.4500\u001b[0m        0.4892        1.4112        6.9185\n",
            "    165        \u001b[36m0.5880\u001b[0m        \u001b[32m1.4480\u001b[0m        0.5216        1.4338        6.8067\n",
            "    166        \u001b[36m0.5903\u001b[0m        \u001b[32m1.4460\u001b[0m        \u001b[35m0.5533\u001b[0m        1.4184     +  6.7597\n",
            "    167        \u001b[36m0.5926\u001b[0m        \u001b[32m1.4440\u001b[0m        0.5403        1.4091        6.8000\n",
            "    168        \u001b[36m0.5935\u001b[0m        \u001b[32m1.4429\u001b[0m        0.5075        1.4278        7.4527\n",
            "    169        \u001b[36m0.5968\u001b[0m        \u001b[32m1.4397\u001b[0m        0.4787        1.4298        6.8061\n",
            "    170        0.5947        1.4416        0.5129        1.4136        6.7500\n",
            "    171        0.5961        1.4401        0.4806        1.4280        6.8755\n",
            "    172        \u001b[36m0.5992\u001b[0m        \u001b[32m1.4375\u001b[0m        0.4856        1.4191        6.7992\n",
            "    173        0.5960        1.4402        0.5195        1.4109        6.8179\n",
            "    174        0.5966        1.4405        0.5075        1.4310        6.8152\n",
            "    175        0.5972        1.4396        0.4959        1.4153        6.8030\n",
            "    176        0.5992        1.4386        0.5474        \u001b[31m1.3995\u001b[0m        6.7514\n",
            "    177        0.5971        1.4399        0.4745        1.4296        6.8330\n",
            "    178        0.5987        1.4377        0.5450        1.3996        6.8192\n",
            "    179        0.5924        1.4442        0.5106        1.4089        6.7459\n",
            "    180        0.5974        1.4383        0.4865        1.4040        6.7933\n",
            "    181        \u001b[36m0.5993\u001b[0m        \u001b[32m1.4373\u001b[0m        0.5075        1.4116        6.8438\n",
            "    182        0.5982        1.4382        0.4532        1.4355        6.8589\n",
            "    183        \u001b[36m0.5993\u001b[0m        1.4381        0.4905        1.4178        6.8195\n",
            "    184        0.5982        1.4393        0.5082        1.4060        6.7847\n",
            "    185        \u001b[36m0.6009\u001b[0m        \u001b[32m1.4350\u001b[0m        0.4945        1.4385        6.7328\n",
            "    186        0.5989        1.4385        0.5221        1.4072        6.7854\n",
            "    187        0.6005        1.4365        0.5127        1.4173        6.8379\n",
            "    188        0.5977        1.4381        0.4920        1.4118        6.8649\n",
            "    189        0.5972        1.4384        0.5427        1.4146        6.7893\n",
            "    190        \u001b[36m0.6017\u001b[0m        1.4356        0.4887        1.4073        6.8858\n",
            "    191        \u001b[36m0.6022\u001b[0m        \u001b[32m1.4332\u001b[0m        0.4845        1.4040        6.7611\n",
            "    192        0.5995        1.4378        0.4993        1.4071        6.8870\n",
            "    193        0.5997        1.4357        0.5063        1.4194        6.7768\n",
            "    194        0.6014        1.4344        0.5089        1.4161        6.7875\n",
            "    195        0.6001        1.4361        0.5377        1.4072        6.8045\n",
            "    196        0.5994        1.4380        0.5139        1.4041        6.7947\n",
            "    197        0.6011        1.4352        0.4972        1.4325        6.8042\n",
            "    198        0.5975        1.4387        \u001b[35m0.5568\u001b[0m        \u001b[31m1.3797\u001b[0m     +  6.8113\n",
            "    199        0.6009        1.4357        0.5325        1.4167        7.2696\n",
            "    200        0.6012        1.4350        0.5427        1.4049        6.9859\n",
            "    201        \u001b[36m0.6033\u001b[0m        1.4334        0.4984        1.3981        6.8284\n",
            "    202        0.6011        1.4361        0.5090        1.4164        6.8100\n",
            "    203        0.5998        1.4359        0.5033        1.4095        6.7836\n",
            "    204        0.6017        1.4351        0.5004        1.4104        6.8316\n",
            "    205        0.6020        1.4347        0.4930        1.4199        6.8014\n",
            "    206        0.6027        \u001b[32m1.4327\u001b[0m        0.5027        1.4368        6.8385\n",
            "    207        0.6000        1.4363        0.4766        1.4182        6.8131\n",
            "    208        0.6005        1.4374        \u001b[35m0.5600\u001b[0m        1.4072     +  6.7955\n",
            "    209        0.6012        1.4349        0.5073        1.4038        6.8878\n",
            "    210        \u001b[36m0.6037\u001b[0m        \u001b[32m1.4325\u001b[0m        0.5255        1.3999        7.4202\n",
            "    211        \u001b[36m0.6043\u001b[0m        1.4329        0.5029        1.4148        6.8840\n",
            "    212        0.6010        1.4362        0.5243        1.4137        6.8019\n",
            "    213        0.6037        \u001b[32m1.4319\u001b[0m        0.5170        1.4237        6.8781\n",
            "    214        0.6038        1.4327        0.5263        1.4110        6.7446\n",
            "    215        0.6022        1.4351        0.5147        1.4041        6.8100\n",
            "    216        0.6026        1.4346        0.5252        1.4190        6.8709\n",
            "    217        0.6007        1.4345        0.5019        1.4156        6.8706\n",
            "    218        0.6007        1.4364        0.5012        1.4032        6.8420\n",
            "    219        0.6043        1.4320        0.5205        1.3868        6.8766\n",
            "    220        0.6026        1.4342        0.5115        1.4141        6.8471\n",
            "    221        \u001b[36m0.6051\u001b[0m        1.4326        0.5488        1.4222        6.8293\n",
            "    222        0.6051        \u001b[32m1.4318\u001b[0m        0.5153        1.3921        6.9228\n",
            "    223        0.6028        1.4345        0.5336        1.3990        6.8103\n",
            "    224        0.6040        1.4319        0.5265        1.4094        6.8592\n",
            "    225        0.6041        1.4332        0.5236        1.4025        6.9072\n",
            "    226        0.6039        1.4327        0.4992        1.4147        6.9117\n",
            "    227        0.6027        1.4336        0.5021        1.4360        6.8578\n",
            "    228        \u001b[36m0.6056\u001b[0m        \u001b[32m1.4307\u001b[0m        0.5100        1.4083        6.8911\n",
            "    229        0.6040        1.4323        0.5467        1.4004        6.8888\n",
            "    230        0.6042        1.4313        0.4992        1.4062        6.9573\n",
            "    231        \u001b[36m0.6061\u001b[0m        1.4326        0.5293        1.4192        6.8331\n",
            "    232        0.6033        1.4329        0.5441        \u001b[31m1.3744\u001b[0m        6.8034\n",
            "    233        0.6045        1.4325        0.4959        1.4066        6.9022\n",
            "    234        0.6051        1.4318        0.5283        1.4119        6.8639\n",
            "    235        0.6019        1.4348        0.5073        1.4081        6.9243\n",
            "    236        \u001b[36m0.6078\u001b[0m        \u001b[32m1.4293\u001b[0m        \u001b[35m0.5676\u001b[0m        1.3824     +  6.8472\n",
            "    237        0.6056        1.4309        0.4990        1.4124        6.9381\n",
            "    238        0.6050        1.4322        0.5261        1.4080        7.4360\n",
            "    239        0.6060        1.4315        0.4999        1.4274        6.8018\n",
            "    240        0.6073        1.4301        0.5155        1.4007        6.8282\n",
            "    241        \u001b[36m0.6089\u001b[0m        1.4294        0.5372        1.4044        6.8136\n",
            "    242        0.6059        1.4308        0.5050        1.4149        6.8376\n",
            "    243        0.6071        1.4300        0.5356        1.3849        6.8040\n",
            "    244        0.6076        1.4308        0.5054        1.3960        6.8838\n",
            "    245        0.6072        1.4304        0.4786        1.4098        6.9172\n",
            "    246        0.6087        \u001b[32m1.4285\u001b[0m        0.5152        1.3866        6.8542\n",
            "    247        0.6079        1.4291        0.4917        1.4141        6.8711\n",
            "    248        0.6072        1.4296        0.5667        1.4132        6.8766\n",
            "    249        0.6072        1.4314        0.5242        1.4051        6.9180\n",
            "    250        0.6062        1.4295        0.5349        1.3880        6.9664\n",
            "    251        \u001b[36m0.6104\u001b[0m        \u001b[32m1.4269\u001b[0m        0.5526        1.3930        6.8441\n",
            "    252        0.6069        1.4307        0.5374        1.4053        6.8624\n",
            "    253        \u001b[36m0.6105\u001b[0m        1.4273        0.5051        1.4038        6.8482\n",
            "    254        0.6097        \u001b[32m1.4263\u001b[0m        0.5199        1.3906        6.9259\n",
            "    255        0.6077        1.4295        0.5244        1.3824        6.9210\n",
            "    256        0.6092        1.4292        0.5190        1.3867        6.8541\n",
            "    257        0.6096        1.4280        0.5478        1.3902        6.8644\n",
            "    258        0.6073        1.4288        0.5034        1.3969        6.9330\n",
            "    259        0.6082        1.4286        0.5513        1.3928        6.9558\n",
            "    260        \u001b[36m0.6116\u001b[0m        \u001b[32m1.4260\u001b[0m        0.5345        1.4191        6.7272\n",
            "    261        \u001b[36m0.6124\u001b[0m        \u001b[32m1.4249\u001b[0m        0.5298        1.4089        6.8685\n",
            "    262        0.6117        1.4261        0.5555        1.3927        6.9363\n",
            "    263        0.6112        1.4254        0.5376        1.4127        6.9615\n",
            "    264        \u001b[36m0.6137\u001b[0m        \u001b[32m1.4226\u001b[0m        0.4326        1.4520        6.9210\n",
            "    265        0.6095        1.4265        0.5230        1.3865        6.8823\n",
            "    266        0.6087        1.4274        0.5509        1.4127        6.8461\n",
            "    267        0.6101        1.4261        0.5275        1.4116        6.9359\n",
            "    268        0.6113        1.4265        0.5147        1.3941        6.8795\n",
            "    269        0.6109        1.4265        0.5369        1.3989        6.8566\n",
            "    270        0.6131        1.4240        0.5278        1.3933        6.8405\n",
            "    271        0.6112        1.4255        0.5024        1.4035        6.8272\n",
            "    272        0.6122        1.4251        0.5548        1.3747        6.8812\n",
            "    273        \u001b[36m0.6138\u001b[0m        1.4241        0.5077        1.4050        6.8986\n",
            "    274        0.6119        1.4252        0.4741        1.4077        6.8695\n",
            "    275        0.6096        1.4262        0.5375        1.3940        6.9516\n",
            "    276        \u001b[36m0.6153\u001b[0m        \u001b[32m1.4223\u001b[0m        0.5025        1.3899        6.9136\n",
            "    277        0.6108        1.4271        0.5451        1.3906        6.9174\n",
            "    278        0.6106        1.4259        0.5139        1.3954        6.8769\n",
            "    279        0.6147        1.4229        0.5501        1.3992        6.9441\n",
            "    280        \u001b[36m0.6156\u001b[0m        \u001b[32m1.4218\u001b[0m        0.5415        1.4036        6.7348\n",
            "    281        0.6136        1.4229        0.5281        1.3841        6.9086\n",
            "    282        \u001b[36m0.6163\u001b[0m        \u001b[32m1.4209\u001b[0m        0.5199        1.4175        6.8691\n",
            "    283        0.6149        1.4226        0.5346        1.3966        6.8635\n",
            "    284        0.6154        1.4221        0.5555        1.3883        6.9539\n",
            "    285        0.6145        1.4235        0.5028        1.4439        6.7212\n",
            "    286        0.6152        1.4220        0.5579        1.4037        6.7364\n",
            "    287        0.6147        1.4231        0.5362        1.3875        6.9631\n",
            "    288        \u001b[36m0.6166\u001b[0m        \u001b[32m1.4195\u001b[0m        0.5558        1.4024        6.9766\n",
            "    289        0.6164        1.4206        \u001b[35m0.5715\u001b[0m        1.3820     +  6.7160\n",
            "    290        \u001b[36m0.6169\u001b[0m        1.4204        0.5034        1.4128        6.8013\n",
            "    291        0.6154        1.4228        0.5116        1.3931        7.3831\n",
            "    292        \u001b[36m0.6180\u001b[0m        1.4201        0.5357        1.4250        6.9847\n",
            "    293        0.6173        1.4196        0.5008        1.4136        6.9223\n",
            "    294        0.6157        1.4213        0.5470        1.3788        6.8999\n",
            "    295        \u001b[36m0.6181\u001b[0m        1.4202        0.5202        1.3926        6.8881\n",
            "    296        0.6180        \u001b[32m1.4189\u001b[0m        0.5390        1.3875        6.9185\n",
            "    297        \u001b[36m0.6194\u001b[0m        \u001b[32m1.4177\u001b[0m        0.5198        1.3978        6.8671\n",
            "    298        0.6187        1.4185        0.5060        1.4314        6.9593\n",
            "    299        0.6154        1.4217        0.5385        1.4209        7.0162\n",
            "    300        0.6163        1.4208        0.5297        1.4004        6.8964\n",
            "time taken : 2278.324295282364\n"
          ]
        }
      ]
    },
    {
      "cell_type": "code",
      "metadata": {
        "colab": {
          "base_uri": "https://localhost:8080/",
          "height": 249
        },
        "id": "nUj7E49hluDx",
        "outputId": "f5c8c834-aaf2-4c2a-def1-1c326e906d2c"
      },
      "source": [
        "# Viz of Training\n",
        "# Wandb may make this unnecessary\n",
        "training_viz(clf)"
      ],
      "execution_count": null,
      "outputs": [
        {
          "data": {
            "image/png": "[encoded data removed]",
            "text/plain": [
              "<Figure size 1440x504 with 2 Axes>"
            ]
          },
          "metadata": {},
          "output_type": "display_data"
        }
      ]
    },
    {
      "cell_type": "code",
      "metadata": {
        "colab": {
          "base_uri": "https://localhost:8080/"
        },
        "id": "5PCvI22Pl3R7",
        "outputId": "0b5677ee-5323-418a-d83e-1e70694c1301"
      },
      "source": [
        "# This was done with the last model - not the one with the best valid bacc\n",
        "# Prediction on Test Set\n",
        "y_true = val.y\n",
        "y_pred = clf.predict(val.X)\n",
        "\n",
        "print(confusion_matrix(y_true.cpu(), y_pred))\n",
        "print(classification_report(y_true.cpu(), y_pred))\n",
        "cohen_kappa = cohen_kappa_score(y_true.cpu(), y_pred)\n",
        "print(cohen_kappa)"
      ],
      "execution_count": null,
      "outputs": [
        {
          "name": "stdout",
          "output_type": "stream",
          "text": [
            "[[4842  863   26   24    1  254]\n",
            " [ 186  850  189   26    5  416]\n",
            " [  56  673 2859  496   66  885]\n",
            " [   3    5  255  355   63   23]\n",
            " [   0    0   33  247  133    1]\n",
            " [  72  708   65    5    0  757]]\n",
            "              precision    recall  f1-score   support\n",
            "\n",
            "           0       0.94      0.81      0.87      6010\n",
            "           1       0.27      0.51      0.36      1672\n",
            "           2       0.83      0.57      0.68      5035\n",
            "           3       0.31      0.50      0.38       704\n",
            "           4       0.50      0.32      0.39       414\n",
            "           5       0.32      0.47      0.38      1607\n",
            "\n",
            "    accuracy                           0.63     15442\n",
            "   macro avg       0.53      0.53      0.51     15442\n",
            "weighted avg       0.73      0.63      0.66     15442\n",
            "\n",
            "0.5165402314010596\n"
          ]
        }
      ]
    },
    {
      "cell_type": "code",
      "metadata": {
        "colab": {
          "base_uri": "https://localhost:8080/"
        },
        "id": "bvWBY-3gmMeH",
        "outputId": "fd21cb77-9644-4a05-a544-5945658b144d"
      },
      "source": [
        "# Load last checkpointed model\n",
        "with open('/content/drive/MyDrive/mne_data/fulltrain300_checkpoints/model_289.pkl', 'rb') as f:\n",
        "    clf2 = pickle.load(f)\n",
        "\n",
        "# predict on unlabelled\n",
        "save_fname = \"CNN_full_1\"\n",
        "predict_leaderboard_unlabelled(clf2,save_fname)"
      ],
      "execution_count": null,
      "outputs": [
        {
          "name": "stdout",
          "output_type": "stream",
          "text": [
            "Sleep leaderboard - Test Data : There are 25748 trials with 2 electrodes and 3000 time samples\n",
            "(25748, 2, 3000)\n",
            "Checking if all classes have been predicted\n",
            "[0 1 2 3 4 5]\n"
          ]
        }
      ]
    },
    {
      "cell_type": "code",
      "metadata": {
        "id": "R1svcZpKEt4L"
      },
      "source": [
        "wandb.finish()\n",
        "# programatically close session\n",
        "# !kill -9 -1\n",
        "# !kill $(ps aux | awk '{print $2}')"
      ],
      "execution_count": null,
      "outputs": []
    },
    {
      "cell_type": "markdown",
      "metadata": {
        "id": "XJW3P64MawmT"
      },
      "source": [
        "Load the last model and do TL with data from second group"
      ]
    },
    {
      "cell_type": "markdown",
      "metadata": {
        "id": "iwI6cKGUa1wH"
      },
      "source": [
        "# 1. Do Full continued training on the second group without freezing any layers"
      ]
    },
    {
      "cell_type": "code",
      "metadata": {
        "id": "TrWxyDt_OAkJ",
        "colab": {
          "base_uri": "https://localhost:8080/"
        },
        "outputId": "cc1c9201-5c62-4b53-90f9-b73756350e8a"
      },
      "source": [
        "def get_labels(x):\n",
        "  return x.y.cpu()\n",
        "# Load last checkpointed model\n",
        "# del clf2\n",
        "with open('/content/drive/MyDrive/mne_data/fulltrain300_checkpoints/model_289.pkl', 'rb') as f:\n",
        "    clf2 = pickle.load(f)\n",
        "\n",
        "# In skorch CV split makes only a single split, doesn't try all the different \n",
        "# combos since training takes too much time otherwise\n",
        "# You can use Sklearn to implement it yourself otherwise\n",
        "# Ref - https://skorch.readthedocs.io/en/stable/user/dataset.html \n",
        "# Ref - https://skorch.readthedocs.io/en/stable/dataset.html \n",
        "clf2.get_params()\n",
        "# Params\n",
        "# Iterator train sampler was custom made giving IDS with train as input\n",
        "# predet_train_split has reference to val\n",
        "# clf2.set_params - deactivate predetermined train_split activate 5CV\n",
        "# clf2.partial_fit() and set warm_start = True\n",
        "\n",
        "# predict on unlabelled\n",
        "# save_fname = \"CNN_full_1\"\n",
        "# predict_leaderboard_unlabelled(clf2,save_fname)"
      ],
      "execution_count": null,
      "outputs": [
        {
          "output_type": "execute_result",
          "data": {
            "text/plain": [
              "{'batch_size': 128,\n",
              " 'callbacks': [('train_bal_acc',\n",
              "   <skorch.callbacks.scoring.EpochScoring at 0x7feeb886df90>),\n",
              "  ('valid_bal_acc', <skorch.callbacks.scoring.EpochScoring at 0x7fedb2302f10>),\n",
              "  ('checkpoint', <skorch.callbacks.training.Checkpoint at 0x7fedb2365c10>),\n",
              "  ('wandb', <skorch.callbacks.logging.WandbLogger at 0x7fedb22b7e10>)],\n",
              " 'callbacks__checkpoint': <skorch.callbacks.training.Checkpoint at 0x7fedb2365c10>,\n",
              " 'callbacks__checkpoint__dirname': '/content/drive/MyDrive/mne_data/fulltrain300_checkpoints',\n",
              " 'callbacks__checkpoint__event_name': 'event_cp',\n",
              " 'callbacks__checkpoint__f_criterion': None,\n",
              " 'callbacks__checkpoint__f_history': 'history.json',\n",
              " 'callbacks__checkpoint__f_optimizer': None,\n",
              " 'callbacks__checkpoint__f_params': None,\n",
              " 'callbacks__checkpoint__f_pickle': 'model_{last_epoch[epoch]}.pkl',\n",
              " 'callbacks__checkpoint__fn_prefix': '',\n",
              " 'callbacks__checkpoint__monitor': 'valid_bacc_best',\n",
              " 'callbacks__checkpoint__sink': <function skorch.utils.noop>,\n",
              " 'callbacks__epoch_timer': <skorch.callbacks.logging.EpochTimer at 0x7feebce3cad0>,\n",
              " 'callbacks__print_log': <skorch.callbacks.logging.PrintLog at 0x7feeb8e2bc50>,\n",
              " 'callbacks__print_log__floatfmt': '.4f',\n",
              " 'callbacks__print_log__keys_ignored': None,\n",
              " 'callbacks__print_log__sink': <function print>,\n",
              " 'callbacks__print_log__stralign': 'right',\n",
              " 'callbacks__print_log__tablefmt': 'simple',\n",
              " 'callbacks__train_bal_acc': <skorch.callbacks.scoring.EpochScoring at 0x7feeb886df90>,\n",
              " 'callbacks__train_bal_acc__lower_is_better': False,\n",
              " 'callbacks__train_bal_acc__name': 'train_bacc',\n",
              " 'callbacks__train_bal_acc__on_train': True,\n",
              " 'callbacks__train_bal_acc__scoring': 'balanced_accuracy',\n",
              " 'callbacks__train_bal_acc__target_extractor': <function skorch.utils.to_numpy>,\n",
              " 'callbacks__train_bal_acc__use_caching': True,\n",
              " 'callbacks__train_loss': <skorch.callbacks.scoring.BatchScoring at 0x7feeb8e2b990>,\n",
              " 'callbacks__train_loss__lower_is_better': True,\n",
              " 'callbacks__train_loss__name': 'train_loss',\n",
              " 'callbacks__train_loss__on_train': True,\n",
              " 'callbacks__train_loss__scoring': <function skorch.utils.train_loss_score>,\n",
              " 'callbacks__train_loss__target_extractor': <function skorch.utils.noop>,\n",
              " 'callbacks__train_loss__use_caching': True,\n",
              " 'callbacks__valid_bal_acc': <skorch.callbacks.scoring.EpochScoring at 0x7fedb2302f10>,\n",
              " 'callbacks__valid_bal_acc__lower_is_better': False,\n",
              " 'callbacks__valid_bal_acc__name': 'valid_bacc',\n",
              " 'callbacks__valid_bal_acc__on_train': False,\n",
              " 'callbacks__valid_bal_acc__scoring': 'balanced_accuracy',\n",
              " 'callbacks__valid_bal_acc__target_extractor': <function skorch.utils.to_numpy>,\n",
              " 'callbacks__valid_bal_acc__use_caching': True,\n",
              " 'callbacks__valid_loss': <skorch.callbacks.scoring.BatchScoring at 0x7feeb8e2b210>,\n",
              " 'callbacks__valid_loss__lower_is_better': True,\n",
              " 'callbacks__valid_loss__name': 'valid_loss',\n",
              " 'callbacks__valid_loss__on_train': False,\n",
              " 'callbacks__valid_loss__scoring': <function skorch.utils.valid_loss_score>,\n",
              " 'callbacks__valid_loss__target_extractor': <function skorch.utils.noop>,\n",
              " 'callbacks__valid_loss__use_caching': True,\n",
              " 'callbacks__wandb': <skorch.callbacks.logging.WandbLogger at 0x7fedb22b7e10>,\n",
              " 'callbacks__wandb__keys_ignored': None,\n",
              " 'callbacks__wandb__save_model': True,\n",
              " 'callbacks__wandb__wandb_run': <wandb.sdk.wandb_run.Run at 0x7fedb22b7ed0>,\n",
              " 'classes': None,\n",
              " 'criterion': torch.nn.modules.loss.CrossEntropyLoss,\n",
              " 'cropped': False,\n",
              " 'dataset': skorch.dataset.Dataset,\n",
              " 'device': 'cuda',\n",
              " 'iterator_train': torch.utils.data.dataloader.DataLoader,\n",
              " 'iterator_train__batch_size': 128,\n",
              " 'iterator_train__sampler': <torchsampler.imbalanced.ImbalancedDatasetSampler at 0x7fedb22c21d0>,\n",
              " 'iterator_train__shuffle': False,\n",
              " 'iterator_valid': torch.utils.data.dataloader.DataLoader,\n",
              " 'lr': 0.01,\n",
              " 'max_epochs': 10,\n",
              " 'module': SleepEEG(\n",
              "   (feature_extractor): Sequential(\n",
              "     (0): Conv2d(2, 20, kernel_size=(1, 7), stride=(1, 1), groups=2)\n",
              "     (1): Identity()\n",
              "     (2): ReLU()\n",
              "     (3): MaxPool2d(kernel_size=(1, 2), stride=(1, 2), padding=0, dilation=1, ceil_mode=False)\n",
              "     (4): Conv2d(20, 20, kernel_size=(1, 7), stride=(1, 1), groups=20)\n",
              "     (5): Identity()\n",
              "     (6): ReLU()\n",
              "     (7): MaxPool2d(kernel_size=(1, 2), stride=(1, 2), padding=0, dilation=1, ceil_mode=False)\n",
              "     (8): Conv2d(20, 20, kernel_size=(1, 5), stride=(1, 1), groups=20)\n",
              "     (9): Identity()\n",
              "     (10): ReLU()\n",
              "     (11): MaxPool2d(kernel_size=(1, 2), stride=(1, 2), padding=0, dilation=1, ceil_mode=False)\n",
              "     (12): Conv2d(20, 20, kernel_size=(1, 5), stride=(1, 1), groups=20)\n",
              "     (13): Identity()\n",
              "     (14): ReLU()\n",
              "     (15): MaxPool2d(kernel_size=(1, 2), stride=(1, 2), padding=0, dilation=1, ceil_mode=False)\n",
              "     (16): Conv2d(20, 20, kernel_size=(1, 5), stride=(1, 1), groups=20)\n",
              "     (17): Identity()\n",
              "     (18): ReLU()\n",
              "     (19): MaxPool2d(kernel_size=(1, 2), stride=(1, 2), padding=0, dilation=1, ceil_mode=False)\n",
              "     (20): Conv2d(20, 20, kernel_size=(1, 3), stride=(1, 1), groups=20)\n",
              "     (21): Identity()\n",
              "     (22): ReLU()\n",
              "     (23): MaxPool2d(kernel_size=(1, 2), stride=(1, 2), padding=0, dilation=1, ceil_mode=False)\n",
              "     (24): Conv2d(20, 20, kernel_size=(1, 3), stride=(1, 1), groups=20)\n",
              "     (25): Identity()\n",
              "     (26): ReLU()\n",
              "     (27): MaxPool2d(kernel_size=(1, 2), stride=(1, 2), padding=0, dilation=1, ceil_mode=False)\n",
              "   )\n",
              "   (fc): Sequential(\n",
              "     (0): Dropout(p=0.5, inplace=False)\n",
              "     (1): Linear(in_features=400, out_features=6, bias=True)\n",
              "     (2): Softmax(dim=1)\n",
              "   )\n",
              " ),\n",
              " 'optimizer': torch.optim.sgd.SGD,\n",
              " 'optimizer__lr': 0.005,\n",
              " 'predict_nonlinearity': 'auto',\n",
              " 'train_split': functools.partial(<function _make_split at 0x7fef1d23ab00>, valid_ds=<skorch.dataset.Dataset object at 0x7feeb8a193d0>),\n",
              " 'verbose': 1,\n",
              " 'warm_start': False}"
            ]
          },
          "metadata": {},
          "execution_count": 50
        }
      ]
    },
    {
      "cell_type": "code",
      "metadata": {
        "colab": {
          "base_uri": "https://localhost:8080/"
        },
        "id": "udMTxrapgS9C",
        "outputId": "b47abb9b-fa84-4580-8e7a-f9e7c795e118"
      },
      "source": [
        "# Create an IDS for the val data\n",
        "# wandb_run = wandb.init(name = \"300 epoch continue train\", project='cnn-fulltrain', entity='sleep_hacking')\n",
        "\n",
        "save_path = \"/content/drive/MyDrive/mne_data/fulltrain300_checkpoints\"\n",
        "# cp = Checkpoint(monitor = 'train_bal_acc_best',\n",
        "#                 f_params = None, f_optimizer = None, f_criterion = None,\n",
        "#                 f_pickle = \"model_{last_epoch[epoch]}.pkl\",\n",
        "#                 dirname = save_path)\n",
        "cbs = [('train_bal_acc', train_bacc),\n",
        "            #  (\"wandb\",WandbLogger(wandb_run))\n",
        "             ]\n",
        "\n",
        "clf2.set_params(iterator_train__sampler=IDS(valB,callback_get_label=get_labels),\n",
        "                train_split = None,\n",
        "                batch_size = 512, warm_start = True, \n",
        "                callbacks = cbs,\n",
        "                # callbacks__checkpoint = None\n",
        "                # callbacks__wandb = None\n",
        "                )\n",
        "\n",
        "clf2.get_params()"
      ],
      "execution_count": null,
      "outputs": [
        {
          "output_type": "execute_result",
          "data": {
            "text/plain": [
              "{'batch_size': 512,\n",
              " 'callbacks': [('train_bal_acc',\n",
              "   <skorch.callbacks.scoring.EpochScoring at 0x7fef102d8e10>)],\n",
              " 'callbacks__checkpoint': None,\n",
              " 'callbacks__epoch_timer': <skorch.callbacks.logging.EpochTimer at 0x7fedb2315a90>,\n",
              " 'callbacks__print_log': <skorch.callbacks.logging.PrintLog at 0x7fedb22b79d0>,\n",
              " 'callbacks__print_log__floatfmt': '.4f',\n",
              " 'callbacks__print_log__keys_ignored': None,\n",
              " 'callbacks__print_log__sink': <function print>,\n",
              " 'callbacks__print_log__stralign': 'right',\n",
              " 'callbacks__print_log__tablefmt': 'simple',\n",
              " 'callbacks__train_bal_acc': <skorch.callbacks.scoring.EpochScoring at 0x7fef102d8e10>,\n",
              " 'callbacks__train_bal_acc__lower_is_better': False,\n",
              " 'callbacks__train_bal_acc__name': 'train_bacc',\n",
              " 'callbacks__train_bal_acc__on_train': True,\n",
              " 'callbacks__train_bal_acc__scoring': 'balanced_accuracy',\n",
              " 'callbacks__train_bal_acc__target_extractor': <function skorch.utils.to_numpy>,\n",
              " 'callbacks__train_bal_acc__use_caching': True,\n",
              " 'callbacks__train_loss': <skorch.callbacks.scoring.BatchScoring at 0x7fedb2315510>,\n",
              " 'callbacks__train_loss__lower_is_better': True,\n",
              " 'callbacks__train_loss__name': 'train_loss',\n",
              " 'callbacks__train_loss__on_train': True,\n",
              " 'callbacks__train_loss__scoring': <function skorch.utils.train_loss_score>,\n",
              " 'callbacks__train_loss__target_extractor': <function skorch.utils.noop>,\n",
              " 'callbacks__train_loss__use_caching': True,\n",
              " 'callbacks__valid_loss': <skorch.callbacks.scoring.BatchScoring at 0x7fedb2315b90>,\n",
              " 'callbacks__valid_loss__lower_is_better': True,\n",
              " 'callbacks__valid_loss__name': 'valid_loss',\n",
              " 'callbacks__valid_loss__on_train': False,\n",
              " 'callbacks__valid_loss__scoring': <function skorch.utils.valid_loss_score>,\n",
              " 'callbacks__valid_loss__target_extractor': <function skorch.utils.noop>,\n",
              " 'callbacks__valid_loss__use_caching': True,\n",
              " 'callbacks__wandb': <skorch.callbacks.logging.WandbLogger at 0x7fef10e8e410>,\n",
              " 'callbacks__wandb__keys_ignored': None,\n",
              " 'callbacks__wandb__save_model': True,\n",
              " 'callbacks__wandb__wandb_run': <wandb.sdk.wandb_run.Run at 0x7fedb3ffabd0>,\n",
              " 'classes': None,\n",
              " 'criterion': torch.nn.modules.loss.CrossEntropyLoss,\n",
              " 'cropped': False,\n",
              " 'dataset': skorch.dataset.Dataset,\n",
              " 'device': 'cuda',\n",
              " 'iterator_train': torch.utils.data.dataloader.DataLoader,\n",
              " 'iterator_train__batch_size': 128,\n",
              " 'iterator_train__sampler': <torchsampler.imbalanced.ImbalancedDatasetSampler at 0x7fedb23b45d0>,\n",
              " 'iterator_train__shuffle': False,\n",
              " 'iterator_valid': torch.utils.data.dataloader.DataLoader,\n",
              " 'lr': 0.01,\n",
              " 'max_epochs': 10,\n",
              " 'module': SleepEEG(\n",
              "   (feature_extractor): Sequential(\n",
              "     (0): Conv2d(2, 20, kernel_size=(1, 7), stride=(1, 1), groups=2)\n",
              "     (1): Identity()\n",
              "     (2): ReLU()\n",
              "     (3): MaxPool2d(kernel_size=(1, 2), stride=(1, 2), padding=0, dilation=1, ceil_mode=False)\n",
              "     (4): Conv2d(20, 20, kernel_size=(1, 7), stride=(1, 1), groups=20)\n",
              "     (5): Identity()\n",
              "     (6): ReLU()\n",
              "     (7): MaxPool2d(kernel_size=(1, 2), stride=(1, 2), padding=0, dilation=1, ceil_mode=False)\n",
              "     (8): Conv2d(20, 20, kernel_size=(1, 5), stride=(1, 1), groups=20)\n",
              "     (9): Identity()\n",
              "     (10): ReLU()\n",
              "     (11): MaxPool2d(kernel_size=(1, 2), stride=(1, 2), padding=0, dilation=1, ceil_mode=False)\n",
              "     (12): Conv2d(20, 20, kernel_size=(1, 5), stride=(1, 1), groups=20)\n",
              "     (13): Identity()\n",
              "     (14): ReLU()\n",
              "     (15): MaxPool2d(kernel_size=(1, 2), stride=(1, 2), padding=0, dilation=1, ceil_mode=False)\n",
              "     (16): Conv2d(20, 20, kernel_size=(1, 5), stride=(1, 1), groups=20)\n",
              "     (17): Identity()\n",
              "     (18): ReLU()\n",
              "     (19): MaxPool2d(kernel_size=(1, 2), stride=(1, 2), padding=0, dilation=1, ceil_mode=False)\n",
              "     (20): Conv2d(20, 20, kernel_size=(1, 3), stride=(1, 1), groups=20)\n",
              "     (21): Identity()\n",
              "     (22): ReLU()\n",
              "     (23): MaxPool2d(kernel_size=(1, 2), stride=(1, 2), padding=0, dilation=1, ceil_mode=False)\n",
              "     (24): Conv2d(20, 20, kernel_size=(1, 3), stride=(1, 1), groups=20)\n",
              "     (25): Identity()\n",
              "     (26): ReLU()\n",
              "     (27): MaxPool2d(kernel_size=(1, 2), stride=(1, 2), padding=0, dilation=1, ceil_mode=False)\n",
              "   )\n",
              "   (fc): Sequential(\n",
              "     (0): Dropout(p=0.5, inplace=False)\n",
              "     (1): Linear(in_features=400, out_features=6, bias=True)\n",
              "     (2): Softmax(dim=1)\n",
              "   )\n",
              " ),\n",
              " 'optimizer': torch.optim.sgd.SGD,\n",
              " 'optimizer__lr': 0.005,\n",
              " 'predict_nonlinearity': 'auto',\n",
              " 'train_split': None,\n",
              " 'verbose': 1,\n",
              " 'warm_start': True}"
            ]
          },
          "metadata": {},
          "execution_count": 63
        }
      ]
    },
    {
      "cell_type": "code",
      "metadata": {
        "colab": {
          "base_uri": "https://localhost:8080/"
        },
        "id": "1-F__bdZp4kX",
        "outputId": "ee0fd5c1-8b4e-4ad7-8011-6a2176e58491"
      },
      "source": [
        "n_epochs = 300\n",
        "clf2.partial_fit(valB,y = None, epochs = n_epochs)"
      ],
      "execution_count": null,
      "outputs": [
        {
          "output_type": "stream",
          "name": "stdout",
          "text": [
            "  epoch    train_bacc    train_loss    valid_loss     dur\n",
            "-------  ------------  ------------  ------------  ------\n",
            "    291        0.5766        1.4590        1.3820  1.0210\n",
            "    292        0.5784        1.4572        1.3820  1.0198\n",
            "    293        0.5793        1.4538        1.3820  0.9915\n",
            "    294        0.5788        1.4591        1.3820  1.0316\n",
            "    295        0.5796        1.4531        1.3820  0.9896\n",
            "    296        0.5866        1.4502        1.3820  0.9866\n",
            "    297        0.5831        1.4582        1.3820  0.9875\n",
            "    298        0.5918        1.4415        1.3820  1.1068\n",
            "    299        0.5892        1.4451        1.3820  1.0369\n",
            "    300        0.5899        1.4465        1.3820  0.9797\n",
            "    301        0.5853        1.4496        1.3820  0.9924\n",
            "    302        0.5924        1.4449        1.3820  1.0161\n",
            "    303        0.5965        1.4411        1.3820  1.0185\n",
            "    304        0.5898        1.4452        1.3820  1.0154\n",
            "    305        0.5990        1.4389        1.3820  1.0145\n",
            "    306        0.5903        1.4457        1.3820  0.9953\n",
            "    307        0.5954        1.4435        1.3820  1.0128\n",
            "    308        0.5957        1.4413        1.3820  1.0177\n",
            "    309        0.5946        1.4436        1.3820  1.0017\n",
            "    310        0.5948        1.4437        1.3820  0.9998\n",
            "    311        0.5897        1.4487        1.3820  1.1504\n",
            "    312        0.6012        1.4382        1.3820  1.0039\n",
            "    313        0.6004        1.4356        1.3820  1.0162\n",
            "    314        0.6000        1.4412        1.3820  1.0065\n",
            "    315        0.5968        1.4406        1.3820  1.0206\n",
            "    316        0.6040        1.4342        1.3820  0.9871\n",
            "    317        0.6006        1.4400        1.3820  1.0036\n",
            "    318        0.5944        1.4418        1.3820  1.0435\n",
            "    319        0.5940        1.4474        1.3820  1.0108\n",
            "    320        0.6011        1.4394        1.3820  1.0006\n",
            "    321        0.5997        1.4362        1.3820  1.0098\n",
            "    322        0.5991        1.4406        1.3820  1.1169\n",
            "    323        0.6036        1.4347        1.3820  1.0048\n",
            "    324        0.5988        1.4412        1.3820  1.0072\n",
            "    325        0.5973        1.4423        1.3820  1.0102\n",
            "    326        0.5988        1.4413        1.3820  0.9971\n",
            "    327        0.6041        1.4333        1.3820  0.9996\n",
            "    328        0.6003        1.4353        1.3820  1.1540\n",
            "    329        0.5942        1.4400        1.3820  0.9951\n",
            "    330        0.5987        1.4391        1.3820  1.0325\n",
            "    331        0.6066        1.4334        1.3820  1.0166\n",
            "    332        0.6027        1.4352        1.3820  1.0427\n",
            "    333        0.5923        1.4445        1.3820  1.0028\n",
            "    334        0.5943        1.4430        1.3820  1.0118\n",
            "    335        0.6087        1.4292        1.3820  1.1415\n",
            "    336        0.5997        1.4385        1.3820  1.0093\n",
            "    337        0.6015        1.4382        1.3820  1.0374\n",
            "    338        0.6004        1.4358        1.3820  1.0095\n",
            "    339        0.6095        1.4294        1.3820  1.0092\n",
            "    340        0.6008        1.4366        1.3820  1.0116\n",
            "    341        0.6044        1.4341        1.3820  1.1317\n",
            "    342        0.6077        1.4330        1.3820  1.0073\n",
            "    343        0.5978        1.4396        1.3820  1.0388\n",
            "    344        0.6035        1.4360        1.3820  1.0320\n",
            "    345        0.6105        1.4307        1.3820  1.0406\n",
            "    346        0.6065        1.4315        1.3820  1.0094\n",
            "    347        0.6080        1.4317        1.3820  1.0372\n",
            "    348        0.6041        1.4346        1.3820  1.0322\n",
            "    349        0.6034        1.4355        1.3820  1.1747\n",
            "    350        0.6078        1.4308        1.3820  1.0519\n",
            "    351        0.6050        1.4291        1.3820  1.0428\n",
            "    352        0.6030        1.4343        1.3820  1.0289\n",
            "    353        0.6044        1.4311        1.3820  1.0597\n",
            "    354        0.6087        1.4267        1.3820  1.1388\n",
            "    355        0.6050        1.4305        1.3820  1.0248\n",
            "    356        0.6003        1.4386        1.3820  1.0294\n",
            "    357        0.6080        1.4267        1.3820  1.1311\n",
            "    358        \u001b[36m0.6169\u001b[0m        \u001b[32m1.4171\u001b[0m        1.3820  1.0011\n",
            "    359        0.6055        1.4292        1.3820  1.0095\n",
            "    360        0.6040        1.4333        1.3820  1.0248\n",
            "    361        0.6082        1.4330        1.3820  1.0195\n",
            "    362        0.6082        1.4302        1.3820  1.0232\n",
            "    363        0.6088        1.4320        1.3820  1.1703\n",
            "    364        0.6077        1.4290        1.3820  1.0251\n",
            "    365        0.6039        1.4368        1.3820  1.0252\n",
            "    366        0.6100        1.4275        1.3820  1.0352\n",
            "    367        0.6135        1.4245        1.3820  1.0135\n",
            "    368        0.6099        1.4264        1.3820  1.0419\n",
            "    369        \u001b[36m0.6176\u001b[0m        1.4238        1.3820  1.0276\n",
            "    370        0.6079        1.4300        1.3820  1.0143\n",
            "    371        0.6115        1.4261        1.3820  1.0239\n",
            "    372        0.6149        1.4279        1.3820  1.0407\n",
            "    373        0.6086        1.4304        1.3820  1.0127\n",
            "    374        0.6119        1.4272        1.3820  1.1453\n",
            "    375        0.6097        1.4279        1.3820  1.0338\n",
            "    376        0.6060        1.4300        1.3820  1.0230\n",
            "    377        0.6071        1.4308        1.3820  1.0617\n",
            "    378        0.6105        1.4277        1.3820  1.0130\n",
            "    379        0.6107        1.4261        1.3820  1.0191\n",
            "    380        0.6082        1.4292        1.3820  1.0240\n",
            "    381        0.6114        1.4258        1.3820  1.0130\n",
            "    382        0.6058        1.4294        1.3820  1.0328\n",
            "    383        0.6074        1.4317        1.3820  1.0370\n",
            "    384        0.6026        1.4357        1.3820  1.0276\n",
            "    385        0.6103        1.4262        1.3820  1.0612\n",
            "    386        0.6009        1.4341        1.3820  1.0497\n",
            "    387        0.6102        1.4266        1.3820  1.0397\n",
            "    388        0.6155        1.4236        1.3820  1.0261\n",
            "    389        0.6128        1.4281        1.3820  1.0307\n",
            "    390        0.6103        1.4284        1.3820  1.0501\n",
            "    391        0.6141        1.4244        1.3820  1.0458\n",
            "    392        \u001b[36m0.6232\u001b[0m        \u001b[32m1.4160\u001b[0m        1.3820  1.0381\n",
            "    393        0.6073        1.4295        1.3820  1.0268\n",
            "    394        0.6117        1.4289        1.3820  1.0639\n",
            "    395        0.6093        1.4294        1.3820  1.0213\n",
            "    396        0.6146        1.4227        1.3820  1.1459\n",
            "    397        0.6059        1.4304        1.3820  1.0198\n",
            "    398        0.6076        1.4296        1.3820  1.1394\n",
            "    399        0.6099        1.4272        1.3820  1.0216\n",
            "    400        0.6113        1.4247        1.3820  1.0411\n",
            "    401        0.6089        1.4289        1.3820  1.0574\n",
            "    402        0.6159        1.4225        1.3820  1.1877\n",
            "    403        0.6124        1.4280        1.3820  1.0614\n",
            "    404        0.6145        1.4260        1.3820  1.0328\n",
            "    405        0.6144        1.4276        1.3820  1.0295\n",
            "    406        0.6147        1.4249        1.3820  1.0397\n",
            "    407        0.6043        1.4310        1.3820  1.1765\n",
            "    408        0.6095        1.4294        1.3820  1.0357\n",
            "    409        0.6146        1.4199        1.3820  1.0578\n",
            "    410        0.6222        1.4195        1.3820  1.0268\n",
            "    411        0.6137        1.4268        1.3820  1.0215\n",
            "    412        0.6072        1.4255        1.3820  1.0451\n",
            "    413        0.6165        1.4220        1.3820  1.0405\n",
            "    414        0.6179        1.4213        1.3820  1.0432\n",
            "    415        0.6159        1.4235        1.3820  1.0199\n",
            "    416        0.6146        1.4231        1.3820  1.0339\n",
            "    417        0.6168        1.4205        1.3820  1.0342\n",
            "    418        0.6128        1.4283        1.3820  1.0555\n",
            "    419        0.6164        1.4224        1.3820  1.0525\n",
            "    420        0.6192        1.4180        1.3820  1.0312\n",
            "    421        0.6091        1.4301        1.3820  1.0352\n",
            "    422        0.6138        1.4197        1.3820  1.1748\n",
            "    423        0.6125        1.4249        1.3820  1.0524\n",
            "    424        0.6159        1.4211        1.3820  1.0437\n",
            "    425        0.6132        1.4256        1.3820  1.0263\n",
            "    426        0.6076        1.4268        1.3820  1.0471\n",
            "    427        0.6208        1.4176        1.3820  1.0495\n",
            "    428        0.6181        1.4205        1.3820  1.0555\n",
            "    429        0.6101        1.4278        1.3820  1.0227\n",
            "    430        \u001b[36m0.6235\u001b[0m        \u001b[32m1.4139\u001b[0m        1.3820  1.0594\n",
            "    431        0.6100        1.4281        1.3820  1.0441\n",
            "    432        0.6180        1.4207        1.3820  1.0263\n",
            "    433        0.6147        1.4237        1.3820  1.0283\n",
            "    434        0.6092        1.4285        1.3820  1.0587\n",
            "    435        0.6086        1.4310        1.3820  1.1488\n",
            "    436        0.6189        1.4216        1.3820  1.0345\n",
            "    437        0.6128        1.4243        1.3820  1.0228\n",
            "    438        0.6094        1.4278        1.3820  1.0397\n",
            "    439        0.6142        1.4239        1.3820  1.0409\n",
            "    440        0.6154        1.4218        1.3820  1.1949\n",
            "    441        0.6098        1.4272        1.3820  1.0578\n",
            "    442        0.6188        1.4197        1.3820  1.1826\n",
            "    443        0.6134        1.4265        1.3820  1.0526\n",
            "    444        0.6183        1.4218        1.3820  1.0415\n",
            "    445        0.6135        1.4246        1.3820  1.0349\n",
            "    446        0.6198        1.4187        1.3820  1.0319\n",
            "    447        0.6149        1.4238        1.3820  1.0445\n",
            "    448        0.6143        1.4236        1.3820  1.0371\n",
            "    449        0.6152        1.4224        1.3820  1.0303\n",
            "    450        0.6147        1.4249        1.3820  1.0440\n",
            "    451        0.6072        1.4305        1.3820  1.0417\n",
            "    452        0.6189        1.4173        1.3820  1.0556\n",
            "    453        0.6154        1.4227        1.3820  1.0676\n",
            "    454        0.6135        1.4257        1.3820  1.0380\n",
            "    455        0.6155        1.4230        1.3820  1.0571\n",
            "    456        0.6114        1.4255        1.3820  1.0331\n",
            "    457        0.6165        1.4255        1.3820  1.0681\n",
            "    458        0.6166        1.4220        1.3820  1.0272\n",
            "    459        0.6158        1.4197        1.3820  1.0214\n",
            "    460        0.6119        1.4257        1.3820  1.0136\n",
            "    461        0.6092        1.4281        1.3820  1.0532\n",
            "    462        0.6103        1.4252        1.3820  1.0175\n",
            "    463        0.6182        1.4190        1.3820  1.0424\n",
            "    464        0.6151        1.4217        1.3820  1.0499\n",
            "    465        0.6182        1.4211        1.3820  1.0280\n",
            "    466        0.6096        1.4306        1.3820  1.0502\n",
            "    467        0.6163        1.4194        1.3820  1.0496\n",
            "    468        0.6181        1.4196        1.3820  1.0197\n",
            "    469        0.6203        1.4191        1.3820  1.0341\n"
          ]
        },
        {
          "output_type": "execute_result",
          "data": {
            "text/plain": [
              "<class 'braindecode.classifier.EEGClassifier'>[initialized](\n",
              "  module_=SleepEEG(\n",
              "    (feature_extractor): Sequential(\n",
              "      (0): Conv2d(2, 20, kernel_size=(1, 7), stride=(1, 1), groups=2)\n",
              "      (1): Identity()\n",
              "      (2): ReLU()\n",
              "      (3): MaxPool2d(kernel_size=(1, 2), stride=(1, 2), padding=0, dilation=1, ceil_mode=False)\n",
              "      (4): Conv2d(20, 20, kernel_size=(1, 7), stride=(1, 1), groups=20)\n",
              "      (5): Identity()\n",
              "      (6): ReLU()\n",
              "      (7): MaxPool2d(kernel_size=(1, 2), stride=(1, 2), padding=0, dilation=1, ceil_mode=False)\n",
              "      (8): Conv2d(20, 20, kernel_size=(1, 5), stride=(1, 1), groups=20)\n",
              "      (9): Identity()\n",
              "      (10): ReLU()\n",
              "      (11): MaxPool2d(kernel_size=(1, 2), stride=(1, 2), padding=0, dilation=1, ceil_mode=False)\n",
              "      (12): Conv2d(20, 20, kernel_size=(1, 5), stride=(1, 1), groups=20)\n",
              "      (13): Identity()\n",
              "      (14): ReLU()\n",
              "      (15): MaxPool2d(kernel_size=(1, 2), stride=(1, 2), padding=0, dilation=1, ceil_mode=False)\n",
              "      (16): Conv2d(20, 20, kernel_size=(1, 5), stride=(1, 1), groups=20)\n",
              "      (17): Identity()\n",
              "      (18): ReLU()\n",
              "      (19): MaxPool2d(kernel_size=(1, 2), stride=(1, 2), padding=0, dilation=1, ceil_mode=False)\n",
              "      (20): Conv2d(20, 20, kernel_size=(1, 3), stride=(1, 1), groups=20)\n",
              "      (21): Identity()\n",
              "      (22): ReLU()\n",
              "      (23): MaxPool2d(kernel_size=(1, 2), stride=(1, 2), padding=0, dilation=1, ceil_mode=False)\n",
              "      (24): Conv2d(20, 20, kernel_size=(1, 3), stride=(1, 1), groups=20)\n",
              "      (25): Identity()\n",
              "      (26): ReLU()\n",
              "      (27): MaxPool2d(kernel_size=(1, 2), stride=(1, 2), padding=0, dilation=1, ceil_mode=False)\n",
              "    )\n",
              "    (fc): Sequential(\n",
              "      (0): Dropout(p=0.5, inplace=False)\n",
              "      (1): Linear(in_features=400, out_features=6, bias=True)\n",
              "      (2): Softmax(dim=1)\n",
              "    )\n",
              "  ),\n",
              ")"
            ]
          },
          "metadata": {},
          "execution_count": 64
        }
      ]
    },
    {
      "cell_type": "code",
      "metadata": {
        "colab": {
          "base_uri": "https://localhost:8080/"
        },
        "id": "QT7I8fpjrTlJ",
        "outputId": "34d3950f-c001-49e2-9002-65bcb0b42796"
      },
      "source": [
        "!wandb login"
      ],
      "execution_count": null,
      "outputs": [
        {
          "output_type": "stream",
          "name": "stdout",
          "text": [
            "\u001b[34m\u001b[1mwandb\u001b[0m: Currently logged in as: \u001b[33mdiv12345\u001b[0m (use `wandb login --relogin` to force relogin)\n"
          ]
        }
      ]
    },
    {
      "cell_type": "code",
      "metadata": {
        "id": "nw_K855qvWba"
      },
      "source": [
        "# Save this model once\n",
        "with open('/content/drive/MyDrive/mne_data/sleepEEGmodel_continue_fulltrain300.pkl', 'wb') as f:\n",
        "    pickle.dump(clf2, f)"
      ],
      "execution_count": null,
      "outputs": []
    },
    {
      "cell_type": "code",
      "metadata": {
        "colab": {
          "base_uri": "https://localhost:8080/"
        },
        "id": "oZibuYepyd__",
        "outputId": "15b7f680-59ab-4d49-ed52-247ee5e045b5"
      },
      "source": [
        "save_fname = \"CNN_full_continue_1\"\n",
        "# predict_leaderboard_unlabelled(clf2,save_fname)\n",
        "y_pred = clf2.predict(testB.X)\n",
        "print(\"Checking if all classes have been predicted\")\n",
        "print(np.unique(y_pred))\n",
        "# save_fname = \"LogReg_newton-cg_1500\"\n",
        "np.savetxt(\"/content/drive/MyDrive/mne_data/predict/\"+save_fname+\".txt\",y_pred,delimiter=',',fmt=\"%d\")\n",
        "\n",
        "# testB is loaded\n"
      ],
      "execution_count": null,
      "outputs": [
        {
          "output_type": "stream",
          "name": "stdout",
          "text": [
            "Checking if all classes have been predicted\n",
            "[0 1 2 3 4 5]\n"
          ]
        }
      ]
    },
    {
      "cell_type": "code",
      "metadata": {
        "colab": {
          "base_uri": "https://localhost:8080/"
        },
        "id": "cangvJq0y_Zb",
        "outputId": "e3307712-2722-4b2c-a85b-9a68c8a0f008"
      },
      "source": [
        "testB.y.shape"
      ],
      "execution_count": null,
      "outputs": [
        {
          "output_type": "execute_result",
          "data": {
            "text/plain": [
              "torch.Size([25748])"
            ]
          },
          "metadata": {},
          "execution_count": 67
        }
      ]
    },
    {
      "cell_type": "code",
      "metadata": {
        "colab": {
          "base_uri": "https://localhost:8080/",
          "height": 462,
          "referenced_widgets": [
            "1b2cc77d606b43008b0f89b5eefe4c38",
            "e7b899c98516402a9d8b3cb56ed8d309",
            "53c772f32eed42d9a11aa0586bf862da",
            "48215ce1eaad4b07b8ba1e389283355a",
            "abdab663ed9b4fcbb68ed1bbc25316f6",
            "b6f6052e270342dab855a5226fe53d42",
            "5c3d94eddda04261aed59df7f03daa5b",
            "6da004f3772a4f5eb862becb45d7d8b1"
          ]
        },
        "id": "hZvfLH51yn2j",
        "outputId": "781116b9-df90-425f-8dd3-eb4301a45859"
      },
      "source": [
        "wandb.finish()"
      ],
      "execution_count": null,
      "outputs": [
        {
          "output_type": "display_data",
          "data": {
            "text/html": [
              "<br/>Waiting for W&B process to finish, PID 1640<br/>Program ended successfully."
            ],
            "text/plain": [
              "<IPython.core.display.HTML object>"
            ]
          },
          "metadata": {}
        },
        {
          "output_type": "display_data",
          "data": {
            "application/vnd.jupyter.widget-view+json": {
              "model_id": "1b2cc77d606b43008b0f89b5eefe4c38",
              "version_minor": 0,
              "version_major": 2
            },
            "text/plain": [
              "VBox(children=(Label(value=' 0.00MB of 0.00MB uploaded (0.00MB deduped)\\r'), FloatProgress(value=1.0, max=1.0)…"
            ]
          },
          "metadata": {}
        },
        {
          "output_type": "display_data",
          "data": {
            "text/html": [
              "Find user logs for this run at: <code>/content/wandb/run-20210914_095646-1gnk24xc/logs/debug.log</code>"
            ],
            "text/plain": [
              "<IPython.core.display.HTML object>"
            ]
          },
          "metadata": {}
        },
        {
          "output_type": "display_data",
          "data": {
            "text/html": [
              "Find internal logs for this run at: <code>/content/wandb/run-20210914_095646-1gnk24xc/logs/debug-internal.log</code>"
            ],
            "text/plain": [
              "<IPython.core.display.HTML object>"
            ]
          },
          "metadata": {}
        },
        {
          "output_type": "display_data",
          "data": {
            "text/html": [
              "<h3>Run summary:</h3><br/><style>\n",
              "    table.wandb td:nth-child(1) { padding: 0 10px; text-align: right }\n",
              "    </style><table class=\"wandb\">\n",
              "<tr><td>_runtime</td><td>899</td></tr><tr><td>_timestamp</td><td>1631614308</td></tr><tr><td>_step</td><td>0</td></tr></table>"
            ],
            "text/plain": [
              "<IPython.core.display.HTML object>"
            ]
          },
          "metadata": {}
        },
        {
          "output_type": "display_data",
          "data": {
            "text/html": [
              "<h3>Run history:</h3><br/><style>\n",
              "    table.wandb td:nth-child(1) { padding: 0 10px; text-align: right }\n",
              "    </style><table class=\"wandb\">\n",
              "<tr><td>_runtime</td><td>▁</td></tr><tr><td>_timestamp</td><td>▁</td></tr><tr><td>_step</td><td>▁</td></tr></table><br/>"
            ],
            "text/plain": [
              "<IPython.core.display.HTML object>"
            ]
          },
          "metadata": {}
        },
        {
          "output_type": "display_data",
          "data": {
            "text/html": [
              "Synced 5 W&B file(s), 0 media file(s), 0 artifact file(s) and 0 other file(s)"
            ],
            "text/plain": [
              "<IPython.core.display.HTML object>"
            ]
          },
          "metadata": {}
        },
        {
          "output_type": "display_data",
          "data": {
            "text/html": [
              "\n",
              "                    <br/>Synced <strong style=\"color:#cdcd00\">300 epoch continue train</strong>: <a href=\"https://wandb.ai/sleep_hacking/cnn-fulltrain/runs/1gnk24xc\" target=\"_blank\">https://wandb.ai/sleep_hacking/cnn-fulltrain/runs/1gnk24xc</a><br/>\n",
              "                "
            ],
            "text/plain": [
              "<IPython.core.display.HTML object>"
            ]
          },
          "metadata": {}
        }
      ]
    },
    {
      "cell_type": "markdown",
      "metadata": {
        "id": "AEugtLEPRB3k"
      },
      "source": [
        "# End"
      ]
    },
    {
      "cell_type": "markdown",
      "metadata": {
        "id": "K_JZwmp2TBKW"
      },
      "source": [
        "The model didn't show much scope for improvement, so moved on to the AttnSleep model"
      ]
    }
  ]
}