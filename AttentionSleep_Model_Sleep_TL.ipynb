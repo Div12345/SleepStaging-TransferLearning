{
  "nbformat": 4,
  "nbformat_minor": 0,
  "metadata": {
    "colab": {
      "name": "AttentionSleep Model - Sleep TL.ipynb",
      "provenance": [],
      "toc_visible": true,
      "authorship_tag": "ABX9TyMG3iD2Vq5Ekwm3Wjxl0TiH",
      "include_colab_link": true
    },
    "kernelspec": {
      "name": "python3",
      "display_name": "Python 3"
    },
    "language_info": {
      "name": "python"
    }
  },
  "cells": [
    {
      "cell_type": "markdown",
      "metadata": {
        "id": "view-in-github",
        "colab_type": "text"
      },
      "source": [
        "<a href=\"https://colab.research.google.com/github/Div12345/SleepStaging-TransferLearning/blob/main/AttentionSleep_Model_Sleep_TL.ipynb\" target=\"_parent\"><img src=\"https://colab.research.google.com/assets/colab-badge.svg\" alt=\"Open In Colab\"/></a>"
      ]
    },
    {
      "cell_type": "markdown",
      "metadata": {
        "id": "L9sQe2m-bYJE"
      },
      "source": [
        "# Setup"
      ]
    },
    {
      "cell_type": "code",
      "metadata": {
        "id": "m5JTtD-_8Dy0",
        "cellView": "form"
      },
      "source": [
        "#@title Dependencies Install\n",
        "!pip install wandb\n",
        "!pip install git+https://github.com/sylvchev/beetl-competition\n",
        "!pip install moabb\n",
        "!pip install braindecode\n",
        "!pip install git+https://github.com/pyRiemann/pyRiemann\n",
        "!pip install matplotlib\n",
        "!pip install https://github.com/ufoym/imbalanced-dataset-sampler/archive/master.zip"
      ],
      "execution_count": null,
      "outputs": []
    },
    {
      "cell_type": "code",
      "metadata": {
        "id": "uuMPQYfn8LbD",
        "cellView": "form"
      },
      "source": [
        "#@title Imports\n",
        "from mne import get_config, set_config\n",
        "import os.path as osp\n",
        "import os\n",
        "from beetl.task_datasets import BeetlSleepLeaderboard, BeetlSleepSource\n",
        "import numpy as np\n",
        "import pandas as pd\n",
        "import mne\n",
        "\n",
        "import braindecode\n",
        "from braindecode import EEGClassifier\n",
        "from braindecode.util import np_to_var, set_random_seeds\n",
        "from braindecode.models import SleepStagerChambon2018\n",
        "from braindecode.datautil.preprocess import preprocess, Preprocessor, zscore\n",
        "from braindecode.samplers.ssl import RelativePositioningSampler\n",
        "#from braindecode.datautil import create_from_X_y\n",
        "from braindecode.datasets import BaseDataset\n",
        "\n",
        "import sklearn\n",
        "from sklearn.model_selection import train_test_split\n",
        "from sklearn.linear_model import LogisticRegression\n",
        "from sklearn.preprocessing import StandardScaler\n",
        "from sklearn.pipeline import make_pipeline\n",
        "from sklearn.metrics import confusion_matrix, classification_report, balanced_accuracy_score, cohen_kappa_score\n",
        "\n",
        "import matplotlib.pyplot as plt\n",
        "from matplotlib.lines import Line2D\n",
        "\n",
        "import skorch\n",
        "import skorch.dataset\n",
        "from skorch.callbacks import EarlyStopping, Checkpoint, EpochScoring, WandbLogger, TrainEndCheckpoint\n",
        "from skorch.dataset import Dataset\n",
        "from skorch.helper import predefined_split\n",
        "from skorch.classifier import NeuralNetClassifier as NNClassifier\n",
        "\n",
        "import time\n",
        "import math\n",
        "import copy\n",
        "from copy import deepcopy\n",
        "\n",
        "import pickle\n",
        "import torch\n",
        "from torch import nn\n",
        "from torch.utils.data import DataLoader\n",
        "import torch.nn.functional as F\n",
        "\n",
        "from torchsampler import ImbalancedDatasetSampler as IDS\n",
        "\n",
        "import wandb\n",
        "\n",
        "import joblib"
      ],
      "execution_count": null,
      "outputs": []
    },
    {
      "cell_type": "code",
      "metadata": {
        "colab": {
          "base_uri": "https://localhost:8080/"
        },
        "id": "JsEpic6LddRa",
        "outputId": "63440407-60c6-4d04-94bf-fc384c633ae0"
      },
      "source": [
        "from google.colab import drive\n",
        "drive.mount('/content/drive')"
      ],
      "execution_count": null,
      "outputs": [
        {
          "output_type": "stream",
          "name": "stdout",
          "text": [
            "Mounted at /content/drive\n"
          ]
        }
      ]
    },
    {
      "cell_type": "code",
      "metadata": {
        "id": "6H7g78UA8OBg",
        "colab": {
          "base_uri": "https://localhost:8080/"
        },
        "outputId": "4070091c-8a9c-405c-8c1f-ee16ea3f145b"
      },
      "source": [
        "# Optional wandb for model logging\n",
        "!wandb login\n",
        "# Specific to user - Put it here for convinience"
      ],
      "execution_count": null,
      "outputs": [
        {
          "output_type": "stream",
          "name": "stdout",
          "text": [
            "\u001b[34m\u001b[1mwandb\u001b[0m: You can find your API key in your browser here: https://wandb.ai/authorize\n",
            "\u001b[34m\u001b[1mwandb\u001b[0m: Paste an API key from your profile and hit enter: \n",
            "\u001b[34m\u001b[1mwandb\u001b[0m: Appending key for api.wandb.ai to your netrc file: /root/.netrc\n"
          ]
        }
      ]
    },
    {
      "cell_type": "code",
      "metadata": {
        "colab": {
          "base_uri": "https://localhost:8080/"
        },
        "id": "v_h42a0Z8SlJ",
        "outputId": "21d2d8ff-521a-42a0-87c9-863eefd148a4"
      },
      "source": [
        "mne.set_log_level(False) # Equivalent to WARNING\n",
        "path = \"/content/drive/MyDrive/mne_data\"\n",
        "set_config(\"MNE_DATA\", path)\n",
        "set_config(\"MNE_DATASETS_BEETLSLEEPLEADERBOARD_PATH\",path)\n",
        "set_config(\"MNE_DATASETS_BEETLSLEEPSOURCE_PATH\",path)\n",
        "get_config()"
      ],
      "execution_count": null,
      "outputs": [
        {
          "output_type": "stream",
          "name": "stderr",
          "text": [
            "<ipython-input-4-d9ce88047e42>:4: RuntimeWarning: Setting non-standard config type: \"MNE_DATASETS_BEETLSLEEPLEADERBOARD_PATH\"\n",
            "  set_config(\"MNE_DATASETS_BEETLSLEEPLEADERBOARD_PATH\",path)\n",
            "<ipython-input-4-d9ce88047e42>:5: RuntimeWarning: Setting non-standard config type: \"MNE_DATASETS_BEETLSLEEPSOURCE_PATH\"\n",
            "  set_config(\"MNE_DATASETS_BEETLSLEEPSOURCE_PATH\",path)\n"
          ]
        },
        {
          "output_type": "execute_result",
          "data": {
            "text/plain": [
              "{'MNE_DATA': '/content/drive/MyDrive/mne_data',\n",
              " 'MNE_DATASETS_BEETLSLEEPLEADERBOARD_PATH': '/content/drive/MyDrive/mne_data',\n",
              " 'MNE_DATASETS_BEETLSLEEPSOURCE_PATH': '/content/drive/MyDrive/mne_data'}"
            ]
          },
          "metadata": {},
          "execution_count": 4
        }
      ]
    },
    {
      "cell_type": "code",
      "metadata": {
        "colab": {
          "base_uri": "https://localhost:8080/"
        },
        "id": "E_fQU4bJ8TF2",
        "outputId": "7934f309-def9-48a6-cf1b-301d8e06677b"
      },
      "source": [
        "cuda = torch.cuda.is_available()  # check if GPU is available\n",
        "device = 'cuda' if cuda else 'cpu'\n",
        "print(device)\n",
        "if cuda:\n",
        "    torch.backends.cudnn.benchmark = True\n",
        "# Set random seed to be able to reproduce results\n",
        "set_random_seeds(seed=87, cuda=cuda)\n",
        "random_state = 87\n",
        "\n",
        "!nvidia-smi -L\n",
        "# !nvidia-smi -q\n",
        "\n",
        "# gpu = cuda.get_current_device()\n",
        "# print(\"maxThreadsPerBlock = %s\" % str(gpu.MAX_THREADS_PER_BLOCK))"
      ],
      "execution_count": null,
      "outputs": [
        {
          "output_type": "stream",
          "name": "stdout",
          "text": [
            "cuda\n",
            "GPU 0: Tesla P100-PCIE-16GB (UUID: GPU-c3e06580-ab8e-2ffd-1dc1-f3ea7be7b9c2)\n"
          ]
        }
      ]
    },
    {
      "cell_type": "code",
      "metadata": {
        "id": "QLNWv8j48Vhd",
        "cellView": "form"
      },
      "source": [
        "#@title Helper Functions\n",
        "\n",
        "def label_count(y_train):\n",
        "  labels= np.unique(y_train)\n",
        "  labelsize=labels.shape[0]\n",
        "  #print('labelsize:',labelsize)\n",
        "  label_count = np.zeros(labelsize).astype(int)\n",
        "  for i in range(labelsize):\n",
        "      # tempy = ys1[ys1==labels[i]]\n",
        "      label_count[i]=y_train[y_train==labels[i]].shape[0]\n",
        "  maxsize = label_count.max()\n",
        "  print(label_count)\n",
        "  return np_to_var(label_count)\n",
        "\n",
        "def label_viz(y):\n",
        "  # Another Nice func with viz\n",
        "  classes_mapping = {0: 'W', 1: 'S1', 2: 'S2', 3: 'S3', 4: 'S4', 5:'REM'}\n",
        "  # This might be a time consuming method though\n",
        "  y_train = pd.Series([y for _, y in train_ds]).map(classes_mapping)\n",
        "  ax = y_train.value_counts().plot(kind='barh')\n",
        "  ax.set_xlabel('Number of training examples');\n",
        "  ax.set_ylabel('Sleep stage');\n",
        "\n",
        "# For trained Skorch model\n",
        "def training_viz(clf):\n",
        "  # For Trained Skorch Classifier\n",
        "  df = pd.DataFrame(clf.history.to_list())\n",
        "  df[['train_mis_clf', 'valid_mis_clf']] = 100 - df[\n",
        "      ['train_bacc', 'valid_bacc']] * 100\n",
        "\n",
        "  # get percent of misclass for better visual comparison to loss\n",
        "  plt.style.use('seaborn-talk')\n",
        "  fig, ax1 = plt.subplots(figsize=(20, 7))\n",
        "  df.loc[:, ['train_loss', 'valid_loss']].plot(\n",
        "      ax=ax1, style=['-', ':'], marker='o', color='tab:blue', legend=False,\n",
        "      fontsize=14)\n",
        "\n",
        "  ax1.tick_params(axis='y', labelcolor='tab:blue', labelsize=14)\n",
        "  ax1.set_ylabel(\"Loss\", color='tab:blue', fontsize=14)\n",
        "\n",
        "  ax2 = ax1.twinx()  # instantiate a second axes that shares the same x-axis\n",
        "\n",
        "  df.loc[:, ['train_mis_clf', 'valid_mis_clf']].plot(\n",
        "      ax=ax2, style=['-', ':'], marker='o', color='tab:red', legend=False)\n",
        "  ax2.tick_params(axis='y', labelcolor='tab:red', labelsize=14)\n",
        "  ax2.set_ylabel('Balanced misclassification rate [%]', color='tab:red',\n",
        "                fontsize=14)\n",
        "  ax2.set_ylim(ax2.get_ylim()[0], 85)  # make some room for legend\n",
        "  ax1.set_xlabel('Epoch', fontsize=14)\n",
        "\n",
        "  # where some data has already been plotted to ax\n",
        "  handles = []\n",
        "  handles.append(\n",
        "      Line2D([0], [0], color='black', linewidth=1, linestyle='-', label='Train'))\n",
        "  handles.append(\n",
        "      Line2D([0], [0], color='black', linewidth=1, linestyle=':', label='Valid'))\n",
        "  plt.legend(handles, [h.get_label() for h in handles], fontsize=14)\n",
        "  plt.tight_layout()\n",
        "\n",
        "# Scaling the data\n",
        "class TrainObject(object):\n",
        "    # Scaling the data\n",
        "    def __init__(self, X, y, nps= False):\n",
        "        assert len(X) == len(y)\n",
        "        # mean = np.mean(X, axis=2, keepdims=True)\n",
        "        # # Here normalise across the window, when channel size is not large enough\n",
        "        # # In motor imagery kit, we put axis = 1, across channel as an example\n",
        "        # std = np.std(X, axis=2, keepdims=True)\n",
        "        # X = (X - mean) / std\n",
        "        X = zscore(X)\n",
        "        # we scale it to 1000 as a better training scale of the shallow CNN\n",
        "        # according to the orignal work of the paper referenced above\n",
        "        if (nps == False):\n",
        "          self.X = np_to_var(X.astype(np.float32)*1e3).to(device)\n",
        "          self.y = np_to_var(y.astype(np.int8)).to(device)\n",
        "        else:\n",
        "          self.X = X.astype(np.float32)*1e3\n",
        "          self.y = y.astype(np.int8)\n",
        "\n",
        "def predict_leaderboard_unlabelled(clf, save_fname, x_test_data = None, emb = False,nps=False):\n",
        "  # Test Data - 6 to 17 - 12 subjects \n",
        "  if x_test_data is None:\n",
        "    _, _, X_test, _ = dsl.get_data(subjects=range(6, 18)) \n",
        "    print(\"Sleep leaderboard - Test Data : There are {} trials with {} electrodes and {} time samples\".format(*X_test.shape))\n",
        "\n",
        "    # print(X_test.shape[0])\n",
        "\n",
        "    x_test_mean = TrainObject(X_test, y = np.zeros(X_test.shape[0]),nps=nps)\n",
        "    if (nps==False):\n",
        "      # means torch must've been the input to the classifier\n",
        "      x_test_data = Dataset(x_test_mean.X,x_test_mean.y)\n",
        "      # Maybe put a tqdm bar?\n",
        "      y_pred = clf.predict(x_test_data)\n",
        "    else:\n",
        "      x_test_data = x_test_mean \n",
        "      y_pred = clf.predict(x_test_data.X)\n",
        "  else:\n",
        "    y_pred = clf.predict(x_test_data)\n",
        "  print(x_test_data.shape)\n",
        "\n",
        "  print(\"Checking if all classes have been predicted\")\n",
        "  print(np.unique(y_pred))\n",
        "  #@markdown Set the save_path for saving the prediction\n",
        "  save_path = \"/content/drive/MyDrive/mne_data/NeuroIPS_Hack_Sleep/predict/\" #@param\n",
        "  np.savetxt(save_path+save_fname+\".txt\",y_pred,delimiter=',',fmt=\"%d\")"
      ],
      "execution_count": null,
      "outputs": []
    },
    {
      "cell_type": "code",
      "metadata": {
        "id": "kHWXsvutVDsq",
        "cellView": "form"
      },
      "source": [
        "#@title Helper Functions for loading the Data\n",
        "def get_trainB():\n",
        "  start = time.time()\n",
        "  dss = BeetlSleepSource()\n",
        "  \n",
        "  start = time.time()\n",
        "  X_train, y_train, _ = dss.get_data()\n",
        "  end = time.time()\n",
        "\n",
        "  print(f\"Train data load time {(end-start)/60} min\")\n",
        "  print(X_train.shape,y_train.shape)\n",
        "  label_count(y_train)\n",
        "\n",
        "  # z-scoring or normalizing\n",
        "  \n",
        "  # start = time.time()\n",
        "  trainX = TrainObject(X_train, y = y_train, nps = False)\n",
        "  end = time.time()\n",
        "  print(f\"Z-scoring time {end-start}\")\n",
        "  \n",
        "  start = time.time()\n",
        "  # trainB = Dataset(trainX)\n",
        "  trainB = Dataset(trainX.X,trainX.y)\n",
        "  end = time.time()\n",
        "  print(f\"Torch dataset time {end-start} sec = {(end-start)/60} min\")\n",
        "  # 10 sec + 7 min\n",
        "  return trainB\n",
        "\n",
        "def get_valB():\n",
        "  # valB\n",
        "  # Labelled Leaderboard Data\n",
        "  start = time.time()\n",
        "  dsl = BeetlSleepLeaderboard()\n",
        "  # dsl.get_data()\n",
        "\n",
        "  # Validation Data - 5? 6? subjects from the test group - Competition says 5, looks like 6\n",
        "\n",
        "  X_target, y_target, _, _ = dsl.get_data(subjects=range(0,6))\n",
        "\n",
        "  end = time.time()\n",
        "  print(f\"leaderboard labelled load time = {(end-start)/60} min\")\n",
        "\n",
        "  print(X_target.shape,y_target.shape)\n",
        "  label_count(y_target)\n",
        "\n",
        "  # z-scoring or normalizing\n",
        "  start = time.time()\n",
        "  valX = TrainObject(X_target, y = y_target, nps = False)\n",
        "  end = time.time()\n",
        "  print(f\"Z-scoring time {end-start} sec\")\n",
        "\n",
        "  \n",
        "  # for braindecode\n",
        "  start = time.time()\n",
        "  valB = Dataset(valX.X,valX.y)\n",
        "  end = time.time()\n",
        "  print(f\"Torch dataset time {end-start} sec = {(end-start)/60} min\")\n",
        "  # 3 sec + 1.5 min\n",
        "  return valB\n",
        "\n",
        "def get_testB():\n",
        "  dsl = BeetlSleepLeaderboard()\n",
        "  _, _, X_test, _ = dsl.get_data(subjects=range(6, 18)) \n",
        "  print(\"Sleep leaderboard - Test Data : There are {} trials with {} electrodes and {} time samples\".format(*X_test.shape))\n",
        "  # print(X_test.shape[0])\n",
        "  # x_test_mean = TrainObject(X_test, y = np.zeros(X_test.shape[0]),nps=nps)\n",
        "\n",
        "  # z-scoring or normalizing\n",
        "  start = time.time()\n",
        "  testX = TrainObject(X_test, y = np.zeros(X_test.shape[0]), nps = False)\n",
        "  end = time.time()\n",
        "  print(f\"Z-scoring time {end-start} sec\")\n",
        "  \n",
        "  # for braindecode\n",
        "  start = time.time()\n",
        "  testB = Dataset(testX.X,testX.y)\n",
        "  end = time.time()\n",
        "  print(f\"Torch dataset time {end-start} sec = {(end-start)/60} min\")\n",
        "  return testB\n",
        "\n",
        "def get_valC():\n",
        "  # Phase 2 Target Data\n",
        "  # Need to download by myself first\n",
        "  target_savebase = '/content/drive/MyDrive/mne_data/MNE-beetlsleeptest-data/sleep_target/'\n",
        "  X_sleep_target = []\n",
        "  y_sleep_target = []\n",
        "  #from s0-s4 in final set\n",
        "  start = time.time()\n",
        "  for subj in range(0, 5):\n",
        "      for session in range(1, 3):\n",
        "          # \"testing_s{}r{}X.npy\", replacing \"leaderboard_s{}r{}X.npy\" before\n",
        "          with open(target_savebase + \"testing_s{}r{}X.npy\".format(subj, session), 'rb') as f:\n",
        "            X_sleep_target.append(pickle.load(f))\n",
        "          with open(target_savebase + \"testing_s{}r{}y.npy\".format(subj, session), 'rb') as g:\n",
        "            y_sleep_target.append(pickle.load(g))\n",
        "  X_sleep_target = np.concatenate(X_sleep_target)\n",
        "  y_sleep_target = np.concatenate(y_sleep_target)\n",
        "\n",
        "\n",
        "  end = time.time()\n",
        "  print(f\"phase 2 labelled load time = {(end-start)/60} min\")\n",
        "\n",
        "  print(\"There are {} trials with {} electrodes and {} time samples\".format(*X_sleep_target.shape))\n",
        "  print(X_sleep_target.shape, y_sleep_target.shape)\n",
        "  label_count(y_sleep_target)\n",
        "\n",
        "  # package in torch dataset with mean normalizing\n",
        "  # z-scoring or normalizing\n",
        "  start = time.time()\n",
        "  valX = TrainObject(X_sleep_target, y = y_sleep_target, nps = False)\n",
        "  end = time.time()\n",
        "  print(f\"Z-scoring time {end-start} sec\")\n",
        "\n",
        "  \n",
        "  # for braindecode\n",
        "  start = time.time()\n",
        "  valC = Dataset(valX.X,valX.y)\n",
        "  end = time.time()\n",
        "  print(f\"Torch dataset time {end-start} sec = {(end-start)/60} min\")\n",
        "  # \n",
        "  return valC\n",
        "\n",
        "def get_testC():\n",
        "  # Phase 2 Test Data - Need to download by myself first\n",
        "  test_savebase = '/content/drive/MyDrive/mne_data/MNE-beetlsleeptest-data/testing/'\n",
        "  X_sleep_test = []\n",
        "  start = time.time()\n",
        "\n",
        "  #starts from s5 in final set\n",
        "  for subj in range(5, 14):\n",
        "      for session in range(1, 3):\n",
        "          # \"testing_s{}r{}X.npy\", replacing \"leaderboard_s{}r{}X.npy\" before\n",
        "          with open(test_savebase + \"testing_s{}r{}X.npy\".format(subj, session), 'rb') as f:\n",
        "              X_sleep_test.append(pickle.load(f))\n",
        "  X_sleep_test = np.concatenate(X_sleep_test)\n",
        "  end = time.time()\n",
        "  print(f\"phase 2 final test set load time = {(end-start)/60} min\")\n",
        "  print (\"There are {} trials with {} electrodes and {} time samples\".format(*X_sleep_test.shape))\n",
        "\n",
        "  # package in torch dataset with mean normalizing\n",
        "  # z-scoring or normalizing\n",
        "  start = time.time()\n",
        "  testX = TrainObject(X_sleep_test, y = np.zeros(X_sleep_test.shape[0]), nps = False)\n",
        "  end = time.time()\n",
        "  print(f\"Z-scoring time {end-start} sec\")\n",
        "  \n",
        "  # for braindecode\n",
        "  start = time.time()\n",
        "  testC = Dataset(testX.X,testX.y)\n",
        "  end = time.time()\n",
        "  print(f\"Torch dataset time {end-start} sec = {(end-start)/60} min\")\n",
        "  return testC"
      ],
      "execution_count": null,
      "outputs": []
    },
    {
      "cell_type": "code",
      "metadata": {
        "id": "VFdTDRSBXXXM"
      },
      "source": [
        "from time import time as t\n",
        "def load_obj(path,name):\n",
        "  target = path + name + '.pkl'\n",
        "  with open(target, 'rb') as f:\n",
        "    unpickler = pickle.Unpickler(f)\n",
        "    a = unpickler.load()\n",
        "    return a"
      ],
      "execution_count": null,
      "outputs": []
    },
    {
      "cell_type": "code",
      "metadata": {
        "colab": {
          "base_uri": "https://localhost:8080/"
        },
        "id": "kRK7hmlqXtJB",
        "outputId": "9143d181-759e-44fc-89a8-229bdbdba94c"
      },
      "source": [
        "# Loading the data as Torch datasets with z-scoring\n",
        "trainB = get_trainB()\n",
        "valB = get_valB()\n",
        "testB = get_testB()"
      ],
      "execution_count": null,
      "outputs": [
        {
          "output_type": "stream",
          "name": "stdout",
          "text": [
            "Train data load time 2.091049063205719 min\n",
            "(90545, 2, 3000) (90545,)\n",
            "[24043  7941 35983  5247  3057 14274]\n",
            "Z-scoring time 142.37633633613586\n",
            "Torch dataset time 0.0035288333892822266 sec = 5.8813889821370444e-05 min\n",
            "leaderboard labelled load time = 0.3546595533688863 min\n",
            "(15442, 2, 3000) (15442,)\n",
            "[6010 1672 5035  704  414 1607]\n",
            "Z-scoring time 1.0841395854949951 sec\n",
            "Torch dataset time 9.655952453613281e-05 sec = 1.6093254089355469e-06 min\n",
            "Sleep leaderboard - Test Data : There are 25748 trials with 2 electrodes and 3000 time samples\n",
            "Z-scoring time 1.6269407272338867 sec\n",
            "Torch dataset time 7.843971252441406e-05 sec = 1.3073285420735677e-06 min\n"
          ]
        }
      ]
    },
    {
      "cell_type": "code",
      "metadata": {
        "colab": {
          "base_uri": "https://localhost:8080/"
        },
        "id": "eV32LyTYm4Sr",
        "outputId": "d0ac10da-276c-4664-caf6-d2cee351441a"
      },
      "source": [
        "print(trainB)\n",
        "print(valB)\n",
        "print(testB)"
      ],
      "execution_count": null,
      "outputs": [
        {
          "output_type": "stream",
          "name": "stdout",
          "text": [
            "<skorch.dataset.Dataset object at 0x7f408e16acd0>\n",
            "<skorch.dataset.Dataset object at 0x7f40958a1790>\n",
            "<skorch.dataset.Dataset object at 0x7f41141f1050>\n"
          ]
        }
      ]
    },
    {
      "cell_type": "markdown",
      "metadata": {
        "id": "suXuaOiVFnXb"
      },
      "source": [
        "# AttnSleep"
      ]
    },
    {
      "cell_type": "code",
      "metadata": {
        "id": "xYDHjZIXYEvL",
        "cellView": "form"
      },
      "source": [
        "#@title Utilities Functions\n",
        "# calc_class_weight\n",
        "def calc_class_weight(labels_count):\n",
        "    total = np.sum(labels_count)\n",
        "    class_weight = dict()\n",
        "    num_classes = len(labels_count)\n",
        "\n",
        "    factor = 1 / num_classes\n",
        "    # adding a factor for S4 as 1.5\n",
        "    # original work was AASM only till N3 = S3+S4\n",
        "    mu = [factor * 1.5, factor * 2, factor * 1.5, factor,factor*1.5, factor * 1.5]\n",
        "\n",
        "    for key in range(num_classes):\n",
        "        score = math.log(mu[key] * total / float(labels_count[key]))\n",
        "        class_weight[key] = score if score > 1.0 else 1.0\n",
        "        class_weight[key] = round(class_weight[key] * factor, 2)\n",
        "\n",
        "    class_weight = [class_weight[i] for i in range(num_classes)]\n",
        "\n",
        "    return class_weight"
      ],
      "execution_count": null,
      "outputs": []
    },
    {
      "cell_type": "code",
      "metadata": {
        "id": "v7svPvZ1OX-W",
        "cellView": "form"
      },
      "source": [
        "#@title AttnSleep helper modules\n",
        "\n",
        "class SELayer(nn.Module):\n",
        "    def __init__(self, channel, reduction=16):\n",
        "        super(SELayer, self).__init__()\n",
        "        self.avg_pool = nn.AdaptiveAvgPool1d(1)\n",
        "        self.fc = nn.Sequential(\n",
        "            nn.Linear(channel, channel // reduction, bias=False),\n",
        "            nn.ReLU(inplace=True),\n",
        "            nn.Linear(channel // reduction, channel, bias=False),\n",
        "            nn.Sigmoid()\n",
        "        )\n",
        "\n",
        "    def forward(self, x):\n",
        "        b, c, _ = x.size()\n",
        "        y = self.avg_pool(x).view(b, c)\n",
        "        y = self.fc(y).view(b, c, 1)\n",
        "        return x * y.expand_as(x)\n",
        "\n",
        "\n",
        "class SEBasicBlock(nn.Module):\n",
        "    expansion = 1\n",
        "\n",
        "    def __init__(self, inplanes, planes, stride=1, downsample=None, groups=1,\n",
        "                 base_width=64, dilation=1, norm_layer=None,\n",
        "                 *, reduction=16):\n",
        "        super(SEBasicBlock, self).__init__()\n",
        "        self.conv1 = nn.Conv1d(inplanes, planes, stride)\n",
        "        self.bn1 = nn.BatchNorm1d(planes)\n",
        "        self.relu = nn.ReLU(inplace=True)\n",
        "        self.conv2 = nn.Conv1d(planes, planes, 1)\n",
        "        self.bn2 = nn.BatchNorm1d(planes)\n",
        "        self.se = SELayer(planes, reduction)\n",
        "        self.downsample = downsample\n",
        "        self.stride = stride\n",
        "        \n",
        "\n",
        "    def forward(self, x):\n",
        "        residual = x\n",
        "        out = self.conv1(x)\n",
        "        out = self.bn1(out)\n",
        "        out = self.relu(out)\n",
        "\n",
        "        out = self.conv2(out)\n",
        "        out = self.bn2(out)\n",
        "        out = self.se(out)\n",
        "\n",
        "        if self.downsample is not None:\n",
        "            residual = self.downsample(x)\n",
        "\n",
        "        out += residual\n",
        "        out = self.relu(out)\n",
        "\n",
        "        return out\n",
        "\n",
        "class GELU(nn.Module):\n",
        "    # for older versions of PyTorch.  For new versions you can use nn.GELU() instead.\n",
        "    def __init__(self):\n",
        "        super(GELU, self).__init__()\n",
        "        \n",
        "    def forward(self, x):\n",
        "        x = torch.nn.functional.gelu(x)\n",
        "        return x\n",
        "        \n",
        "        \n",
        "class MRCNN(nn.Module):\n",
        "    def __init__(self, afr_reduced_cnn_size):\n",
        "        super(MRCNN, self).__init__()\n",
        "        drate = 0.5\n",
        "        self.GELU = GELU()  # for older versions of PyTorch.  For new versions use nn.GELU() instead.\n",
        "        self.features1 = nn.Sequential(\n",
        "            nn.Conv1d(1, 64, kernel_size=50, stride=6, bias=False, padding=24),\n",
        "            nn.BatchNorm1d(64),\n",
        "            self.GELU,\n",
        "            nn.MaxPool1d(kernel_size=8, stride=2, padding=4),\n",
        "            nn.Dropout(drate),\n",
        "\n",
        "            nn.Conv1d(64, 128, kernel_size=8, stride=1, bias=False, padding=4),\n",
        "            nn.BatchNorm1d(128),\n",
        "            self.GELU,\n",
        "\n",
        "            nn.Conv1d(128, 128, kernel_size=8, stride=1, bias=False, padding=4),\n",
        "            nn.BatchNorm1d(128),\n",
        "            self.GELU,\n",
        "\n",
        "            nn.MaxPool1d(kernel_size=4, stride=4, padding=2)\n",
        "        )\n",
        "\n",
        "        self.features2 = nn.Sequential(\n",
        "            nn.Conv1d(1, 64, kernel_size=400, stride=50, bias=False, padding=200),\n",
        "            nn.BatchNorm1d(64),\n",
        "            self.GELU,\n",
        "            nn.MaxPool1d(kernel_size=4, stride=2, padding=2),\n",
        "            nn.Dropout(drate),\n",
        "\n",
        "            nn.Conv1d(64, 128, kernel_size=7, stride=1, bias=False, padding=3),\n",
        "            nn.BatchNorm1d(128),\n",
        "            self.GELU,\n",
        "\n",
        "            nn.Conv1d(128, 128, kernel_size=7, stride=1, bias=False, padding=3),\n",
        "            nn.BatchNorm1d(128),\n",
        "            self.GELU,\n",
        "\n",
        "            nn.MaxPool1d(kernel_size=2, stride=2, padding=1)\n",
        "        )\n",
        "        self.dropout = nn.Dropout(drate)\n",
        "        self.inplanes = 128\n",
        "        self.AFR = self._make_layer(SEBasicBlock, afr_reduced_cnn_size, 1)\n",
        "\n",
        "    def _make_layer(self, block, planes, blocks, stride=1):  # makes residual SE block\n",
        "        downsample = None\n",
        "        if stride != 1 or self.inplanes != planes * block.expansion:\n",
        "            downsample = nn.Sequential(\n",
        "                nn.Conv1d(self.inplanes, planes * block.expansion,\n",
        "                          kernel_size=1, stride=stride, bias=False),\n",
        "                nn.BatchNorm1d(planes * block.expansion),\n",
        "            )\n",
        "\n",
        "        layers = []\n",
        "        layers.append(block(self.inplanes, planes, stride, downsample))\n",
        "        self.inplanes = planes * block.expansion\n",
        "        for i in range(1, blocks):\n",
        "            layers.append(block(self.inplanes, planes))\n",
        "\n",
        "        return nn.Sequential(*layers)\n",
        "\n",
        "    def forward(self, x):\n",
        "        x1 = self.features1(x)\n",
        "        x2 = self.features2(x)\n",
        "        x_concat = torch.cat((x1, x2), dim=2)\n",
        "        x_concat = self.dropout(x_concat)\n",
        "        x_concat = self.AFR(x_concat)\n",
        "        return x_concat\n",
        "\n",
        "##########################################################################################\n",
        "\n",
        "\n",
        "def attention(query, key, value, dropout=None):\n",
        "    \"Implementation of Scaled dot product attention\"\n",
        "    d_k = query.size(-1)\n",
        "    scores = torch.matmul(query, key.transpose(-2, -1)) / math.sqrt(d_k)\n",
        "\n",
        "    p_attn = F.softmax(scores, dim=-1)\n",
        "    if dropout is not None:\n",
        "        p_attn = dropout(p_attn)\n",
        "    return torch.matmul(p_attn, value), p_attn\n",
        "\n",
        "\n",
        "class CausalConv1d(torch.nn.Conv1d):\n",
        "    def __init__(self,\n",
        "                 in_channels,\n",
        "                 out_channels,\n",
        "                 kernel_size,\n",
        "                 stride=1,\n",
        "                 dilation=1,\n",
        "                 groups=1,\n",
        "                 bias=True):\n",
        "        self.__padding = (kernel_size - 1) * dilation\n",
        "\n",
        "        super(CausalConv1d, self).__init__(\n",
        "            in_channels,\n",
        "            out_channels,\n",
        "            kernel_size=kernel_size,\n",
        "            stride=stride,\n",
        "            padding=self.__padding,\n",
        "            dilation=dilation,\n",
        "            groups=groups,\n",
        "            bias=bias)\n",
        "\n",
        "    def forward(self, input):\n",
        "        result = super(CausalConv1d, self).forward(input)\n",
        "        if self.__padding != 0:\n",
        "            return result[:, :, :-self.__padding]\n",
        "        return result\n",
        "\n",
        "class MultiHeadedAttention(nn.Module):\n",
        "    def __init__(self, h, d_model, afr_reduced_cnn_size, dropout=0.1):\n",
        "        \"Take in model size and number of heads.\"\n",
        "        super(MultiHeadedAttention, self).__init__()\n",
        "        assert d_model % h == 0\n",
        "        self.d_k = d_model // h\n",
        "        self.h = h\n",
        "\n",
        "        self.convs = clones(CausalConv1d(afr_reduced_cnn_size, afr_reduced_cnn_size, kernel_size=7, stride=1), 3)\n",
        "        self.linear = nn.Linear(d_model, d_model)\n",
        "        self.dropout = nn.Dropout(p=dropout)\n",
        "\n",
        "    def forward(self, query, key, value):\n",
        "        \"Implements Multi-head attention\"\n",
        "        nbatches = query.size(0)\n",
        "\n",
        "        query = query.view(nbatches, -1, self.h, self.d_k).transpose(1, 2)\n",
        "        key   = self.convs[1](key).view(nbatches, -1, self.h, self.d_k).transpose(1, 2)\n",
        "        value = self.convs[2](value).view(nbatches, -1, self.h, self.d_k).transpose(1, 2)\n",
        "\n",
        "        x, self.attn = attention(query, key, value, dropout=self.dropout)\n",
        "\n",
        "        x = x.transpose(1, 2).contiguous() \\\n",
        "            .view(nbatches, -1, self.h * self.d_k)\n",
        "\n",
        "        return self.linear(x)\n",
        "\n",
        "\n",
        "class LayerNorm(nn.Module):\n",
        "    \"Construct a layer normalization module.\"\n",
        "\n",
        "    def __init__(self, features, eps=1e-6):\n",
        "        super(LayerNorm, self).__init__()\n",
        "        self.a_2 = nn.Parameter(torch.ones(features))\n",
        "        self.b_2 = nn.Parameter(torch.zeros(features))\n",
        "        self.eps = eps\n",
        "\n",
        "    def forward(self, x):\n",
        "        mean = x.mean(-1, keepdim=True)\n",
        "        std = x.std(-1, keepdim=True)\n",
        "        return self.a_2 * (x - mean) / (std + self.eps) + self.b_2\n",
        "\n",
        "\n",
        "class SublayerOutput(nn.Module):\n",
        "    '''\n",
        "    A residual connection followed by a layer norm.\n",
        "    '''\n",
        "\n",
        "    def __init__(self, size, dropout):\n",
        "        super(SublayerOutput, self).__init__()\n",
        "        self.norm = LayerNorm(size)\n",
        "        self.dropout = nn.Dropout(dropout)\n",
        "\n",
        "    def forward(self, x, sublayer):\n",
        "        \"Apply residual connection to any sublayer with the same size.\"\n",
        "        return x + self.dropout(sublayer(self.norm(x)))\n",
        "\n",
        "\n",
        "def clones(module, N):\n",
        "    \"Produce N identical layers.\"\n",
        "    return nn.ModuleList([copy.deepcopy(module) for _ in range(N)])\n",
        "\n",
        "\n",
        "class TCE(nn.Module):\n",
        "    '''\n",
        "    Transformer Encoder\n",
        "    It is a stack of N layers.\n",
        "    '''\n",
        "\n",
        "    def __init__(self, layer, N):\n",
        "        super(TCE, self).__init__()\n",
        "        self.layers = clones(layer, N)\n",
        "        self.norm = LayerNorm(layer.size)\n",
        "\n",
        "    def forward(self, x):\n",
        "        for layer in self.layers:\n",
        "            x = layer(x)\n",
        "        return self.norm(x)\n",
        "\n",
        "\n",
        "class EncoderLayer(nn.Module):\n",
        "    '''\n",
        "    An encoder layer\n",
        "    Made up of self-attention and a feed forward layer.\n",
        "    Each of these sublayers have residual and layer norm, implemented by SublayerOutput.\n",
        "    '''\n",
        "    def __init__(self, size, self_attn, feed_forward, afr_reduced_cnn_size, dropout):\n",
        "        super(EncoderLayer, self).__init__()\n",
        "        self.self_attn = self_attn\n",
        "        self.feed_forward = feed_forward\n",
        "        self.sublayer_output = clones(SublayerOutput(size, dropout), 2)\n",
        "        self.size = size\n",
        "        self.conv = CausalConv1d(afr_reduced_cnn_size, afr_reduced_cnn_size, kernel_size=7, stride=1, dilation=1)\n",
        "\n",
        "\n",
        "    def forward(self, x_in):\n",
        "        \"Transformer Encoder\"\n",
        "        query = self.conv(x_in)\n",
        "        x = self.sublayer_output[0](query, lambda x: self.self_attn(query, x_in, x_in))  # Encoder self-attention\n",
        "        return self.sublayer_output[1](x, self.feed_forward)\n",
        "\n",
        "\n",
        "class PositionwiseFeedForward(nn.Module):\n",
        "    \"Positionwise feed-forward network.\"\n",
        "\n",
        "    def __init__(self, d_model, d_ff, dropout=0.1):\n",
        "        super(PositionwiseFeedForward, self).__init__()\n",
        "        self.w_1 = nn.Linear(d_model, d_ff)\n",
        "        self.w_2 = nn.Linear(d_ff, d_model)\n",
        "        self.dropout = nn.Dropout(dropout)\n",
        "\n",
        "    def forward(self, x):\n",
        "        \"Implements FFN equation.\"\n",
        "        return self.w_2(self.dropout(F.relu(self.w_1(x))))\n",
        "\n"
      ],
      "execution_count": null,
      "outputs": []
    },
    {
      "cell_type": "code",
      "metadata": {
        "id": "BtD0xXmUzWcd",
        "cellView": "form"
      },
      "source": [
        "#@title AttnSleep Model for Physionet\n",
        "\n",
        "class AttnSleep(nn.Module):\n",
        "    def __init__(self):\n",
        "        super(AttnSleep, self).__init__()\n",
        "\n",
        "        N = 2  # number of TCE clones\n",
        "        d_model = 80  # set to be 100 for SHHS dataset\n",
        "        d_ff = 120   # dimension of feed forward\n",
        "        h = 5  # number of attention heads\n",
        "        dropout = 0.1 #@param\n",
        "        num_classes = 6 #@param\n",
        "        afr_reduced_cnn_size = 30\n",
        "\n",
        "        self.mrcnn = MRCNN(afr_reduced_cnn_size) # use MRCNN_SHHS for SHHS dataset\n",
        "\n",
        "        attn = MultiHeadedAttention(h, d_model, afr_reduced_cnn_size)\n",
        "        ff = PositionwiseFeedForward(d_model, d_ff, dropout)\n",
        "        self.tce = TCE(EncoderLayer(d_model, deepcopy(attn), deepcopy(ff), afr_reduced_cnn_size, dropout), N)\n",
        "\n",
        "        self.fc = nn.Linear(d_model * afr_reduced_cnn_size, num_classes)\n",
        "\n",
        "    def forward(self, x):\n",
        "        x_feat = self.mrcnn(x)\n",
        "        encoded_features = self.tce(x_feat)\n",
        "        encoded_features = encoded_features.contiguous().view(encoded_features.shape[0], -1)\n",
        "        final_output = self.fc(encoded_features)\n",
        "        return final_output\n",
        "    \n",
        "    # def train(self, mode=True):\n",
        "    #     \"\"\"\n",
        "    #     Override the default train() to freeze the BN parameters\n",
        "    #     \"\"\"\n",
        "        \n",
        "    #     super(AttnSleep, self).train(mode)\n",
        "    #     if self.freeze_bn:\n",
        "    #         print(\"Freezing Mean/Var of BatchNorm2D.\")\n",
        "    #         if self.freeze_bn_affine:\n",
        "    #             print(\"Freezing Weight/Bias of BatchNorm2D.\")\n",
        "    #     if self.freeze_bn:\n",
        "    #         for m in self.backbone.modules():\n",
        "    #             if isinstance(m, nn.BatchNorm2d):\n",
        "    #                 m.eval()\n",
        "    #                 if self.freeze_bn_affine:\n",
        "    #                     m.weight.requires_grad = False\n",
        "    #                     m.bias.requires_grad = False\n",
        "\n",
        "######################################################################\n"
      ],
      "execution_count": null,
      "outputs": []
    },
    {
      "cell_type": "code",
      "metadata": {
        "id": "I5L3BIYIZCz-",
        "colab": {
          "base_uri": "https://localhost:8080/"
        },
        "outputId": "9cdbb882-60ee-4d3c-ea19-6be719690317"
      },
      "source": [
        "# Write the Skorch wrapper classifier\n",
        "# Or maybe use braindecode directly over this? But I don't see a benefit to be honest\n",
        "# Go for skorch\n",
        "\n",
        "model = AttnSleep()\n",
        "if cuda:\n",
        "    model.cuda()\n",
        "print(model)"
      ],
      "execution_count": null,
      "outputs": [
        {
          "output_type": "stream",
          "name": "stdout",
          "text": [
            "AttnSleep(\n",
            "  (mrcnn): MRCNN(\n",
            "    (GELU): GELU()\n",
            "    (features1): Sequential(\n",
            "      (0): Conv1d(1, 64, kernel_size=(50,), stride=(6,), padding=(24,), bias=False)\n",
            "      (1): BatchNorm1d(64, eps=1e-05, momentum=0.1, affine=True, track_running_stats=True)\n",
            "      (2): GELU()\n",
            "      (3): MaxPool1d(kernel_size=8, stride=2, padding=4, dilation=1, ceil_mode=False)\n",
            "      (4): Dropout(p=0.5, inplace=False)\n",
            "      (5): Conv1d(64, 128, kernel_size=(8,), stride=(1,), padding=(4,), bias=False)\n",
            "      (6): BatchNorm1d(128, eps=1e-05, momentum=0.1, affine=True, track_running_stats=True)\n",
            "      (7): GELU()\n",
            "      (8): Conv1d(128, 128, kernel_size=(8,), stride=(1,), padding=(4,), bias=False)\n",
            "      (9): BatchNorm1d(128, eps=1e-05, momentum=0.1, affine=True, track_running_stats=True)\n",
            "      (10): GELU()\n",
            "      (11): MaxPool1d(kernel_size=4, stride=4, padding=2, dilation=1, ceil_mode=False)\n",
            "    )\n",
            "    (features2): Sequential(\n",
            "      (0): Conv1d(1, 64, kernel_size=(400,), stride=(50,), padding=(200,), bias=False)\n",
            "      (1): BatchNorm1d(64, eps=1e-05, momentum=0.1, affine=True, track_running_stats=True)\n",
            "      (2): GELU()\n",
            "      (3): MaxPool1d(kernel_size=4, stride=2, padding=2, dilation=1, ceil_mode=False)\n",
            "      (4): Dropout(p=0.5, inplace=False)\n",
            "      (5): Conv1d(64, 128, kernel_size=(7,), stride=(1,), padding=(3,), bias=False)\n",
            "      (6): BatchNorm1d(128, eps=1e-05, momentum=0.1, affine=True, track_running_stats=True)\n",
            "      (7): GELU()\n",
            "      (8): Conv1d(128, 128, kernel_size=(7,), stride=(1,), padding=(3,), bias=False)\n",
            "      (9): BatchNorm1d(128, eps=1e-05, momentum=0.1, affine=True, track_running_stats=True)\n",
            "      (10): GELU()\n",
            "      (11): MaxPool1d(kernel_size=2, stride=2, padding=1, dilation=1, ceil_mode=False)\n",
            "    )\n",
            "    (dropout): Dropout(p=0.5, inplace=False)\n",
            "    (AFR): Sequential(\n",
            "      (0): SEBasicBlock(\n",
            "        (conv1): Conv1d(128, 30, kernel_size=(1,), stride=(1,))\n",
            "        (bn1): BatchNorm1d(30, eps=1e-05, momentum=0.1, affine=True, track_running_stats=True)\n",
            "        (relu): ReLU(inplace=True)\n",
            "        (conv2): Conv1d(30, 30, kernel_size=(1,), stride=(1,))\n",
            "        (bn2): BatchNorm1d(30, eps=1e-05, momentum=0.1, affine=True, track_running_stats=True)\n",
            "        (se): SELayer(\n",
            "          (avg_pool): AdaptiveAvgPool1d(output_size=1)\n",
            "          (fc): Sequential(\n",
            "            (0): Linear(in_features=30, out_features=1, bias=False)\n",
            "            (1): ReLU(inplace=True)\n",
            "            (2): Linear(in_features=1, out_features=30, bias=False)\n",
            "            (3): Sigmoid()\n",
            "          )\n",
            "        )\n",
            "        (downsample): Sequential(\n",
            "          (0): Conv1d(128, 30, kernel_size=(1,), stride=(1,), bias=False)\n",
            "          (1): BatchNorm1d(30, eps=1e-05, momentum=0.1, affine=True, track_running_stats=True)\n",
            "        )\n",
            "      )\n",
            "    )\n",
            "  )\n",
            "  (tce): TCE(\n",
            "    (layers): ModuleList(\n",
            "      (0): EncoderLayer(\n",
            "        (self_attn): MultiHeadedAttention(\n",
            "          (convs): ModuleList(\n",
            "            (0): CausalConv1d(30, 30, kernel_size=(7,), stride=(1,), padding=(6,))\n",
            "            (1): CausalConv1d(30, 30, kernel_size=(7,), stride=(1,), padding=(6,))\n",
            "            (2): CausalConv1d(30, 30, kernel_size=(7,), stride=(1,), padding=(6,))\n",
            "          )\n",
            "          (linear): Linear(in_features=80, out_features=80, bias=True)\n",
            "          (dropout): Dropout(p=0.1, inplace=False)\n",
            "        )\n",
            "        (feed_forward): PositionwiseFeedForward(\n",
            "          (w_1): Linear(in_features=80, out_features=120, bias=True)\n",
            "          (w_2): Linear(in_features=120, out_features=80, bias=True)\n",
            "          (dropout): Dropout(p=0.1, inplace=False)\n",
            "        )\n",
            "        (sublayer_output): ModuleList(\n",
            "          (0): SublayerOutput(\n",
            "            (norm): LayerNorm()\n",
            "            (dropout): Dropout(p=0.1, inplace=False)\n",
            "          )\n",
            "          (1): SublayerOutput(\n",
            "            (norm): LayerNorm()\n",
            "            (dropout): Dropout(p=0.1, inplace=False)\n",
            "          )\n",
            "        )\n",
            "        (conv): CausalConv1d(30, 30, kernel_size=(7,), stride=(1,), padding=(6,))\n",
            "      )\n",
            "      (1): EncoderLayer(\n",
            "        (self_attn): MultiHeadedAttention(\n",
            "          (convs): ModuleList(\n",
            "            (0): CausalConv1d(30, 30, kernel_size=(7,), stride=(1,), padding=(6,))\n",
            "            (1): CausalConv1d(30, 30, kernel_size=(7,), stride=(1,), padding=(6,))\n",
            "            (2): CausalConv1d(30, 30, kernel_size=(7,), stride=(1,), padding=(6,))\n",
            "          )\n",
            "          (linear): Linear(in_features=80, out_features=80, bias=True)\n",
            "          (dropout): Dropout(p=0.1, inplace=False)\n",
            "        )\n",
            "        (feed_forward): PositionwiseFeedForward(\n",
            "          (w_1): Linear(in_features=80, out_features=120, bias=True)\n",
            "          (w_2): Linear(in_features=120, out_features=80, bias=True)\n",
            "          (dropout): Dropout(p=0.1, inplace=False)\n",
            "        )\n",
            "        (sublayer_output): ModuleList(\n",
            "          (0): SublayerOutput(\n",
            "            (norm): LayerNorm()\n",
            "            (dropout): Dropout(p=0.1, inplace=False)\n",
            "          )\n",
            "          (1): SublayerOutput(\n",
            "            (norm): LayerNorm()\n",
            "            (dropout): Dropout(p=0.1, inplace=False)\n",
            "          )\n",
            "        )\n",
            "        (conv): CausalConv1d(30, 30, kernel_size=(7,), stride=(1,), padding=(6,))\n",
            "      )\n",
            "    )\n",
            "    (norm): LayerNorm()\n",
            "  )\n",
            "  (fc): Linear(in_features=2400, out_features=6, bias=True)\n",
            ")\n"
          ]
        }
      ]
    },
    {
      "cell_type": "code",
      "metadata": {
        "id": "_bqpARgCPdQg"
      },
      "source": [
        "# This model takes in data of single channel - Paper took Pz-Oz\n",
        "# Need to create new Pytorch Dataset with single channel\n",
        "\n",
        "# Channel 0\n",
        "trainA0 = Dataset(trainB.X[:,0,:].unsqueeze(1),trainB.y.long())\n",
        "valA0 = Dataset(valB.X[:,0,:].unsqueeze(1),valB.y.long())\n",
        "\n",
        "# Channel 1\n",
        "# trainA1 = Dataset(trainB.X[:,1,:].unsqueeze(1),trainB.y.long())\n",
        "# valA1 = Dataset(valB.X[:,1,:].unsqueeze(1),valB.y.long())"
      ],
      "execution_count": null,
      "outputs": []
    },
    {
      "cell_type": "code",
      "metadata": {
        "id": "F_yDnlNiP8Pq",
        "cellView": "form"
      },
      "source": [
        "#@title Weighted Cross Entropy Loss (with hard coded weights - change for continued training)\n",
        "import torch\n",
        "import torch.nn as nn\n",
        "\n",
        "class weighted_CrossEntropyLoss():\n",
        "  def __call__(self,output, target):\n",
        "    # hard-coded because not sure of how to pass weights when giving loss function to skorch\n",
        "    classes_weights = [0.17, 0.22, 0.17, 0.18, 0.33, 0.17]\n",
        "    # print(output, target)\n",
        "    # print(type(output), type(target))\n",
        "    # print(type(output.long()),type(target.long()))\n",
        "    cr = nn.CrossEntropyLoss(weight=torch.tensor(classes_weights).to(device))\n",
        "    return cr(output, target)"
      ],
      "execution_count": null,
      "outputs": []
    },
    {
      "cell_type": "markdown",
      "metadata": {
        "id": "DMe6rM0uuVjF"
      },
      "source": [
        "# Training of the model on Group 1 data using Channel 0"
      ]
    },
    {
      "cell_type": "code",
      "metadata": {
        "id": "iOW1XSpi0Lsn",
        "colab": {
          "base_uri": "https://localhost:8080/",
          "height": 197
        },
        "outputId": "559b9a9d-755a-4898-bd2c-99a0d3fb0a47"
      },
      "source": [
        "# Retrain and save other things in checkpointing like params, etc. other than pickle.. Looks like pickle won't work for this model\n",
        "\n",
        "# starting wandb init\n",
        "# comment out for non-wandb run\n",
        "wandb_run = wandb.init(name = \"AttnSleep\", project='cnn-fulltrain', entity='sleep_hacking')\n",
        "\n",
        "# batch_size\n",
        "lr = 1e-3 #change\n",
        "batch_size = 1024\n",
        "n_epochs = 100\n",
        "\n",
        "channel = 0\n",
        "save_path = \"/content/drive/MyDrive/mne_data/AttnSleep2r_checkpoints\"\n",
        "wandb_run.config.update({\"lr\":lr,\"batch_size\":batch_size,\"channel\":channel,\"save_path\":save_path})\n",
        "\n",
        "train_bacc = EpochScoring(\n",
        "    scoring='balanced_accuracy', on_train=True, name='train_bacc',\n",
        "    lower_is_better=False)\n",
        "valid_bacc = EpochScoring(\n",
        "    scoring='balanced_accuracy', on_train=False, name='valid_bacc',\n",
        "    lower_is_better=False)\n",
        "\n",
        "cp = Checkpoint(monitor = 'valid_bacc_best',\n",
        "                f_params = \"params_{last_epoch[epoch]}.pt\", \n",
        "                f_optimizer = \"optimizer_{last_epoch[epoch]}.pt\", \n",
        "                f_criterion = \"criterion_{last_epoch[epoch]}.pt\",\n",
        "                dirname = save_path)\n",
        "train_end_cp = TrainEndCheckpoint(\n",
        "                f_params = \"params_{last_epoch[epoch]}.pt\", \n",
        "                f_optimizer = \"optimizer_{last_epoch[epoch]}.pt\", \n",
        "                f_criterion = \"criterion_{last_epoch[epoch]}.pt\",\n",
        "                dirname=save_path)\n",
        "\n",
        "# f1, accuracy\n",
        "callbacks = [('train_bal_acc', train_bacc),\n",
        "             ('valid_bal_acc', valid_bacc),\n",
        "             (\"checkpoint\",cp),\n",
        "             (\"train_end_cp\",train_end_cp),\n",
        "             (\"wandb\",WandbLogger(wandb_run)) # comment out for non-wandb run\n",
        "            ]\n",
        "\n",
        "\n",
        "# loss = getattr(weighted_CrossEntropyLoss, 'forward')\n",
        "\n",
        "clf2 = NNClassifier(\n",
        "  module = AttnSleep,\n",
        "  criterion = weighted_CrossEntropyLoss,\n",
        "  optimizer=torch.optim.Adam,\n",
        "  train_split=predefined_split(valA0),\n",
        "  iterator_train = DataLoader,\n",
        "  optimizer__lr=lr,\n",
        "  batch_size=batch_size,\n",
        "  callbacks=callbacks,\n",
        "  device=device\n",
        ")\n",
        "# callback metric f1, accuracy\n",
        "# \n",
        "print(clf)"
      ],
      "execution_count": null,
      "outputs": [
        {
          "output_type": "stream",
          "name": "stderr",
          "text": [
            "\u001b[34m\u001b[1mwandb\u001b[0m: Currently logged in as: \u001b[33mdiv12345\u001b[0m (use `wandb login --relogin` to force relogin)\n"
          ]
        },
        {
          "output_type": "display_data",
          "data": {
            "text/html": [
              "\n",
              "                Tracking run with wandb version 0.12.2<br/>\n",
              "                Syncing run <strong style=\"color:#cdcd00\">AttnSleep</strong> to <a href=\"https://wandb.ai\" target=\"_blank\">Weights & Biases</a> <a href=\"https://docs.wandb.com/integrations/jupyter.html\" target=\"_blank\">(Documentation)</a>.<br/>\n",
              "                Project page: <a href=\"https://wandb.ai/sleep_hacking/cnn-fulltrain\" target=\"_blank\">https://wandb.ai/sleep_hacking/cnn-fulltrain</a><br/>\n",
              "                Run page: <a href=\"https://wandb.ai/sleep_hacking/cnn-fulltrain/runs/2up3ndit\" target=\"_blank\">https://wandb.ai/sleep_hacking/cnn-fulltrain/runs/2up3ndit</a><br/>\n",
              "                Run data is saved locally in <code>/content/wandb/run-20210926_153036-2up3ndit</code><br/><br/>\n",
              "            "
            ],
            "text/plain": [
              "<IPython.core.display.HTML object>"
            ]
          },
          "metadata": {}
        },
        {
          "output_type": "stream",
          "name": "stdout",
          "text": [
            "<class 'skorch.classifier.NeuralNetClassifier'>[uninitialized](\n",
            "  module=<class '__main__.AttnSleep'>,\n",
            ")\n"
          ]
        }
      ]
    },
    {
      "cell_type": "code",
      "metadata": {
        "id": "TsjbZw5gX89j",
        "colab": {
          "base_uri": "https://localhost:8080/"
        },
        "outputId": "1c67fd5d-5539-4d3a-829b-fe404c3737cb"
      },
      "source": [
        "start = time.time()\n",
        "# Model training for a specified number of epochs. `y` is None as it is already\n",
        "# supplied in the dataset.\n",
        "# clf.fit(dl.dataset.X.cpu(), y=dl.dataset.y.cpu(), epochs=n_epochs)\n",
        "clf.fit(trainA0, y=None, epochs=n_epochs)\n",
        "end = time.time()\n",
        "print(f'time taken : {end-start}')\n",
        "# saving\n",
        "# with open('/content/drive/MyDrive/mne_data/AttnSleep2_100.pkl', 'wb') as f:\n",
        "#     pickle.dump(model, f)"
      ],
      "execution_count": null,
      "outputs": [
        {
          "output_type": "stream",
          "name": "stderr",
          "text": [
            "/usr/local/lib/python3.7/dist-packages/torch/nn/functional.py:652: UserWarning: Named tensors and all their associated APIs are an experimental feature and subject to change. Please do not use them for anything important until they are released as stable. (Triggered internally at  /pytorch/c10/core/TensorImpl.h:1156.)\n",
            "  return torch.max_pool1d(input, kernel_size, stride, padding, dilation, ceil_mode)\n"
          ]
        },
        {
          "output_type": "stream",
          "name": "stdout",
          "text": [
            "  epoch    train_bacc    train_loss    valid_acc    valid_bacc    valid_loss    cp      dur\n",
            "-------  ------------  ------------  -----------  ------------  ------------  ----  -------\n",
            "      1        \u001b[36m0.3699\u001b[0m        \u001b[32m1.3060\u001b[0m       \u001b[35m0.6611\u001b[0m        \u001b[31m0.4981\u001b[0m        \u001b[94m0.9942\u001b[0m     +  20.8272\n",
            "      2        \u001b[36m0.4655\u001b[0m        \u001b[32m0.9941\u001b[0m       0.6396        \u001b[31m0.5161\u001b[0m        1.0272     +  17.1405\n",
            "      3        \u001b[36m0.4993\u001b[0m        \u001b[32m0.9176\u001b[0m       0.6316        \u001b[31m0.5330\u001b[0m        1.0662     +  17.3853\n",
            "      4        \u001b[36m0.5298\u001b[0m        \u001b[32m0.8638\u001b[0m       0.6094        0.5319        1.0911        17.4876\n",
            "      5        \u001b[36m0.5399\u001b[0m        \u001b[32m0.8224\u001b[0m       0.6024        0.5282        1.1955        17.3755\n",
            "      6        \u001b[36m0.5625\u001b[0m        \u001b[32m0.7857\u001b[0m       0.6151        \u001b[31m0.5462\u001b[0m        1.1233     +  17.2831\n",
            "      7        \u001b[36m0.5748\u001b[0m        \u001b[32m0.7595\u001b[0m       0.6398        \u001b[31m0.5621\u001b[0m        1.0181     +  17.2074\n",
            "      8        \u001b[36m0.5817\u001b[0m        \u001b[32m0.7489\u001b[0m       \u001b[35m0.6684\u001b[0m        0.5535        \u001b[94m0.9651\u001b[0m        17.3004\n",
            "      9        \u001b[36m0.5827\u001b[0m        \u001b[32m0.7438\u001b[0m       0.6620        0.5441        \u001b[94m0.9597\u001b[0m        17.4369\n",
            "     10        \u001b[36m0.5967\u001b[0m        \u001b[32m0.7152\u001b[0m       0.6516        0.5610        1.0215        17.3592\n",
            "     11        \u001b[36m0.6005\u001b[0m        \u001b[32m0.7054\u001b[0m       \u001b[35m0.6750\u001b[0m        \u001b[31m0.5796\u001b[0m        \u001b[94m0.9165\u001b[0m     +  17.2558\n",
            "     12        \u001b[36m0.6067\u001b[0m        \u001b[32m0.6988\u001b[0m       0.6657        0.5677        0.9681        17.3573\n",
            "     13        \u001b[36m0.6105\u001b[0m        \u001b[32m0.6932\u001b[0m       \u001b[35m0.6827\u001b[0m        \u001b[31m0.5850\u001b[0m        \u001b[94m0.8705\u001b[0m     +  17.2783\n",
            "     14        0.6105        \u001b[32m0.6834\u001b[0m       0.6728        0.5788        0.9339        17.3785\n",
            "     15        \u001b[36m0.6180\u001b[0m        \u001b[32m0.6679\u001b[0m       \u001b[35m0.7020\u001b[0m        \u001b[31m0.5942\u001b[0m        \u001b[94m0.8010\u001b[0m     +  17.3060\n",
            "     16        \u001b[36m0.6235\u001b[0m        \u001b[32m0.6579\u001b[0m       0.6883        0.5864        0.8614        17.3700\n",
            "     17        \u001b[36m0.6237\u001b[0m        \u001b[32m0.6577\u001b[0m       \u001b[35m0.7071\u001b[0m        \u001b[31m0.6045\u001b[0m        \u001b[94m0.7974\u001b[0m     +  17.3084\n",
            "     18        \u001b[36m0.6280\u001b[0m        \u001b[32m0.6492\u001b[0m       \u001b[35m0.7074\u001b[0m        0.6031        0.8102        17.3996\n",
            "     19        \u001b[36m0.6342\u001b[0m        \u001b[32m0.6396\u001b[0m       \u001b[35m0.7105\u001b[0m        \u001b[31m0.6104\u001b[0m        \u001b[94m0.7917\u001b[0m     +  17.2822\n",
            "     20        \u001b[36m0.6395\u001b[0m        \u001b[32m0.6317\u001b[0m       0.7074        \u001b[31m0.6127\u001b[0m        0.8038     +  17.2750\n",
            "     21        0.6390        \u001b[32m0.6294\u001b[0m       \u001b[35m0.7243\u001b[0m        \u001b[31m0.6196\u001b[0m        \u001b[94m0.7475\u001b[0m     +  17.3830\n",
            "     22        \u001b[36m0.6456\u001b[0m        \u001b[32m0.6202\u001b[0m       0.7144        \u001b[31m0.6201\u001b[0m        0.7662     +  17.3736\n",
            "     23        \u001b[36m0.6461\u001b[0m        0.6229       0.7109        \u001b[31m0.6237\u001b[0m        0.7676     +  17.3568\n",
            "     24        \u001b[36m0.6484\u001b[0m        \u001b[32m0.6144\u001b[0m       0.7056        0.6186        0.7818        17.3837\n",
            "     25        0.6484        \u001b[32m0.6090\u001b[0m       0.7153        0.6207        0.7581        17.1799\n",
            "     26        \u001b[36m0.6555\u001b[0m        \u001b[32m0.5999\u001b[0m       0.7136        0.6206        0.7639        17.2900\n",
            "     27        \u001b[36m0.6602\u001b[0m        \u001b[32m0.5940\u001b[0m       0.7090        \u001b[31m0.6289\u001b[0m        0.7645     +  17.2721\n",
            "     28        \u001b[36m0.6605\u001b[0m        \u001b[32m0.5892\u001b[0m       0.7114        0.6226        0.7671        17.2880\n",
            "     29        \u001b[36m0.6627\u001b[0m        \u001b[32m0.5858\u001b[0m       0.7111        \u001b[31m0.6297\u001b[0m        0.7702     +  17.2112\n",
            "     30        \u001b[36m0.6636\u001b[0m        \u001b[32m0.5846\u001b[0m       0.7112        0.6293        0.7730        17.3702\n",
            "     31        \u001b[36m0.6709\u001b[0m        \u001b[32m0.5761\u001b[0m       0.7140        \u001b[31m0.6315\u001b[0m        0.7813     +  17.4084\n",
            "     32        0.6698        \u001b[32m0.5756\u001b[0m       0.7160        0.6281        0.7702        17.3965\n",
            "     33        0.6703        \u001b[32m0.5738\u001b[0m       0.7019        0.6210        0.8095        17.3646\n",
            "     34        0.6689        0.5750       0.6862        0.6214        0.8091        17.3128\n",
            "     35        \u001b[36m0.6741\u001b[0m        \u001b[32m0.5667\u001b[0m       0.7019        0.6303        0.7796        17.3601\n",
            "     36        \u001b[36m0.6795\u001b[0m        \u001b[32m0.5600\u001b[0m       0.7107        \u001b[31m0.6396\u001b[0m        0.7603     +  17.4184\n",
            "     37        \u001b[36m0.6806\u001b[0m        0.5613       0.6923        0.6287        0.7961        17.2684\n",
            "     38        \u001b[36m0.6831\u001b[0m        \u001b[32m0.5563\u001b[0m       0.6978        0.6269        0.8094        17.3972\n",
            "     39        0.6802        \u001b[32m0.5552\u001b[0m       0.6912        0.6330        0.8276        17.3614\n",
            "     40        \u001b[36m0.6865\u001b[0m        \u001b[32m0.5512\u001b[0m       0.7095        0.6332        0.7819        17.3224\n",
            "     41        0.6838        \u001b[32m0.5507\u001b[0m       0.6969        0.6323        0.8089        17.3771\n",
            "     42        \u001b[36m0.6920\u001b[0m        \u001b[32m0.5417\u001b[0m       0.6959        0.6341        0.8038        17.2918\n",
            "     43        0.6885        0.5454       0.7042        0.6364        0.7907        17.1966\n",
            "     44        \u001b[36m0.6921\u001b[0m        \u001b[32m0.5354\u001b[0m       0.6838        0.6245        0.8231        17.3757\n",
            "     45        \u001b[36m0.6944\u001b[0m        0.5357       0.7024        0.6375        0.7972        17.3135\n",
            "     46        \u001b[36m0.6980\u001b[0m        \u001b[32m0.5274\u001b[0m       0.6956        0.6319        0.7916        17.2794\n",
            "     47        \u001b[36m0.6987\u001b[0m        \u001b[32m0.5258\u001b[0m       0.6905        0.6323        0.8074        17.3043\n",
            "     48        \u001b[36m0.6993\u001b[0m        \u001b[32m0.5234\u001b[0m       0.6903        0.6321        0.8185        17.2947\n",
            "     49        \u001b[36m0.7033\u001b[0m        \u001b[32m0.5205\u001b[0m       0.6954        0.6279        0.7999        17.4192\n",
            "     50        \u001b[36m0.7039\u001b[0m        \u001b[32m0.5189\u001b[0m       0.6984        0.6350        0.8173        17.3741\n",
            "     51        \u001b[36m0.7055\u001b[0m        \u001b[32m0.5185\u001b[0m       0.7054        0.6384        0.7918        17.3900\n",
            "     52        \u001b[36m0.7063\u001b[0m        \u001b[32m0.5128\u001b[0m       0.6807        0.6270        0.8393        17.3678\n",
            "     53        \u001b[36m0.7104\u001b[0m        \u001b[32m0.5118\u001b[0m       0.7033        0.6380        0.7959        17.3180\n",
            "     54        \u001b[36m0.7110\u001b[0m        \u001b[32m0.5087\u001b[0m       0.7104        0.6338        0.7831        17.2265\n",
            "     55        \u001b[36m0.7138\u001b[0m        \u001b[32m0.5037\u001b[0m       0.7006        0.6321        0.7926        17.2808\n",
            "     56        \u001b[36m0.7150\u001b[0m        \u001b[32m0.4987\u001b[0m       0.7011        0.6250        0.8423        17.3040\n",
            "     57        0.7144        0.5010       0.6951        0.6239        0.8145        17.3159\n",
            "     58        \u001b[36m0.7154\u001b[0m        0.5000       0.7037        0.6318        0.8018        17.3960\n",
            "     59        \u001b[36m0.7172\u001b[0m        0.4987       0.7110        0.6317        0.7772        17.3318\n",
            "     60        \u001b[36m0.7248\u001b[0m        \u001b[32m0.4893\u001b[0m       0.7096        0.6311        0.7914        17.4094\n",
            "     61        0.7247        \u001b[32m0.4891\u001b[0m       0.7039        0.6287        0.8180        17.3986\n",
            "     62        \u001b[36m0.7290\u001b[0m        \u001b[32m0.4811\u001b[0m       0.7026        0.6304        0.8201        17.3710\n",
            "     63        0.7252        0.4826       0.7038        0.6288        0.8374        17.3036\n",
            "     64        \u001b[36m0.7295\u001b[0m        0.4843       0.7019        0.6335        0.8348        17.3741\n",
            "     65        0.7257        0.4861       0.7038        0.6348        0.8413        17.2781\n",
            "     66        \u001b[36m0.7304\u001b[0m        0.4814       0.7022        0.6279        0.8307        17.2808\n",
            "     67        \u001b[36m0.7366\u001b[0m        \u001b[32m0.4709\u001b[0m       0.7076        0.6381        0.8340        17.3631\n",
            "     68        0.7366        \u001b[32m0.4667\u001b[0m       0.7182        \u001b[31m0.6424\u001b[0m        0.8104     +  17.2933\n",
            "     69        \u001b[36m0.7451\u001b[0m        \u001b[32m0.4592\u001b[0m       0.7129        0.6398        0.8145        17.3918\n",
            "     70        0.7414        0.4606       0.7180        \u001b[31m0.6450\u001b[0m        0.8092     +  17.2746\n",
            "     71        0.7443        0.4673       0.7164        0.6413        0.8057        17.3994\n",
            "     72        \u001b[36m0.7483\u001b[0m        \u001b[32m0.4569\u001b[0m       0.7059        0.6350        0.8402        17.2628\n",
            "     73        0.7476        \u001b[32m0.4542\u001b[0m       0.7163        0.6421        0.8268        17.2656\n",
            "     74        \u001b[36m0.7499\u001b[0m        \u001b[32m0.4494\u001b[0m       0.7112        0.6358        0.8193        17.3129\n",
            "     75        \u001b[36m0.7537\u001b[0m        \u001b[32m0.4469\u001b[0m       0.7110        0.6360        0.8261        17.2648\n",
            "     76        0.7537        0.4485       0.7123        0.6295        0.8315        17.4278\n",
            "     77        \u001b[36m0.7567\u001b[0m        \u001b[32m0.4448\u001b[0m       0.7166        0.6370        0.8478        17.3120\n",
            "     78        0.7561        \u001b[32m0.4440\u001b[0m       0.7068        0.6279        0.8632        17.3565\n",
            "     79        \u001b[36m0.7628\u001b[0m        \u001b[32m0.4345\u001b[0m       0.7091        0.6331        0.8813        17.1590\n",
            "     80        0.7601        0.4361       0.7073        0.6338        0.8742        17.3233\n",
            "     81        0.7602        \u001b[32m0.4329\u001b[0m       0.7046        0.6305        0.8612        17.3660\n",
            "     82        \u001b[36m0.7658\u001b[0m        \u001b[32m0.4295\u001b[0m       0.7062        0.6331        0.8604        17.4122\n",
            "     83        \u001b[36m0.7701\u001b[0m        \u001b[32m0.4251\u001b[0m       0.7096        0.6417        0.8764        17.4058\n",
            "     84        0.7686        0.4268       0.7029        0.6285        0.8834        17.3126\n",
            "     85        \u001b[36m0.7714\u001b[0m        \u001b[32m0.4238\u001b[0m       0.7066        0.6312        0.8562        17.3994\n",
            "     86        0.7705        \u001b[32m0.4187\u001b[0m       0.6941        0.6246        0.9172        17.3705\n",
            "     87        0.7707        0.4229       0.7077        0.6335        0.9112        17.2910\n",
            "     88        \u001b[36m0.7732\u001b[0m        \u001b[32m0.4172\u001b[0m       0.7023        0.6365        0.8965        17.2851\n",
            "     89        \u001b[36m0.7801\u001b[0m        \u001b[32m0.4091\u001b[0m       0.7074        0.6386        0.8787        17.3824\n",
            "     90        \u001b[36m0.7839\u001b[0m        \u001b[32m0.4027\u001b[0m       0.6949        0.6284        0.9164        17.2568\n",
            "     91        0.7800        0.4131       0.6965        0.6294        0.9172        17.2799\n",
            "     92        0.7823        0.4070       0.6973        0.6352        0.9184        17.3788\n",
            "     93        0.7832        0.4066       0.6997        0.6337        0.9199        17.2973\n",
            "     94        \u001b[36m0.7885\u001b[0m        \u001b[32m0.3989\u001b[0m       0.7018        0.6316        0.9022        17.3914\n",
            "     95        \u001b[36m0.7891\u001b[0m        0.4000       0.7038        0.6340        0.8873        17.2783\n",
            "     96        \u001b[36m0.7900\u001b[0m        \u001b[32m0.3922\u001b[0m       0.7038        0.6283        0.9040        17.3059\n",
            "     97        0.7900        0.3929       0.7081        0.6330        0.9146        17.2725\n",
            "     98        \u001b[36m0.7963\u001b[0m        \u001b[32m0.3864\u001b[0m       0.7069        0.6344        0.9141        17.1947\n",
            "     99        \u001b[36m0.7968\u001b[0m        \u001b[32m0.3848\u001b[0m       0.7009        0.6329        0.9184        17.4075\n",
            "    100        \u001b[36m0.7999\u001b[0m        \u001b[32m0.3816\u001b[0m       0.7022        0.6298        0.9432        17.2332\n",
            "time taken : 1749.6795363426208\n"
          ]
        }
      ]
    },
    {
      "cell_type": "code",
      "metadata": {
        "id": "BiLb1HKnYReb"
      },
      "source": [
        "# Load from checkpoint\n",
        "\n",
        "# clf.load_params(checkpoint=cp) # soesn't seem to have loaded it"
      ],
      "execution_count": null,
      "outputs": []
    },
    {
      "cell_type": "code",
      "metadata": {
        "id": "x6LgFzkoYaP7",
        "colab": {
          "base_uri": "https://localhost:8080/",
          "height": 358
        },
        "outputId": "919a62a0-745c-4a92-cb79-c9427c23948b"
      },
      "source": [
        "training_viz(clf)"
      ],
      "execution_count": null,
      "outputs": [
        {
          "output_type": "display_data",
          "data": {
            "image/png": "[encoded data removed]",
            "text/plain": [
              "<Figure size 1440x504 with 2 Axes>"
            ]
          },
          "metadata": {
            "needs_background": "light"
          }
        }
      ]
    },
    {
      "cell_type": "code",
      "metadata": {
        "colab": {
          "base_uri": "https://localhost:8080/"
        },
        "id": "RjTIGveF10MI",
        "outputId": "0d4787d6-cbb7-4e41-b084-e67dcd3d78a7"
      },
      "source": [
        "y_true = valA0.y\n",
        "y_pred = clf.predict(valA0.X)\n",
        "\n",
        "print(\"From Last Checkpointed model\")\n",
        "print(confusion_matrix(y_true.cpu(), y_pred))\n",
        "print(classification_report(y_true.cpu(), y_pred))\n",
        "cohen_kappa = cohen_kappa_score(y_true.cpu(), y_pred)\n",
        "print(cohen_kappa)"
      ],
      "execution_count": null,
      "outputs": [
        {
          "output_type": "stream",
          "name": "stdout",
          "text": [
            "From Last Checkpointed model\n",
            "[[4963  475   94    7    3  468]\n",
            " [ 174  450  604   13   11  420]\n",
            " [  67  271 3617  428  237  415]\n",
            " [   0    4  131  231  310   28]\n",
            " [   0    0   10   38  364    2]\n",
            " [  46  169  173    1    0 1218]]\n",
            "              precision    recall  f1-score   support\n",
            "\n",
            "           0       0.95      0.83      0.88      6010\n",
            "           1       0.33      0.27      0.30      1672\n",
            "           2       0.78      0.72      0.75      5035\n",
            "           3       0.32      0.33      0.32       704\n",
            "           4       0.39      0.88      0.54       414\n",
            "           5       0.48      0.76      0.59      1607\n",
            "\n",
            "    accuracy                           0.70     15442\n",
            "   macro avg       0.54      0.63      0.56     15442\n",
            "weighted avg       0.73      0.70      0.71     15442\n",
            "\n",
            "0.5972200545917337\n"
          ]
        }
      ]
    },
    {
      "cell_type": "code",
      "metadata": {
        "id": "Pvq5WHEmF5Cp"
      },
      "source": [
        "# Try loading the checkpointed model\n"
      ],
      "execution_count": null,
      "outputs": []
    },
    {
      "cell_type": "markdown",
      "metadata": {
        "id": "nhvq0RD94Tkg"
      },
      "source": [
        "# Using first group trained model and prediction on the final test set (Submitted model predictions)"
      ]
    },
    {
      "cell_type": "code",
      "metadata": {
        "colab": {
          "base_uri": "https://localhost:8080/"
        },
        "id": "ENk570_b5Tb4",
        "outputId": "817c2bb9-b5fd-41fb-aa71-74e0628c2f4e"
      },
      "source": [
        "# Load the Channel 0, batch_size 1024 model\n",
        "# starting wandb init\n",
        "wandb_run = wandb.init(name = \"AttnSleep_TL_new1\", project='cnn-fulltrain', entity='sleep_hacking')\n",
        "\n",
        "# batch_size\n",
        "lr = 1e-3 #change\n",
        "batch_size = 1024\n",
        "n_epochs = 100\n",
        "\n",
        "channel = 0\n",
        "save_path = \"/content/drive/MyDrive/mne_data/NeuroIPS_Hack_Sleep/AttnSleepTLnew1_checkpoints\"\n",
        "wandb_run.config.update({\"lr\":lr,\"batch_size\":batch_size,\"channel\":channel,\"save_path\":save_path})\n",
        "\n",
        "train_bacc = EpochScoring(\n",
        "    scoring='balanced_accuracy', on_train=True, name='train_bacc',\n",
        "    lower_is_better=False)\n",
        "cp = Checkpoint(monitor = 'train_bacc_best',\n",
        "                f_params = \"params_{last_epoch[epoch]}.pt\", \n",
        "                f_optimizer = \"optimizer_{last_epoch[epoch]}.pt\", \n",
        "                f_criterion = \"criterion_{last_epoch[epoch]}.pt\",\n",
        "                dirname = save_path)\n",
        "train_end_cp = TrainEndCheckpoint(\n",
        "                f_params = \"params_{last_epoch[epoch]}.pt\", \n",
        "                f_optimizer = \"optimizer_{last_epoch[epoch]}.pt\", \n",
        "                f_criterion = \"criterion_{last_epoch[epoch]}.pt\",\n",
        "                dirname=save_path)\n",
        "# f1, accuracy\n",
        "callbacks = [('train_bal_acc', train_bacc),\n",
        "             (\"checkpoint\",cp),\n",
        "             (\"train_end_cp\",train_end_cp),\n",
        "             (\"wandb\",WandbLogger(wandb_run,save_model=False))\n",
        "            ]\n",
        "\n",
        "clf5 = NNClassifier(\n",
        "  module = AttnSleep,\n",
        "  criterion = weighted_CrossEntropyLoss,\n",
        "  optimizer=torch.optim.Adam,\n",
        "  train_split=None,\n",
        "  iterator_train = DataLoader,\n",
        "  optimizer__lr=lr,\n",
        "  batch_size=batch_size,\n",
        "  callbacks=callbacks,\n",
        "  warm_start = True,\n",
        "  device=device\n",
        ")\n",
        "print(clf5)"
      ],
      "execution_count": null,
      "outputs": [
        {
          "output_type": "stream",
          "name": "stdout",
          "text": [
            "<class 'skorch.classifier.NeuralNetClassifier'>[uninitialized](\n",
            "  module=<class '__main__.AttnSleep'>,\n",
            ")\n"
          ]
        }
      ]
    },
    {
      "cell_type": "code",
      "metadata": {
        "id": "BnS6GB2i5Tb7"
      },
      "source": [
        "clf5.initialize() # This is important!\n",
        "\n",
        "# Loading from the group 1 trained model\n",
        "load_path =\"/content/drive/MyDrive/mne_data/NeuroIPS_Hack_Sleep/AttnSleep2r_checkpoints\"\n",
        "clf5.load_params(\n",
        "    f_params=load_path+'/params_70.pt', f_optimizer=load_path+'/optimizer_70.pt')"
      ],
      "execution_count": null,
      "outputs": []
    },
    {
      "cell_type": "code",
      "metadata": {
        "colab": {
          "base_uri": "https://localhost:8080/"
        },
        "id": "c0M3AsoS5Tb8",
        "outputId": "aa90d0d9-a2d0-4dfc-a9b0-65116601d457"
      },
      "source": [
        "#checking if loaded properly\n",
        "y_true = valA0.y\n",
        "y_pred = clf5.predict(valA0.X)\n",
        "\n",
        "print(\"From Last Checkpointed model - Prediction on Leaderboard Validation data\")\n",
        "print(confusion_matrix(y_true.cpu(), y_pred))\n",
        "print(classification_report(y_true.cpu(), y_pred))\n",
        "cohen_kappa = cohen_kappa_score(y_true.cpu(), y_pred)\n",
        "print(cohen_kappa)"
      ],
      "execution_count": null,
      "outputs": [
        {
          "output_type": "stream",
          "name": "stderr",
          "text": [
            "/usr/local/lib/python3.7/dist-packages/torch/nn/functional.py:652: UserWarning: Named tensors and all their associated APIs are an experimental feature and subject to change. Please do not use them for anything important until they are released as stable. (Triggered internally at  /pytorch/c10/core/TensorImpl.h:1156.)\n",
            "  return torch.max_pool1d(input, kernel_size, stride, padding, dilation, ceil_mode)\n"
          ]
        },
        {
          "output_type": "stream",
          "name": "stdout",
          "text": [
            "From Last Checkpointed model - Prediction on Leaderboard Validation data\n",
            "[[5132  468   54    4    1  351]\n",
            " [ 199  543  509    9    9  403]\n",
            " [  85  335 3544  335  238  498]\n",
            " [   3    6  113  213  313   56]\n",
            " [   0    0   10   37  365    2]\n",
            " [  43  147  125    1    0 1291]]\n",
            "              precision    recall  f1-score   support\n",
            "\n",
            "           0       0.94      0.85      0.89      6010\n",
            "           1       0.36      0.32      0.34      1672\n",
            "           2       0.81      0.70      0.75      5035\n",
            "           3       0.36      0.30      0.33       704\n",
            "           4       0.39      0.88      0.54       414\n",
            "           5       0.50      0.80      0.61      1607\n",
            "\n",
            "    accuracy                           0.72     15442\n",
            "   macro avg       0.56      0.65      0.58     15442\n",
            "weighted avg       0.75      0.72      0.72     15442\n",
            "\n",
            "0.6184415147452027\n"
          ]
        }
      ]
    },
    {
      "cell_type": "code",
      "metadata": {
        "colab": {
          "base_uri": "https://localhost:8080/"
        },
        "id": "LLz7m_inSC6G",
        "outputId": "c67eb25c-87b1-4825-9390-d76bcbc817a0"
      },
      "source": [
        "#checking if loaded properly\n",
        "# Untrained\n",
        "y_true = valC0.y\n",
        "y_pred = clf5.predict(valC0.X)\n",
        "\n",
        "print(\"From Untrained - Prediction on Phase 2 Validation Data before TL training\")\n",
        "print(confusion_matrix(y_true.cpu(), y_pred))\n",
        "print(classification_report(y_true.cpu(), y_pred))\n",
        "cohen_kappa = cohen_kappa_score(y_true.cpu(), y_pred)\n",
        "print(cohen_kappa)"
      ],
      "execution_count": null,
      "outputs": [
        {
          "output_type": "stream",
          "name": "stdout",
          "text": [
            "From Untrained - Prediction on Phase 2 Validation Data before TL training\n",
            "[[7090  469   48    5    5  192]\n",
            " [ 296  614  216   52   18  443]\n",
            " [ 185  642 1271  607  442 1557]\n",
            " [  18    2   18  147  471   33]\n",
            " [   3    0    0    7  134    1]\n",
            " [ 121  295  170   36   14  946]]\n",
            "              precision    recall  f1-score   support\n",
            "\n",
            "           0       0.92      0.91      0.91      7809\n",
            "           1       0.30      0.37      0.34      1639\n",
            "           2       0.74      0.27      0.40      4704\n",
            "           3       0.17      0.21      0.19       689\n",
            "           4       0.12      0.92      0.22       145\n",
            "           5       0.30      0.60      0.40      1582\n",
            "\n",
            "    accuracy                           0.62     16568\n",
            "   macro avg       0.43      0.55      0.41     16568\n",
            "weighted avg       0.71      0.62      0.62     16568\n",
            "\n",
            "0.4648407938486785\n"
          ]
        }
      ]
    },
    {
      "cell_type": "code",
      "metadata": {
        "colab": {
          "base_uri": "https://localhost:8080/"
        },
        "id": "eqX-TkoO5Tb9",
        "outputId": "cb1d38b4-8827-410d-d22f-b16e1e01cb66"
      },
      "source": [
        "#checking if loaded properly\n",
        "y_true = valC0.y\n",
        "y_pred = clf5.predict(valC0.X)\n",
        "\n",
        "print(\"From Last Checkpointed model - Prediction on Phase 2 Validation Data before TL training\")\n",
        "print(confusion_matrix(y_true.cpu(), y_pred))\n",
        "print(classification_report(y_true.cpu(), y_pred))\n",
        "cohen_kappa = cohen_kappa_score(y_true.cpu(), y_pred)\n",
        "print(cohen_kappa)"
      ],
      "execution_count": null,
      "outputs": [
        {
          "output_type": "stream",
          "name": "stdout",
          "text": [
            "From Last Checkpointed model - Prediction on Phase 2 Validation Data before TL training\n",
            "[[7620  113   48    4    0   24]\n",
            " [ 413  510  559    9    1  147]\n",
            " [  75  248 4011  120   19  231]\n",
            " [   1    1  258  329  100    0]\n",
            " [   0    0    7   44   94    0]\n",
            " [ 140  207  336   10    0  889]]\n",
            "              precision    recall  f1-score   support\n",
            "\n",
            "           0       0.92      0.98      0.95      7809\n",
            "           1       0.47      0.31      0.38      1639\n",
            "           2       0.77      0.85      0.81      4704\n",
            "           3       0.64      0.48      0.55       689\n",
            "           4       0.44      0.65      0.52       145\n",
            "           5       0.69      0.56      0.62      1582\n",
            "\n",
            "    accuracy                           0.81     16568\n",
            "   macro avg       0.66      0.64      0.64     16568\n",
            "weighted avg       0.80      0.81      0.80     16568\n",
            "\n",
            "0.7153917831791735\n"
          ]
        }
      ]
    },
    {
      "cell_type": "code",
      "metadata": {
        "colab": {
          "base_uri": "https://localhost:8080/"
        },
        "id": "bv1dGZKI5Tb-",
        "outputId": "daaa7a89-6ada-4c2b-ab7d-038cf710ed2f"
      },
      "source": [
        "start = time.time()\n",
        "clf5.fit(valC0, y=None, epochs=n_epochs)\n",
        "end = time.time()\n",
        "print(f'time taken : {end-start}')"
      ],
      "execution_count": null,
      "outputs": [
        {
          "output_type": "stream",
          "name": "stdout",
          "text": [
            "  epoch    train_bacc    train_loss    cp     dur\n",
            "-------  ------------  ------------  ----  ------\n",
            "      1        \u001b[36m0.5604\u001b[0m        \u001b[32m0.7493\u001b[0m     +  3.5063\n",
            "      2        0.5598        \u001b[32m0.6494\u001b[0m        1.8288\n",
            "      3        \u001b[36m0.5960\u001b[0m        \u001b[32m0.6319\u001b[0m     +  1.8325\n",
            "      4        \u001b[36m0.6185\u001b[0m        \u001b[32m0.5626\u001b[0m     +  1.8338\n",
            "      5        \u001b[36m0.6557\u001b[0m        \u001b[32m0.5239\u001b[0m     +  1.9436\n",
            "      6        \u001b[36m0.6666\u001b[0m        \u001b[32m0.5075\u001b[0m     +  1.9028\n",
            "      7        \u001b[36m0.6869\u001b[0m        \u001b[32m0.5017\u001b[0m     +  1.8480\n",
            "      8        0.6829        \u001b[32m0.4941\u001b[0m        1.8449\n",
            "      9        \u001b[36m0.6921\u001b[0m        \u001b[32m0.4771\u001b[0m     +  1.9497\n",
            "     10        \u001b[36m0.7001\u001b[0m        \u001b[32m0.4696\u001b[0m     +  1.8465\n",
            "     11        \u001b[36m0.7022\u001b[0m        \u001b[32m0.4595\u001b[0m     +  1.8442\n",
            "     12        \u001b[36m0.7240\u001b[0m        \u001b[32m0.4471\u001b[0m     +  1.8710\n",
            "     13        \u001b[36m0.7259\u001b[0m        \u001b[32m0.4401\u001b[0m     +  1.9547\n",
            "     14        \u001b[36m0.7354\u001b[0m        \u001b[32m0.4373\u001b[0m     +  1.8433\n",
            "     15        \u001b[36m0.7399\u001b[0m        \u001b[32m0.4290\u001b[0m     +  1.8422\n",
            "     16        0.7334        \u001b[32m0.4226\u001b[0m        1.8441\n",
            "     17        \u001b[36m0.7572\u001b[0m        \u001b[32m0.4084\u001b[0m     +  1.9409\n",
            "     18        0.7418        0.4086        1.8627\n",
            "     19        \u001b[36m0.7619\u001b[0m        \u001b[32m0.4007\u001b[0m     +  1.8438\n",
            "     20        \u001b[36m0.7686\u001b[0m        \u001b[32m0.3864\u001b[0m     +  1.8378\n",
            "     21        0.7618        \u001b[32m0.3859\u001b[0m        1.9475\n",
            "     22        0.7683        \u001b[32m0.3768\u001b[0m        1.8411\n",
            "     23        \u001b[36m0.7780\u001b[0m        \u001b[32m0.3702\u001b[0m     +  1.8540\n",
            "     24        0.7775        \u001b[32m0.3600\u001b[0m        1.8757\n",
            "     25        \u001b[36m0.7817\u001b[0m        0.3677     +  1.9469\n",
            "     26        \u001b[36m0.7991\u001b[0m        \u001b[32m0.3524\u001b[0m     +  1.8496\n",
            "     27        \u001b[36m0.8072\u001b[0m        \u001b[32m0.3370\u001b[0m     +  1.8531\n",
            "     28        0.7867        0.3437        1.8463\n",
            "     29        \u001b[36m0.8077\u001b[0m        \u001b[32m0.3256\u001b[0m     +  1.9477\n",
            "     30        \u001b[36m0.8134\u001b[0m        \u001b[32m0.3202\u001b[0m     +  1.8824\n",
            "     31        \u001b[36m0.8262\u001b[0m        \u001b[32m0.3126\u001b[0m     +  1.8410\n",
            "     32        \u001b[36m0.8435\u001b[0m        \u001b[32m0.3015\u001b[0m     +  1.8445\n",
            "     33        0.8145        0.3146        1.9578\n",
            "     34        0.8216        0.3074        1.8411\n",
            "     35        0.8307        \u001b[32m0.2953\u001b[0m        1.8370\n",
            "     36        0.8408        \u001b[32m0.2860\u001b[0m        1.8622\n",
            "     37        \u001b[36m0.8461\u001b[0m        \u001b[32m0.2835\u001b[0m     +  1.9446\n",
            "     38        0.8410        \u001b[32m0.2753\u001b[0m        1.8355\n",
            "     39        0.8317        0.2761        1.8374\n",
            "     40        \u001b[36m0.8513\u001b[0m        \u001b[32m0.2575\u001b[0m     +  1.8417\n",
            "     41        0.8495        \u001b[32m0.2511\u001b[0m        1.9461\n",
            "     42        \u001b[36m0.8607\u001b[0m        \u001b[32m0.2408\u001b[0m     +  1.8631\n",
            "     43        \u001b[36m0.8691\u001b[0m        \u001b[32m0.2406\u001b[0m     +  1.8372\n",
            "     44        0.8639        \u001b[32m0.2339\u001b[0m        1.8402\n",
            "     45        \u001b[36m0.8747\u001b[0m        \u001b[32m0.2248\u001b[0m     +  1.8407\n",
            "     46        \u001b[36m0.8759\u001b[0m        \u001b[32m0.2217\u001b[0m     +  1.9493\n",
            "     47        \u001b[36m0.8821\u001b[0m        0.2235     +  1.8371\n",
            "     48        0.8816        \u001b[32m0.2158\u001b[0m        1.8790\n",
            "     49        0.8732        0.2221        1.8378\n",
            "     50        0.8799        0.2190        1.8400\n",
            "     51        0.8731        0.2189        1.9516\n",
            "     52        \u001b[36m0.8885\u001b[0m        \u001b[32m0.2044\u001b[0m     +  1.8355\n",
            "     53        \u001b[36m0.9007\u001b[0m        \u001b[32m0.1876\u001b[0m     +  1.8689\n",
            "     54        0.8910        0.1900        1.8448\n",
            "     55        0.8960        \u001b[32m0.1825\u001b[0m        1.8344\n",
            "     56        \u001b[36m0.9024\u001b[0m        \u001b[32m0.1795\u001b[0m     +  1.9463\n",
            "     57        0.8930        \u001b[32m0.1750\u001b[0m        1.8357\n",
            "     58        \u001b[36m0.9085\u001b[0m        \u001b[32m0.1724\u001b[0m     +  1.8425\n",
            "     59        0.9076        \u001b[32m0.1616\u001b[0m        1.8698\n",
            "     60        0.9020        \u001b[32m0.1581\u001b[0m        1.8369\n",
            "     61        \u001b[36m0.9107\u001b[0m        \u001b[32m0.1445\u001b[0m     +  1.9452\n",
            "     62        \u001b[36m0.9268\u001b[0m        \u001b[32m0.1387\u001b[0m     +  1.8402\n",
            "     63        \u001b[36m0.9371\u001b[0m        \u001b[32m0.1280\u001b[0m     +  1.8392\n",
            "     64        0.9259        0.1344        1.8378\n",
            "     65        0.9232        0.1360        1.8675\n",
            "     66        0.9217        0.1395        1.9505\n",
            "     67        0.9297        0.1353        1.8411\n",
            "     68        0.9306        \u001b[32m0.1268\u001b[0m        1.8382\n",
            "     69        0.9294        \u001b[32m0.1191\u001b[0m        1.8411\n",
            "     70        \u001b[36m0.9447\u001b[0m        \u001b[32m0.1180\u001b[0m     +  1.8437\n",
            "     71        0.9383        \u001b[32m0.1161\u001b[0m        1.9743\n",
            "     72        \u001b[36m0.9448\u001b[0m        \u001b[32m0.1136\u001b[0m     +  1.8416\n",
            "     73        0.9320        0.1212        1.8443\n",
            "     74        0.9298        0.1178        1.8431\n",
            "     75        0.9224        0.1240        1.8388\n",
            "     76        0.9345        0.1247        1.9424\n",
            "     77        0.9398        0.1179        1.8617\n",
            "     78        0.9393        0.1250        1.8371\n",
            "     79        0.9384        0.1216        1.8394\n",
            "     80        0.9346        0.1218        1.8384\n",
            "     81        0.9415        0.1261        1.8385\n",
            "     82        0.9423        \u001b[32m0.1128\u001b[0m        1.9495\n",
            "     83        0.9347        0.1281        1.8643\n",
            "     84        0.9399        \u001b[32m0.1092\u001b[0m        1.8359\n",
            "     85        0.9437        0.1115        1.8359\n",
            "     86        \u001b[36m0.9499\u001b[0m        \u001b[32m0.1013\u001b[0m     +  1.8387\n",
            "     87        \u001b[36m0.9527\u001b[0m        \u001b[32m0.0941\u001b[0m     +  1.9473\n",
            "     88        0.9484        \u001b[32m0.0914\u001b[0m        1.8372\n",
            "     89        \u001b[36m0.9562\u001b[0m        \u001b[32m0.0814\u001b[0m     +  1.8711\n",
            "     90        0.9524        \u001b[32m0.0803\u001b[0m        1.8364\n",
            "     91        \u001b[36m0.9624\u001b[0m        \u001b[32m0.0720\u001b[0m     +  1.8390\n",
            "     92        \u001b[36m0.9696\u001b[0m        \u001b[32m0.0679\u001b[0m     +  1.8455\n",
            "     93        0.9669        0.0695        1.9476\n",
            "     94        0.9684        \u001b[32m0.0608\u001b[0m        1.8339\n",
            "     95        0.9691        \u001b[32m0.0551\u001b[0m        1.8597\n",
            "     96        0.9635        0.0642        1.8407\n",
            "     97        \u001b[36m0.9712\u001b[0m        0.0591     +  1.8430\n",
            "     98        0.9694        0.0574        1.9462\n",
            "     99        \u001b[36m0.9733\u001b[0m        0.0575     +  1.8362\n",
            "    100        0.9691        0.0597        1.8706\n",
            "time taken : 193.40388917922974\n"
          ]
        }
      ]
    },
    {
      "cell_type": "code",
      "metadata": {
        "colab": {
          "base_uri": "https://localhost:8080/"
        },
        "id": "22qbuExW5Tb_",
        "outputId": "eb7c20a3-b6c5-4ae5-ee2d-0e9b71de0cf9"
      },
      "source": [
        "#checking if loaded properly\n",
        "y_true = valC0.y\n",
        "y_pred = clf5.predict(valC0.X)\n",
        "\n",
        "print(\"From Last Checkpointed model - Prediction on Phase 2 Validation data after TL training on Phase 2 val\")\n",
        "print(confusion_matrix(y_true.cpu(), y_pred))\n",
        "print(classification_report(y_true.cpu(), y_pred))\n",
        "cohen_kappa = cohen_kappa_score(y_true.cpu(), y_pred)\n",
        "print(cohen_kappa)"
      ],
      "execution_count": null,
      "outputs": [
        {
          "output_type": "stream",
          "name": "stdout",
          "text": [
            "From Last Checkpointed model - Prediction on Phase 2 Validation data after TL training on Phase 2 val\n",
            "[[7773   19    6    0    0   11]\n",
            " [  26 1517   76    6    0   14]\n",
            " [   6   16 4635    7    0   40]\n",
            " [   0    0   67  622    0    0]\n",
            " [   0    0    1    1  143    0]\n",
            " [   7    4   38    1    0 1532]]\n",
            "              precision    recall  f1-score   support\n",
            "\n",
            "           0       1.00      1.00      1.00      7809\n",
            "           1       0.97      0.93      0.95      1639\n",
            "           2       0.96      0.99      0.97      4704\n",
            "           3       0.98      0.90      0.94       689\n",
            "           4       1.00      0.99      0.99       145\n",
            "           5       0.96      0.97      0.96      1582\n",
            "\n",
            "    accuracy                           0.98     16568\n",
            "   macro avg       0.98      0.96      0.97     16568\n",
            "weighted avg       0.98      0.98      0.98     16568\n",
            "\n",
            "0.9690586799902011\n"
          ]
        }
      ]
    },
    {
      "cell_type": "code",
      "metadata": {
        "colab": {
          "base_uri": "https://localhost:8080/"
        },
        "id": "J5gslKOo5TcA",
        "outputId": "b2a5bf2b-51d4-40f5-e10a-ff8c17bf95e1"
      },
      "source": [
        "#checking if loaded properly\n",
        "y_true = valA0.y\n",
        "y_pred = clf5.predict(valA0.X)\n",
        "\n",
        "print(\"From Last Checkpointed model - Prediction on Leaderboard Validation data after TL training on Phase 2 val\")\n",
        "print(confusion_matrix(y_true.cpu(), y_pred))\n",
        "print(classification_report(y_true.cpu(), y_pred))\n",
        "cohen_kappa = cohen_kappa_score(y_true.cpu(), y_pred)\n",
        "print(cohen_kappa)"
      ],
      "execution_count": null,
      "outputs": [
        {
          "output_type": "stream",
          "name": "stdout",
          "text": [
            "From Last Checkpointed model - Prediction on Leaderboard Validation data after TL training on Phase 2 val\n",
            "[[5286  325  153    6    4  236]\n",
            " [ 297  473  603    0    0  299]\n",
            " [ 159  413 4216   13    1  233]\n",
            " [   0    5  639   53    5    2]\n",
            " [   0    0  264  105   45    0]\n",
            " [ 181  267  231    0    0  928]]\n",
            "              precision    recall  f1-score   support\n",
            "\n",
            "           0       0.89      0.88      0.89      6010\n",
            "           1       0.32      0.28      0.30      1672\n",
            "           2       0.69      0.84      0.76      5035\n",
            "           3       0.30      0.08      0.12       704\n",
            "           4       0.82      0.11      0.19       414\n",
            "           5       0.55      0.58      0.56      1607\n",
            "\n",
            "    accuracy                           0.71     15442\n",
            "   macro avg       0.59      0.46      0.47     15442\n",
            "weighted avg       0.70      0.71      0.69     15442\n",
            "\n",
            "0.5887597621244347\n"
          ]
        }
      ]
    },
    {
      "cell_type": "code",
      "metadata": {
        "colab": {
          "base_uri": "https://localhost:8080/"
        },
        "id": "dV36xw8A5TcA",
        "outputId": "410280cf-c1aa-4d5b-ea6e-5b8a5f332528"
      },
      "source": [
        "#checking if loaded properly\n",
        "y_true = trainA0.y\n",
        "y_pred = clf5.predict(trainA0.X)\n",
        "\n",
        "print(\"From Last Checkpointed model - Prediction on original Group 1 training data after TL training on Phase 2 Val data\")\n",
        "print(confusion_matrix(y_true.cpu(), y_pred))\n",
        "print(classification_report(y_true.cpu(), y_pred))\n",
        "cohen_kappa = cohen_kappa_score(y_true.cpu(), y_pred)\n",
        "print(cohen_kappa)"
      ],
      "execution_count": null,
      "outputs": [
        {
          "output_type": "stream",
          "name": "stdout",
          "text": [
            "From Last Checkpointed model - Prediction on original Group 1 training data after TL training on Phase 2 Val data\n",
            "[[21398  1036   544    30     5  1030]\n",
            " [ 1252  1726  2869     3     1  2090]\n",
            " [  432  1516 32128   215     7  1685]\n",
            " [   16    11  4239   855   103    23]\n",
            " [    2     0  1598   904   552     1]\n",
            " [  817  1067  3330    21     2  9037]]\n",
            "              precision    recall  f1-score   support\n",
            "\n",
            "           0       0.89      0.89      0.89     24043\n",
            "           1       0.32      0.22      0.26      7941\n",
            "           2       0.72      0.89      0.80     35983\n",
            "           3       0.42      0.16      0.24      5247\n",
            "           4       0.82      0.18      0.30      3057\n",
            "           5       0.65      0.63      0.64     14274\n",
            "\n",
            "    accuracy                           0.73     90545\n",
            "   macro avg       0.64      0.50      0.52     90545\n",
            "weighted avg       0.71      0.73      0.70     90545\n",
            "\n",
            "0.6094841107515762\n"
          ]
        }
      ]
    },
    {
      "cell_type": "code",
      "metadata": {
        "colab": {
          "base_uri": "https://localhost:8080/"
        },
        "id": "siB-y0QV5TcC",
        "outputId": "208bfaac-2b2b-4cac-e954-03d5840b0136"
      },
      "source": [
        "predict_leaderboard_unlabelled(clf=clf5,save_fname=\"AttnSleep_TL_slightTL\", x_test_data = testC.X[:,channel,:].unsqueeze(1))"
      ],
      "execution_count": null,
      "outputs": [
        {
          "output_type": "stream",
          "name": "stdout",
          "text": [
            "torch.Size([25756, 1, 3000])\n",
            "Checking if all classes have been predicted\n",
            "[0 1 2 3 4 5]\n"
          ]
        }
      ]
    },
    {
      "cell_type": "markdown",
      "metadata": {
        "id": "k5YcCFo95TcD"
      },
      "source": [
        "This model got 63.8% on the Sleep Leaderboard. Without the TL it was at 60%.. Not such a great improvement.. Seems like Overfitting on the 5 subject data wasn't enough to generalize to all the leaderboard data.."
      ]
    },
    {
      "cell_type": "code",
      "metadata": {
        "colab": {
          "base_uri": "https://localhost:8080/",
          "height": 443,
          "referenced_widgets": [
            "4d1a67dc139d4a149c6d6d36a03ba304",
            "13b93d22ef074df4aa4138e0761ed3a2",
            "9fc04a8d2d6145f68491b83e25a413c3",
            "b2330e6f3071449ca0bb228cf26dcf7f",
            "775c17a367f846579bbf4ec0a1ebc62a",
            "d665e0d4a0854cd2b03e2f0755dac467",
            "7e722ec324754d769cfa985d5820efcf",
            "fec6b8b9b0e44abca1d10c8c6f654bb5"
          ]
        },
        "id": "omSnOzU55TcD",
        "outputId": "540911ff-1da7-44d0-c11d-f45b4c0aee62"
      },
      "source": [
        "wandb.finish()"
      ],
      "execution_count": null,
      "outputs": [
        {
          "output_type": "display_data",
          "data": {
            "text/html": [
              "<br/>Waiting for W&B process to finish, PID 634<br/>Program ended successfully."
            ],
            "text/plain": [
              "<IPython.core.display.HTML object>"
            ]
          },
          "metadata": {}
        },
        {
          "output_type": "display_data",
          "data": {
            "application/vnd.jupyter.widget-view+json": {
              "model_id": "4d1a67dc139d4a149c6d6d36a03ba304",
              "version_minor": 0,
              "version_major": 2
            },
            "text/plain": [
              "VBox(children=(Label(value=' 0.00MB of 0.00MB uploaded (0.00MB deduped)\\r'), FloatProgress(value=1.0, max=1.0)…"
            ]
          },
          "metadata": {}
        },
        {
          "output_type": "display_data",
          "data": {
            "text/html": [
              "Find user logs for this run at: <code>/content/wandb/run-20210927_153747-2sq42dwg/logs/debug.log</code>"
            ],
            "text/plain": [
              "<IPython.core.display.HTML object>"
            ]
          },
          "metadata": {}
        },
        {
          "output_type": "display_data",
          "data": {
            "text/html": [
              "Find internal logs for this run at: <code>/content/wandb/run-20210927_153747-2sq42dwg/logs/debug-internal.log</code>"
            ],
            "text/plain": [
              "<IPython.core.display.HTML object>"
            ]
          },
          "metadata": {}
        },
        {
          "output_type": "display_data",
          "data": {
            "text/html": [
              "<h3>Run summary:</h3><br/><style>\n",
              "    table.wandb td:nth-child(1) { padding: 0 10px; text-align: right }\n",
              "    </style><table class=\"wandb\">\n",
              "<tr><td>dur</td><td>1.87056</td></tr><tr><td>train_bacc</td><td>0.96911</td></tr><tr><td>train_loss</td><td>0.05969</td></tr></table>"
            ],
            "text/plain": [
              "<IPython.core.display.HTML object>"
            ]
          },
          "metadata": {}
        },
        {
          "output_type": "display_data",
          "data": {
            "text/html": [
              "<h3>Run history:</h3><br/><style>\n",
              "    table.wandb td:nth-child(1) { padding: 0 10px; text-align: right }\n",
              "    </style><table class=\"wandb\">\n",
              "<tr><td>dur</td><td>█▁▁▁▁▂▁▁▁▁▁▁▁▁▁▁▁▁▁▁▁▁▁▁▁▁▁▁▁▁▁▁▁▁▁▁▁▁▁▁</td></tr><tr><td>train_bacc</td><td>▁▂▃▃▃▄▄▄▄▅▅▅▆▅▆▆▆▆▆▆▆▇▇▇▇▇▇▇█▇▇▇█▇██████</td></tr><tr><td>train_loss</td><td>█▇▆▅▅▅▅▅▄▄▄▄▄▄▃▃▃▃▃▃▃▂▂▂▂▂▂▂▂▂▂▂▂▂▁▁▁▁▁▁</td></tr></table><br/>"
            ],
            "text/plain": [
              "<IPython.core.display.HTML object>"
            ]
          },
          "metadata": {}
        },
        {
          "output_type": "display_data",
          "data": {
            "text/html": [
              "Synced 5 W&B file(s), 0 media file(s), 0 artifact file(s) and 0 other file(s)"
            ],
            "text/plain": [
              "<IPython.core.display.HTML object>"
            ]
          },
          "metadata": {}
        },
        {
          "output_type": "display_data",
          "data": {
            "text/html": [
              "\n",
              "                    <br/>Synced <strong style=\"color:#cdcd00\">AttnSleep_TL_new1</strong>: <a href=\"https://wandb.ai/sleep_hacking/cnn-fulltrain/runs/2sq42dwg\" target=\"_blank\">https://wandb.ai/sleep_hacking/cnn-fulltrain/runs/2sq42dwg</a><br/>\n",
              "                "
            ],
            "text/plain": [
              "<IPython.core.display.HTML object>"
            ]
          },
          "metadata": {}
        }
      ]
    },
    {
      "cell_type": "markdown",
      "metadata": {
        "id": "zDtVVwRYs_cS"
      },
      "source": [
        "# Other Tries"
      ]
    },
    {
      "cell_type": "markdown",
      "metadata": {
        "id": "wJ-wLZbrtNHW"
      },
      "source": [
        "The following code are not necessary for replicating the model and performance submitted to the Hackathon but show the other techniques tried"
      ]
    },
    {
      "cell_type": "markdown",
      "metadata": {
        "id": "HBq3XfTAWU0q"
      },
      "source": [
        "# 2nd Level TL using model on which leaderboard TL has been done and prediction on final test set - *Not* the model whose predictions was submitted"
      ]
    },
    {
      "cell_type": "markdown",
      "metadata": {
        "id": "XmdE98YCbQZJ"
      },
      "source": [
        "The leaderboard data can be used in testing phase\n",
        "\n",
        "I'm not sure if the target data provided for the test is the same as the labelled target in the leaderboard"
      ]
    },
    {
      "cell_type": "code",
      "metadata": {
        "colab": {
          "base_uri": "https://localhost:8080/"
        },
        "id": "NB-N7CIqe5MF",
        "outputId": "ed71509a-fe0f-4a8d-8e81-bde1f8507a7b"
      },
      "source": [
        "valC = get_valC()\n",
        "testC = get_testC()"
      ],
      "execution_count": null,
      "outputs": [
        {
          "output_type": "stream",
          "name": "stdout",
          "text": [
            "phase 2 labelled load time = 0.3309566259384155 min\n",
            "There are 16568 trials with 2 electrodes and 3000 time samples\n",
            "(16568, 2, 3000) (16568,)\n",
            "[7809 1639 4704  689  145 1582]\n",
            "Z-scoring time 7.114246129989624 sec\n",
            "Torch dataset time 0.0020368099212646484 sec = 3.394683202107747e-05 min\n",
            "phase 2 final test set load time = 0.3870764295260111 min\n",
            "There are 25756 trials with 2 electrodes and 3000 time samples\n",
            "Z-scoring time 1.73142409324646 sec\n",
            "Torch dataset time 6.651878356933594e-05 sec = 1.1086463928222657e-06 min\n"
          ]
        }
      ]
    },
    {
      "cell_type": "code",
      "metadata": {
        "id": "6Rgjb-ktexXQ"
      },
      "source": [
        "valC0 = Dataset(valC.X[:,0,:].unsqueeze(1),valC.y.long())\n",
        "testC0 = Dataset(testC.X[:,0,:].unsqueeze(1),testC.y.long())"
      ],
      "execution_count": null,
      "outputs": []
    },
    {
      "cell_type": "code",
      "metadata": {
        "id": "OBH0FAqWWZGe"
      },
      "source": [
        "# Load the leaderboard overfitted model that gave maximum performance till now"
      ],
      "execution_count": null,
      "outputs": []
    },
    {
      "cell_type": "code",
      "metadata": {
        "colab": {
          "base_uri": "https://localhost:8080/",
          "height": 179
        },
        "id": "a5h7X5zyi-zs",
        "outputId": "026eba4f-cf52-44c7-f810-1ac48ada1a3b"
      },
      "source": [
        "# Load the Channel 0, batch_size 1024 model\n",
        "# starting wandb init\n",
        "wandb_run = wandb.init(name = \"AttnSleep_TL_new\", project='cnn-fulltrain', entity='sleep_hacking')\n",
        "\n",
        "# model = clf.module\n",
        "\n",
        "# batch_size\n",
        "lr = 1e-3 #change\n",
        "batch_size = 1024\n",
        "n_epochs = 100\n",
        "\n",
        "channel = 0\n",
        "save_path = \"/content/drive/MyDrive/mne_data/NeuroIPS_Hack_Sleep/AttnSleepTLnew0_checkpoints\"\n",
        "wandb_run.config.update({\"lr\":lr,\"batch_size\":batch_size,\"channel\":channel,\"save_path\":save_path})\n",
        "\n",
        "train_bacc = EpochScoring(\n",
        "    scoring='balanced_accuracy', on_train=True, name='train_bacc',\n",
        "    lower_is_better=False)\n",
        "cp = Checkpoint(monitor = 'train_bacc_best',\n",
        "                f_params = \"params_{last_epoch[epoch]}.pt\", \n",
        "                f_optimizer = \"optimizer_{last_epoch[epoch]}.pt\", \n",
        "                f_criterion = \"criterion_{last_epoch[epoch]}.pt\",\n",
        "                dirname = save_path)\n",
        "train_end_cp = TrainEndCheckpoint(\n",
        "                f_params = \"params_{last_epoch[epoch]}.pt\", \n",
        "                f_optimizer = \"optimizer_{last_epoch[epoch]}.pt\", \n",
        "                f_criterion = \"criterion_{last_epoch[epoch]}.pt\",\n",
        "                dirname=save_path)\n",
        "\n",
        "callbacks = [('train_bal_acc', train_bacc),\n",
        "             (\"checkpoint\",cp),\n",
        "             (\"train_end_cp\",train_end_cp),\n",
        "             (\"wandb\",WandbLogger(wandb_run,save_model=False))\n",
        "            ]\n",
        "\n",
        "clf5 = NNClassifier(\n",
        "  module = AttnSleep,\n",
        "  criterion = weighted_CrossEntropyLoss,\n",
        "  optimizer=torch.optim.Adam,\n",
        "  train_split=None,\n",
        "  iterator_train = DataLoader,\n",
        "  optimizer__lr=lr,\n",
        "  batch_size=batch_size,\n",
        "  callbacks=callbacks,\n",
        "  warm_start = True,\n",
        "  device=device\n",
        ")\n",
        "print(clf5)"
      ],
      "execution_count": null,
      "outputs": [
        {
          "output_type": "display_data",
          "data": {
            "text/html": [
              "\n",
              "                Tracking run with wandb version 0.12.2<br/>\n",
              "                Syncing run <strong style=\"color:#cdcd00\">AttnSleep_TL_new</strong> to <a href=\"https://wandb.ai\" target=\"_blank\">Weights & Biases</a> <a href=\"https://docs.wandb.com/integrations/jupyter.html\" target=\"_blank\">(Documentation)</a>.<br/>\n",
              "                Project page: <a href=\"https://wandb.ai/sleep_hacking/cnn-fulltrain\" target=\"_blank\">https://wandb.ai/sleep_hacking/cnn-fulltrain</a><br/>\n",
              "                Run page: <a href=\"https://wandb.ai/sleep_hacking/cnn-fulltrain/runs/1e0wpixp\" target=\"_blank\">https://wandb.ai/sleep_hacking/cnn-fulltrain/runs/1e0wpixp</a><br/>\n",
              "                Run data is saved locally in <code>/content/wandb/run-20210927_143637-1e0wpixp</code><br/><br/>\n",
              "            "
            ],
            "text/plain": [
              "<IPython.core.display.HTML object>"
            ]
          },
          "metadata": {}
        },
        {
          "output_type": "stream",
          "name": "stdout",
          "text": [
            "<class 'skorch.classifier.NeuralNetClassifier'>[uninitialized](\n",
            "  module=<class '__main__.AttnSleep'>,\n",
            ")\n"
          ]
        }
      ]
    },
    {
      "cell_type": "code",
      "metadata": {
        "id": "CiJVFBe4i-zw"
      },
      "source": [
        "clf5.initialize() # This is important!\n",
        "load_path =\"/content/drive/MyDrive/mne_data/NeuroIPS_Hack_Sleep/AttnSleepTL0_checkpoints\"\n",
        "\n",
        "clf5.load_params(\n",
        "    f_params=load_path+'/params_100.pt', f_optimizer=load_path+'/optimizer_100.pt')"
      ],
      "execution_count": null,
      "outputs": []
    },
    {
      "cell_type": "code",
      "metadata": {
        "colab": {
          "base_uri": "https://localhost:8080/"
        },
        "id": "ScNg-nlIi-zw",
        "outputId": "8d8c9b69-ee74-4e6e-a0cf-319a75b91641"
      },
      "source": [
        "#checking if loaded properly\n",
        "y_true = valA0.y\n",
        "y_pred = clf5.predict(valA0.X)\n",
        "\n",
        "print(\"From Last Checkpointed model - Prediction on Leaderboard Validation data\")\n",
        "print(confusion_matrix(y_true.cpu(), y_pred))\n",
        "print(classification_report(y_true.cpu(), y_pred))\n",
        "cohen_kappa = cohen_kappa_score(y_true.cpu(), y_pred)\n",
        "print(cohen_kappa)"
      ],
      "execution_count": null,
      "outputs": [
        {
          "output_type": "stream",
          "name": "stdout",
          "text": [
            "From Last Checkpointed model - Prediction on Leaderboard Validation data\n",
            "[[5848   55   23    1    2   81]\n",
            " [  25 1474  119    6    6   42]\n",
            " [  23   43 4657  197   72   43]\n",
            " [   0    0   15  638   50    1]\n",
            " [   0    0    1    1  412    0]\n",
            " [  10   15   27    0    0 1555]]\n",
            "              precision    recall  f1-score   support\n",
            "\n",
            "           0       0.99      0.97      0.98      6010\n",
            "           1       0.93      0.88      0.90      1672\n",
            "           2       0.96      0.92      0.94      5035\n",
            "           3       0.76      0.91      0.82       704\n",
            "           4       0.76      1.00      0.86       414\n",
            "           5       0.90      0.97      0.93      1607\n",
            "\n",
            "    accuracy                           0.94     15442\n",
            "   macro avg       0.88      0.94      0.91     15442\n",
            "weighted avg       0.95      0.94      0.95     15442\n",
            "\n",
            "0.923122533570641\n"
          ]
        }
      ]
    },
    {
      "cell_type": "code",
      "metadata": {
        "colab": {
          "base_uri": "https://localhost:8080/"
        },
        "id": "oYE6ZGupsGwl",
        "outputId": "c32ba25d-c1b4-4dca-ac99-a3084b23bc81"
      },
      "source": [
        "#checking if loaded properly\n",
        "y_true = valC0.y\n",
        "y_pred = clf5.predict(valC0.X)\n",
        "\n",
        "print(\"From Last Checkpointed model - Prediction on Phase 2 Validation Data before TL training\")\n",
        "print(confusion_matrix(y_true.cpu(), y_pred))\n",
        "print(classification_report(y_true.cpu(), y_pred))\n",
        "cohen_kappa = cohen_kappa_score(y_true.cpu(), y_pred)\n",
        "print(cohen_kappa)"
      ],
      "execution_count": null,
      "outputs": [
        {
          "output_type": "stream",
          "name": "stdout",
          "text": [
            "From Last Checkpointed model - Prediction on Phase 2 Validation Data before TL training\n",
            "[[7235  341   56    9    3  165]\n",
            " [ 319  412  501   67   12  328]\n",
            " [ 117  323 2715  915  353  281]\n",
            " [   5    3   31  198  450    2]\n",
            " [   2    0    0    6  137    0]\n",
            " [ 107  234  400   57   13  771]]\n",
            "              precision    recall  f1-score   support\n",
            "\n",
            "           0       0.93      0.93      0.93      7809\n",
            "           1       0.31      0.25      0.28      1639\n",
            "           2       0.73      0.58      0.65      4704\n",
            "           3       0.16      0.29      0.20       689\n",
            "           4       0.14      0.94      0.25       145\n",
            "           5       0.50      0.49      0.49      1582\n",
            "\n",
            "    accuracy                           0.69     16568\n",
            "   macro avg       0.46      0.58      0.47     16568\n",
            "weighted avg       0.73      0.69      0.71     16568\n",
            "\n",
            "0.5568759416152871\n"
          ]
        }
      ]
    },
    {
      "cell_type": "code",
      "metadata": {
        "colab": {
          "base_uri": "https://localhost:8080/"
        },
        "id": "cCyfTT11i-z0",
        "outputId": "863dd0b9-d0b7-49ee-cbd8-5ce75b9e9a91"
      },
      "source": [
        "start = time.time()\n",
        "clf5.fit(valC0, y=None, epochs=n_epochs)\n",
        "end = time.time()\n",
        "print(f'time taken : {end-start}')"
      ],
      "execution_count": null,
      "outputs": [
        {
          "output_type": "stream",
          "name": "stdout",
          "text": [
            "  epoch    train_bacc    train_loss    cp     dur\n",
            "-------  ------------  ------------  ----  ------\n",
            "      1        \u001b[36m0.5004\u001b[0m        \u001b[32m1.2982\u001b[0m     +  2.3097\n",
            "      2        \u001b[36m0.5097\u001b[0m        \u001b[32m0.8621\u001b[0m     +  1.8406\n",
            "      3        \u001b[36m0.5890\u001b[0m        \u001b[32m0.6924\u001b[0m     +  1.9452\n",
            "      4        0.5725        \u001b[32m0.6719\u001b[0m        1.8371\n",
            "      5        \u001b[36m0.6155\u001b[0m        \u001b[32m0.6118\u001b[0m     +  1.8451\n",
            "      6        \u001b[36m0.6579\u001b[0m        \u001b[32m0.5650\u001b[0m     +  1.8641\n",
            "      7        \u001b[36m0.6687\u001b[0m        \u001b[32m0.5269\u001b[0m     +  1.9545\n",
            "      8        \u001b[36m0.6736\u001b[0m        \u001b[32m0.5111\u001b[0m     +  1.8410\n",
            "      9        \u001b[36m0.6981\u001b[0m        \u001b[32m0.4863\u001b[0m     +  1.8510\n",
            "     10        \u001b[36m0.7148\u001b[0m        \u001b[32m0.4744\u001b[0m     +  1.8334\n",
            "     11        0.7032        \u001b[32m0.4693\u001b[0m        1.8448\n",
            "     12        \u001b[36m0.7222\u001b[0m        \u001b[32m0.4613\u001b[0m     +  1.9981\n",
            "     13        \u001b[36m0.7257\u001b[0m        \u001b[32m0.4486\u001b[0m     +  1.8425\n",
            "     14        \u001b[36m0.7500\u001b[0m        \u001b[32m0.4334\u001b[0m     +  1.8387\n",
            "     15        0.7425        \u001b[32m0.4306\u001b[0m        1.8436\n",
            "     16        \u001b[36m0.7503\u001b[0m        \u001b[32m0.4230\u001b[0m     +  1.9559\n",
            "     17        0.7484        \u001b[32m0.4131\u001b[0m        1.8315\n",
            "     18        \u001b[36m0.7663\u001b[0m        \u001b[32m0.4023\u001b[0m     +  1.8753\n",
            "     19        \u001b[36m0.7804\u001b[0m        \u001b[32m0.3895\u001b[0m     +  1.8382\n",
            "     20        0.7762        \u001b[32m0.3866\u001b[0m        1.8328\n",
            "     21        \u001b[36m0.7866\u001b[0m        \u001b[32m0.3787\u001b[0m     +  1.9450\n",
            "     22        0.7781        \u001b[32m0.3723\u001b[0m        1.8381\n",
            "     23        \u001b[36m0.7910\u001b[0m        \u001b[32m0.3697\u001b[0m     +  1.8325\n",
            "     24        \u001b[36m0.7976\u001b[0m        \u001b[32m0.3585\u001b[0m     +  1.8711\n",
            "     25        \u001b[36m0.8049\u001b[0m        \u001b[32m0.3475\u001b[0m     +  1.8395\n",
            "     26        0.8006        \u001b[32m0.3410\u001b[0m        1.9607\n",
            "     27        0.8003        0.3426        1.8390\n",
            "     28        \u001b[36m0.8256\u001b[0m        \u001b[32m0.3334\u001b[0m     +  1.8370\n",
            "     29        0.7888        0.3506        1.8417\n",
            "     30        0.7786        0.3438        1.9780\n",
            "     31        0.8084        \u001b[32m0.3246\u001b[0m        1.8334\n",
            "     32        0.8101        0.3256        1.8368\n",
            "     33        \u001b[36m0.8266\u001b[0m        \u001b[32m0.3046\u001b[0m     +  1.8468\n",
            "     34        \u001b[36m0.8465\u001b[0m        \u001b[32m0.2881\u001b[0m     +  1.9839\n",
            "     35        0.8412        \u001b[32m0.2838\u001b[0m        1.8427\n",
            "     36        \u001b[36m0.8476\u001b[0m        \u001b[32m0.2770\u001b[0m     +  1.8710\n",
            "     37        \u001b[36m0.8588\u001b[0m        \u001b[32m0.2562\u001b[0m     +  1.8433\n",
            "     38        0.8570        0.2565        1.8372\n",
            "     39        \u001b[36m0.8714\u001b[0m        \u001b[32m0.2467\u001b[0m     +  1.9590\n",
            "     40        0.8681        \u001b[32m0.2386\u001b[0m        1.8403\n",
            "     41        \u001b[36m0.8738\u001b[0m        \u001b[32m0.2345\u001b[0m     +  1.8485\n",
            "     42        \u001b[36m0.8762\u001b[0m        0.2397     +  1.8645\n",
            "     43        0.8678        0.2402        1.8497\n",
            "     44        0.8501        0.2490        1.8452\n",
            "     45        0.8410        0.2547        1.9471\n",
            "     46        0.8646        \u001b[32m0.2291\u001b[0m        1.8401\n",
            "     47        0.8686        0.2302        1.8449\n",
            "     48        \u001b[36m0.8891\u001b[0m        \u001b[32m0.2123\u001b[0m     +  1.8672\n",
            "     49        \u001b[36m0.8980\u001b[0m        \u001b[32m0.1937\u001b[0m     +  1.8372\n",
            "     50        0.8905        0.2022        1.8373\n",
            "     51        \u001b[36m0.8982\u001b[0m        0.1954     +  1.8353\n",
            "     52        0.8932        0.1995        1.9573\n",
            "     53        0.8960        \u001b[32m0.1900\u001b[0m        1.8615\n",
            "     54        \u001b[36m0.9019\u001b[0m        \u001b[32m0.1827\u001b[0m     +  1.8342\n",
            "     55        0.9002        \u001b[32m0.1767\u001b[0m        1.8353\n",
            "     56        \u001b[36m0.9124\u001b[0m        \u001b[32m0.1644\u001b[0m     +  1.9614\n",
            "     57        0.9015        \u001b[32m0.1632\u001b[0m        1.8372\n",
            "     58        0.9026        0.1749        1.8392\n",
            "     59        0.9118        \u001b[32m0.1594\u001b[0m        1.8654\n",
            "     60        \u001b[36m0.9194\u001b[0m        \u001b[32m0.1516\u001b[0m     +  1.8433\n",
            "     61        0.9133        0.1551        1.8475\n",
            "     62        \u001b[36m0.9197\u001b[0m        \u001b[32m0.1433\u001b[0m     +  1.8352\n",
            "     63        \u001b[36m0.9246\u001b[0m        \u001b[32m0.1358\u001b[0m     +  1.9538\n",
            "     64        \u001b[36m0.9350\u001b[0m        \u001b[32m0.1265\u001b[0m     +  1.8436\n",
            "     65        \u001b[36m0.9354\u001b[0m        0.1276     +  1.8628\n",
            "     66        \u001b[36m0.9380\u001b[0m        \u001b[32m0.1204\u001b[0m     +  1.8464\n",
            "     67        \u001b[36m0.9380\u001b[0m        0.1242     +  1.8453\n",
            "     68        \u001b[36m0.9449\u001b[0m        \u001b[32m0.1045\u001b[0m     +  1.8429\n",
            "     69        0.9447        0.1090        1.9483\n",
            "     70        0.9406        0.1104        1.8267\n",
            "     71        \u001b[36m0.9510\u001b[0m        \u001b[32m0.1026\u001b[0m     +  1.8604\n",
            "     72        0.9459        0.1085        1.8361\n",
            "     73        0.9455        0.1058        1.8371\n",
            "     74        0.9451        0.1033        1.8381\n",
            "     75        0.9422        \u001b[32m0.1012\u001b[0m        1.9458\n",
            "     76        0.9495        0.1043        1.8317\n",
            "     77        0.9435        0.1076        1.8577\n",
            "     78        0.9422        0.1129        1.8404\n",
            "     79        0.9408        0.1103        1.8298\n",
            "     80        \u001b[36m0.9517\u001b[0m        \u001b[32m0.0999\u001b[0m     +  1.8539\n",
            "     81        \u001b[36m0.9528\u001b[0m        \u001b[32m0.0976\u001b[0m     +  1.8620\n",
            "     82        0.9523        \u001b[32m0.0923\u001b[0m        1.9492\n",
            "     83        0.9435        \u001b[32m0.0915\u001b[0m        1.8655\n",
            "     84        \u001b[36m0.9534\u001b[0m        0.0917     +  1.8362\n",
            "     85        \u001b[36m0.9542\u001b[0m        \u001b[32m0.0884\u001b[0m     +  1.8357\n",
            "     86        0.9499        0.0947        1.8417\n",
            "     87        0.9525        0.0896        1.8403\n",
            "     88        \u001b[36m0.9554\u001b[0m        \u001b[32m0.0848\u001b[0m     +  1.9605\n",
            "     89        0.9466        0.0889        1.8730\n",
            "     90        0.9533        0.0894        1.8448\n",
            "     91        0.9514        0.0959        1.8387\n",
            "     92        0.9456        0.0905        1.8365\n",
            "     93        0.9544        0.0901        1.8387\n",
            "     94        0.9501        0.0943        1.8365\n",
            "     95        \u001b[36m0.9631\u001b[0m        0.0883     +  1.9931\n",
            "     96        0.9572        \u001b[32m0.0829\u001b[0m        1.8389\n",
            "     97        0.9572        \u001b[32m0.0800\u001b[0m        1.8419\n",
            "     98        0.9589        \u001b[32m0.0775\u001b[0m        1.8429\n",
            "     99        0.9609        \u001b[32m0.0746\u001b[0m        1.8369\n",
            "    100        \u001b[36m0.9649\u001b[0m        \u001b[32m0.0715\u001b[0m     +  1.8634\n",
            "time taken : 191.9069094657898\n"
          ]
        }
      ]
    },
    {
      "cell_type": "code",
      "metadata": {
        "colab": {
          "base_uri": "https://localhost:8080/"
        },
        "id": "vO3_a92tsq7L",
        "outputId": "587553e9-c2dd-4253-95be-f1ef0ccbc916"
      },
      "source": [
        "#checking if loaded properly\n",
        "y_true = valC0.y\n",
        "y_pred = clf5.predict(valC0.X)\n",
        "\n",
        "print(\"From Last Checkpointed model - Prediction on Phase 2 Validation data after TL training on Phase 2 val\")\n",
        "print(confusion_matrix(y_true.cpu(), y_pred))\n",
        "print(classification_report(y_true.cpu(), y_pred))\n",
        "cohen_kappa = cohen_kappa_score(y_true.cpu(), y_pred)\n",
        "print(cohen_kappa)"
      ],
      "execution_count": null,
      "outputs": [
        {
          "output_type": "stream",
          "name": "stdout",
          "text": [
            "From Last Checkpointed model - Prediction on Phase 2 Validation data after TL training on Phase 2 val\n",
            "[[7790    7    3    1    1    7]\n",
            " [  39 1476   42    0    0   82]\n",
            " [   9   20 4415   21    1  238]\n",
            " [   0    0   42  647    0    0]\n",
            " [   0    0    0    1  144    0]\n",
            " [   9    0    5    0    0 1568]]\n",
            "              precision    recall  f1-score   support\n",
            "\n",
            "           0       0.99      1.00      1.00      7809\n",
            "           1       0.98      0.90      0.94      1639\n",
            "           2       0.98      0.94      0.96      4704\n",
            "           3       0.97      0.94      0.95       689\n",
            "           4       0.99      0.99      0.99       145\n",
            "           5       0.83      0.99      0.90      1582\n",
            "\n",
            "    accuracy                           0.97     16568\n",
            "   macro avg       0.96      0.96      0.96     16568\n",
            "weighted avg       0.97      0.97      0.97     16568\n",
            "\n",
            "0.9529875599569695\n"
          ]
        }
      ]
    },
    {
      "cell_type": "code",
      "metadata": {
        "colab": {
          "base_uri": "https://localhost:8080/"
        },
        "id": "RVe8pOGAi-z0",
        "outputId": "6d948815-492f-4b56-be6c-6261010e08dc"
      },
      "source": [
        "#checking if loaded properly\n",
        "y_true = valA0.y\n",
        "y_pred = clf5.predict(valA0.X)\n",
        "\n",
        "print(\"From Last Checkpointed model - Prediction on Leaderboard Validation data after TL training on Phase 2 val\")\n",
        "print(confusion_matrix(y_true.cpu(), y_pred))\n",
        "print(classification_report(y_true.cpu(), y_pred))\n",
        "cohen_kappa = cohen_kappa_score(y_true.cpu(), y_pred)\n",
        "print(cohen_kappa)"
      ],
      "execution_count": null,
      "outputs": [
        {
          "output_type": "stream",
          "name": "stdout",
          "text": [
            "From Last Checkpointed model - Prediction on Leaderboard Validation data after TL training on Phase 2 val\n",
            "[[5451  201   97   10    2  249]\n",
            " [ 249  469  453    0    2  499]\n",
            " [ 103  253 4124   20    2  533]\n",
            " [   1    2  612   83    2    4]\n",
            " [   0    0  236  140   38    0]\n",
            " [ 140   65  113    0    2 1287]]\n",
            "              precision    recall  f1-score   support\n",
            "\n",
            "           0       0.92      0.91      0.91      6010\n",
            "           1       0.47      0.28      0.35      1672\n",
            "           2       0.73      0.82      0.77      5035\n",
            "           3       0.33      0.12      0.17       704\n",
            "           4       0.79      0.09      0.16       414\n",
            "           5       0.50      0.80      0.62      1607\n",
            "\n",
            "    accuracy                           0.74     15442\n",
            "   macro avg       0.62      0.50      0.50     15442\n",
            "weighted avg       0.74      0.74      0.72     15442\n",
            "\n",
            "0.6340654649550557\n"
          ]
        }
      ]
    },
    {
      "cell_type": "code",
      "metadata": {
        "colab": {
          "base_uri": "https://localhost:8080/"
        },
        "id": "hiLo5qZvi-z0",
        "outputId": "653c139f-6988-4923-810b-e8bbb124e5d0"
      },
      "source": [
        "#checking if loaded properly\n",
        "y_true = trainA0.y\n",
        "y_pred = clf5.predict(trainA0.X)\n",
        "\n",
        "print(\"From Last Checkpointed model - Prediction on original Group 1 training data after TL training on Phase 2 Val data\")\n",
        "print(confusion_matrix(y_true.cpu(), y_pred))\n",
        "print(classification_report(y_true.cpu(), y_pred))\n",
        "cohen_kappa = cohen_kappa_score(y_true.cpu(), y_pred)\n",
        "print(cohen_kappa)"
      ],
      "execution_count": null,
      "outputs": [
        {
          "output_type": "stream",
          "name": "stdout",
          "text": [
            "From Last Checkpointed model - Prediction on original Group 1 training data after TL training on Phase 2 Val data\n",
            "[[21626   662   436    26    12  1281]\n",
            " [ 1440   991  2215     7     0  3288]\n",
            " [  850  1001 30391   255     7  3479]\n",
            " [   26    16  4133   974    81    17]\n",
            " [    0     1  1372  1318   365     1]\n",
            " [ 1244   440  1988    30     2 10570]]\n",
            "              precision    recall  f1-score   support\n",
            "\n",
            "           0       0.86      0.90      0.88     24043\n",
            "           1       0.32      0.12      0.18      7941\n",
            "           2       0.75      0.84      0.79     35983\n",
            "           3       0.37      0.19      0.25      5247\n",
            "           4       0.78      0.12      0.21      3057\n",
            "           5       0.57      0.74      0.64     14274\n",
            "\n",
            "    accuracy                           0.72     90545\n",
            "   macro avg       0.61      0.49      0.49     90545\n",
            "weighted avg       0.69      0.72      0.69     90545\n",
            "\n",
            "0.6018683529800133\n"
          ]
        }
      ]
    },
    {
      "cell_type": "markdown",
      "metadata": {
        "id": "HonSkFv6uiTx"
      },
      "source": [
        "Good Example of Catastrophic Forgetting, but group staying at around 60% is interesting"
      ]
    },
    {
      "cell_type": "code",
      "metadata": {
        "colab": {
          "base_uri": "https://localhost:8080/"
        },
        "id": "3pPnwUaWi-z1",
        "outputId": "016e7513-3e3c-4589-c586-23f717cf516e"
      },
      "source": [
        "predict_leaderboard_unlabelled(clf=clf5,save_fname=\"AttnSleep_TL_final0\", x_test_data = testC.X[:,channel,:].unsqueeze(1))"
      ],
      "execution_count": null,
      "outputs": [
        {
          "output_type": "stream",
          "name": "stdout",
          "text": [
            "torch.Size([25756, 1, 3000])\n",
            "Checking if all classes have been predicted\n",
            "[0 1 2 3 4 5]\n"
          ]
        }
      ]
    },
    {
      "cell_type": "markdown",
      "metadata": {
        "id": "cmxAPiwbi-z1"
      },
      "source": [
        "This model got 63.8% on the Sleep Leaderboard. Without the TL it was at 60%.. Not such a great improvement.. Seems like Overfitting on the 5 subject data wasn't enough to generalize to all the leaderboard data.."
      ]
    },
    {
      "cell_type": "code",
      "metadata": {
        "colab": {
          "base_uri": "https://localhost:8080/",
          "height": 443,
          "referenced_widgets": [
            "bcc1bf44d476410fb619ffdca6fc31ec",
            "1c2e25dd1fe543eb8b5b0f05ca83f627",
            "80ed1c51d00142e1a7bd2276b8f1228b",
            "ee7d3c67db304143966b2a7a4f4a258c",
            "5fe67647e3d94150a771abdbbedb855c",
            "d3ca02fb63c0483db6fd0f9bd8166b32",
            "ed99830578fc456d88207a3d1e4fc531",
            "4b80d35aba90474592c5e389fc78c471"
          ]
        },
        "id": "jIbsuadbi-z2",
        "outputId": "818164fc-5501-4481-dcfc-b5e86e2d520c"
      },
      "source": [
        "wandb.finish()"
      ],
      "execution_count": null,
      "outputs": [
        {
          "output_type": "display_data",
          "data": {
            "text/html": [
              "<br/>Waiting for W&B process to finish, PID 4460<br/>Program ended successfully."
            ],
            "text/plain": [
              "<IPython.core.display.HTML object>"
            ]
          },
          "metadata": {}
        },
        {
          "output_type": "display_data",
          "data": {
            "application/vnd.jupyter.widget-view+json": {
              "model_id": "bcc1bf44d476410fb619ffdca6fc31ec",
              "version_minor": 0,
              "version_major": 2
            },
            "text/plain": [
              "VBox(children=(Label(value=' 0.00MB of 0.00MB uploaded (0.00MB deduped)\\r'), FloatProgress(value=1.0, max=1.0)…"
            ]
          },
          "metadata": {}
        },
        {
          "output_type": "display_data",
          "data": {
            "text/html": [
              "Find user logs for this run at: <code>/content/wandb/run-20210927_143637-1e0wpixp/logs/debug.log</code>"
            ],
            "text/plain": [
              "<IPython.core.display.HTML object>"
            ]
          },
          "metadata": {}
        },
        {
          "output_type": "display_data",
          "data": {
            "text/html": [
              "Find internal logs for this run at: <code>/content/wandb/run-20210927_143637-1e0wpixp/logs/debug-internal.log</code>"
            ],
            "text/plain": [
              "<IPython.core.display.HTML object>"
            ]
          },
          "metadata": {}
        },
        {
          "output_type": "display_data",
          "data": {
            "text/html": [
              "<h3>Run summary:</h3><br/><style>\n",
              "    table.wandb td:nth-child(1) { padding: 0 10px; text-align: right }\n",
              "    </style><table class=\"wandb\">\n",
              "<tr><td>dur</td><td>1.86337</td></tr><tr><td>train_bacc</td><td>0.96495</td></tr><tr><td>train_loss</td><td>0.07148</td></tr></table>"
            ],
            "text/plain": [
              "<IPython.core.display.HTML object>"
            ]
          },
          "metadata": {}
        },
        {
          "output_type": "display_data",
          "data": {
            "text/html": [
              "<h3>Run history:</h3><br/><style>\n",
              "    table.wandb td:nth-child(1) { padding: 0 10px; text-align: right }\n",
              "    </style><table class=\"wandb\">\n",
              "<tr><td>dur</td><td>█▃▂▁▁▁▃▂▃▁▃▁▁▃▂▃▁▁▁▁▁▁▃▂▁▁▁▃▁▁▁▁▃▁▁▂▁▁▁▁</td></tr><tr><td>train_bacc</td><td>▁▂▃▄▄▄▅▅▅▅▆▆▆▆▆▇▇▆▆▇▇▇▇▇▇███████████████</td></tr><tr><td>train_loss</td><td>█▅▄▄▃▃▃▃▃▃▃▂▂▂▂▂▂▂▂▂▂▂▂▂▁▁▁▁▁▁▁▁▁▁▁▁▁▁▁▁</td></tr></table><br/>"
            ],
            "text/plain": [
              "<IPython.core.display.HTML object>"
            ]
          },
          "metadata": {}
        },
        {
          "output_type": "display_data",
          "data": {
            "text/html": [
              "Synced 5 W&B file(s), 0 media file(s), 0 artifact file(s) and 0 other file(s)"
            ],
            "text/plain": [
              "<IPython.core.display.HTML object>"
            ]
          },
          "metadata": {}
        },
        {
          "output_type": "display_data",
          "data": {
            "text/html": [
              "\n",
              "                    <br/>Synced <strong style=\"color:#cdcd00\">AttnSleep_TL_new</strong>: <a href=\"https://wandb.ai/sleep_hacking/cnn-fulltrain/runs/1e0wpixp\" target=\"_blank\">https://wandb.ai/sleep_hacking/cnn-fulltrain/runs/1e0wpixp</a><br/>\n",
              "                "
            ],
            "text/plain": [
              "<IPython.core.display.HTML object>"
            ]
          },
          "metadata": {}
        }
      ]
    },
    {
      "cell_type": "markdown",
      "metadata": {
        "id": "W5eVyQaCqfAo"
      },
      "source": [
        "# TL using first group trained model and target data of the final set (Primarily led to overfitting and performance lower than non-TL direct model)"
      ]
    },
    {
      "cell_type": "code",
      "metadata": {
        "colab": {
          "base_uri": "https://localhost:8080/"
        },
        "id": "JHmZb8srCioy",
        "outputId": "ed71509a-fe0f-4a8d-8e81-bde1f8507a7b"
      },
      "source": [
        "valC = get_valC()\n",
        "testC = get_testC()"
      ],
      "execution_count": null,
      "outputs": [
        {
          "output_type": "stream",
          "name": "stdout",
          "text": [
            "phase 2 labelled load time = 0.3309566259384155 min\n",
            "There are 16568 trials with 2 electrodes and 3000 time samples\n",
            "(16568, 2, 3000) (16568,)\n",
            "[7809 1639 4704  689  145 1582]\n",
            "Z-scoring time 7.114246129989624 sec\n",
            "Torch dataset time 0.0020368099212646484 sec = 3.394683202107747e-05 min\n",
            "phase 2 final test set load time = 0.3870764295260111 min\n",
            "There are 25756 trials with 2 electrodes and 3000 time samples\n",
            "Z-scoring time 1.73142409324646 sec\n",
            "Torch dataset time 6.651878356933594e-05 sec = 1.1086463928222657e-06 min\n"
          ]
        }
      ]
    },
    {
      "cell_type": "code",
      "metadata": {
        "id": "LkavjcKXCio8"
      },
      "source": [
        "# Channel 0\n",
        "valC0 = Dataset(valC.X[:,0,:].unsqueeze(1),valC.y.long())\n",
        "testC0 = Dataset(testC.X[:,0,:].unsqueeze(1),testC.y.long())"
      ],
      "execution_count": null,
      "outputs": []
    },
    {
      "cell_type": "code",
      "metadata": {
        "colab": {
          "base_uri": "https://localhost:8080/",
          "height": 179
        },
        "id": "adEseQ3UDKIV",
        "outputId": "026eba4f-cf52-44c7-f810-1ac48ada1a3b"
      },
      "source": [
        "# Load the Channel 0, batch_size 1024 model\n",
        "# starting wandb init\n",
        "wandb_run = wandb.init(name = \"AttnSleep_TL_new\", project='cnn-fulltrain', entity='sleep_hacking')\n",
        "\n",
        "# model = clf.module\n",
        "\n",
        "# batch_size\n",
        "lr = 1e-3 #change\n",
        "batch_size = 1024\n",
        "n_epochs = 100\n",
        "\n",
        "channel = 0\n",
        "save_path = \"/content/drive/MyDrive/mne_data/NeuroIPS_Hack_Sleep/AttnSleepTLnew0_checkpoints\"\n",
        "wandb_run.config.update({\"lr\":lr,\"batch_size\":batch_size,\"channel\":channel,\"save_path\":save_path})\n",
        "\n",
        "train_bacc = EpochScoring(\n",
        "    scoring='balanced_accuracy', on_train=True, name='train_bacc',\n",
        "    lower_is_better=False)\n",
        "cp = Checkpoint(monitor = 'train_bacc_best',\n",
        "                f_params = \"params_{last_epoch[epoch]}.pt\", \n",
        "                f_optimizer = \"optimizer_{last_epoch[epoch]}.pt\", \n",
        "                f_criterion = \"criterion_{last_epoch[epoch]}.pt\",\n",
        "                dirname = save_path)\n",
        "train_end_cp = TrainEndCheckpoint(\n",
        "                f_params = \"params_{last_epoch[epoch]}.pt\", \n",
        "                f_optimizer = \"optimizer_{last_epoch[epoch]}.pt\", \n",
        "                f_criterion = \"criterion_{last_epoch[epoch]}.pt\",\n",
        "                dirname=save_path)\n",
        "\n",
        "callbacks = [('train_bal_acc', train_bacc),\n",
        "             (\"checkpoint\",cp),\n",
        "             (\"train_end_cp\",train_end_cp),\n",
        "             (\"wandb\",WandbLogger(wandb_run,save_model=False))\n",
        "            ]\n",
        "\n",
        "clf5 = NNClassifier(\n",
        "  module = AttnSleep,\n",
        "  criterion = weighted_CrossEntropyLoss,\n",
        "  optimizer=torch.optim.Adam,\n",
        "  train_split=None,\n",
        "  iterator_train = DataLoader,\n",
        "  optimizer__lr=lr,\n",
        "  batch_size=batch_size,\n",
        "  callbacks=callbacks,\n",
        "  warm_start = True,\n",
        "  device=device\n",
        ")\n",
        "print(clf5)"
      ],
      "execution_count": null,
      "outputs": [
        {
          "output_type": "display_data",
          "data": {
            "text/html": [
              "\n",
              "                Tracking run with wandb version 0.12.2<br/>\n",
              "                Syncing run <strong style=\"color:#cdcd00\">AttnSleep_TL_new</strong> to <a href=\"https://wandb.ai\" target=\"_blank\">Weights & Biases</a> <a href=\"https://docs.wandb.com/integrations/jupyter.html\" target=\"_blank\">(Documentation)</a>.<br/>\n",
              "                Project page: <a href=\"https://wandb.ai/sleep_hacking/cnn-fulltrain\" target=\"_blank\">https://wandb.ai/sleep_hacking/cnn-fulltrain</a><br/>\n",
              "                Run page: <a href=\"https://wandb.ai/sleep_hacking/cnn-fulltrain/runs/1e0wpixp\" target=\"_blank\">https://wandb.ai/sleep_hacking/cnn-fulltrain/runs/1e0wpixp</a><br/>\n",
              "                Run data is saved locally in <code>/content/wandb/run-20210927_143637-1e0wpixp</code><br/><br/>\n",
              "            "
            ],
            "text/plain": [
              "<IPython.core.display.HTML object>"
            ]
          },
          "metadata": {}
        },
        {
          "output_type": "stream",
          "name": "stdout",
          "text": [
            "<class 'skorch.classifier.NeuralNetClassifier'>[uninitialized](\n",
            "  module=<class '__main__.AttnSleep'>,\n",
            ")\n"
          ]
        }
      ]
    },
    {
      "cell_type": "code",
      "metadata": {
        "id": "ypd4-hXlq0P_"
      },
      "source": [
        "clf5.initialize() # This is important!\n",
        "load_path = \"/content/drive/MyDrive/mne_data/NeuroIPS_Hack_Sleep/AttnSleepTLnew1_checkpoints\"\n",
        "clf5.load_params(\n",
        "    f_params=load_path+'/params_3.pt', f_optimizer=load_path+'/optimizer_3.pt')"
      ],
      "execution_count": null,
      "outputs": []
    },
    {
      "cell_type": "code",
      "metadata": {
        "colab": {
          "base_uri": "https://localhost:8080/"
        },
        "id": "2MrH83X3DKIY",
        "outputId": "8d8c9b69-ee74-4e6e-a0cf-319a75b91641"
      },
      "source": [
        "#checking if loaded properly\n",
        "y_true = valA0.y\n",
        "y_pred = clf5.predict(valA0.X)\n",
        "\n",
        "print(\"From Last Checkpointed model - Prediction on Leaderboard Validation data\")\n",
        "print(confusion_matrix(y_true.cpu(), y_pred))\n",
        "print(classification_report(y_true.cpu(), y_pred))\n",
        "cohen_kappa = cohen_kappa_score(y_true.cpu(), y_pred)\n",
        "print(cohen_kappa)"
      ],
      "execution_count": null,
      "outputs": [
        {
          "output_type": "stream",
          "name": "stdout",
          "text": [
            "From Last Checkpointed model - Prediction on Leaderboard Validation data\n",
            "[[5848   55   23    1    2   81]\n",
            " [  25 1474  119    6    6   42]\n",
            " [  23   43 4657  197   72   43]\n",
            " [   0    0   15  638   50    1]\n",
            " [   0    0    1    1  412    0]\n",
            " [  10   15   27    0    0 1555]]\n",
            "              precision    recall  f1-score   support\n",
            "\n",
            "           0       0.99      0.97      0.98      6010\n",
            "           1       0.93      0.88      0.90      1672\n",
            "           2       0.96      0.92      0.94      5035\n",
            "           3       0.76      0.91      0.82       704\n",
            "           4       0.76      1.00      0.86       414\n",
            "           5       0.90      0.97      0.93      1607\n",
            "\n",
            "    accuracy                           0.94     15442\n",
            "   macro avg       0.88      0.94      0.91     15442\n",
            "weighted avg       0.95      0.94      0.95     15442\n",
            "\n",
            "0.923122533570641\n"
          ]
        }
      ]
    },
    {
      "cell_type": "code",
      "metadata": {
        "colab": {
          "base_uri": "https://localhost:8080/"
        },
        "id": "IFW2ufXNDKIY",
        "outputId": "c32ba25d-c1b4-4dca-ac99-a3084b23bc81"
      },
      "source": [
        "#checking if loaded properly\n",
        "y_true = valC0.y\n",
        "y_pred = clf5.predict(valC0.X)\n",
        "\n",
        "print(\"From Last Checkpointed model - Prediction on Phase 2 Validation Data before TL training\")\n",
        "print(confusion_matrix(y_true.cpu(), y_pred))\n",
        "print(classification_report(y_true.cpu(), y_pred))\n",
        "cohen_kappa = cohen_kappa_score(y_true.cpu(), y_pred)\n",
        "print(cohen_kappa)"
      ],
      "execution_count": null,
      "outputs": [
        {
          "output_type": "stream",
          "name": "stdout",
          "text": [
            "From Last Checkpointed model - Prediction on Phase 2 Validation Data before TL training\n",
            "[[7235  341   56    9    3  165]\n",
            " [ 319  412  501   67   12  328]\n",
            " [ 117  323 2715  915  353  281]\n",
            " [   5    3   31  198  450    2]\n",
            " [   2    0    0    6  137    0]\n",
            " [ 107  234  400   57   13  771]]\n",
            "              precision    recall  f1-score   support\n",
            "\n",
            "           0       0.93      0.93      0.93      7809\n",
            "           1       0.31      0.25      0.28      1639\n",
            "           2       0.73      0.58      0.65      4704\n",
            "           3       0.16      0.29      0.20       689\n",
            "           4       0.14      0.94      0.25       145\n",
            "           5       0.50      0.49      0.49      1582\n",
            "\n",
            "    accuracy                           0.69     16568\n",
            "   macro avg       0.46      0.58      0.47     16568\n",
            "weighted avg       0.73      0.69      0.71     16568\n",
            "\n",
            "0.5568759416152871\n"
          ]
        }
      ]
    },
    {
      "cell_type": "code",
      "metadata": {
        "colab": {
          "base_uri": "https://localhost:8080/"
        },
        "id": "VCJXeonxDKIZ",
        "outputId": "863dd0b9-d0b7-49ee-cbd8-5ce75b9e9a91"
      },
      "source": [
        "start = time.time()\n",
        "clf5.fit(valC0, y=None, epochs=n_epochs)\n",
        "end = time.time()\n",
        "print(f'time taken : {end-start}')"
      ],
      "execution_count": null,
      "outputs": [
        {
          "output_type": "stream",
          "name": "stdout",
          "text": [
            "  epoch    train_bacc    train_loss    cp     dur\n",
            "-------  ------------  ------------  ----  ------\n",
            "      1        \u001b[36m0.5004\u001b[0m        \u001b[32m1.2982\u001b[0m     +  2.3097\n",
            "      2        \u001b[36m0.5097\u001b[0m        \u001b[32m0.8621\u001b[0m     +  1.8406\n",
            "      3        \u001b[36m0.5890\u001b[0m        \u001b[32m0.6924\u001b[0m     +  1.9452\n",
            "      4        0.5725        \u001b[32m0.6719\u001b[0m        1.8371\n",
            "      5        \u001b[36m0.6155\u001b[0m        \u001b[32m0.6118\u001b[0m     +  1.8451\n",
            "      6        \u001b[36m0.6579\u001b[0m        \u001b[32m0.5650\u001b[0m     +  1.8641\n",
            "      7        \u001b[36m0.6687\u001b[0m        \u001b[32m0.5269\u001b[0m     +  1.9545\n",
            "      8        \u001b[36m0.6736\u001b[0m        \u001b[32m0.5111\u001b[0m     +  1.8410\n",
            "      9        \u001b[36m0.6981\u001b[0m        \u001b[32m0.4863\u001b[0m     +  1.8510\n",
            "     10        \u001b[36m0.7148\u001b[0m        \u001b[32m0.4744\u001b[0m     +  1.8334\n",
            "     11        0.7032        \u001b[32m0.4693\u001b[0m        1.8448\n",
            "     12        \u001b[36m0.7222\u001b[0m        \u001b[32m0.4613\u001b[0m     +  1.9981\n",
            "     13        \u001b[36m0.7257\u001b[0m        \u001b[32m0.4486\u001b[0m     +  1.8425\n",
            "     14        \u001b[36m0.7500\u001b[0m        \u001b[32m0.4334\u001b[0m     +  1.8387\n",
            "     15        0.7425        \u001b[32m0.4306\u001b[0m        1.8436\n",
            "     16        \u001b[36m0.7503\u001b[0m        \u001b[32m0.4230\u001b[0m     +  1.9559\n",
            "     17        0.7484        \u001b[32m0.4131\u001b[0m        1.8315\n",
            "     18        \u001b[36m0.7663\u001b[0m        \u001b[32m0.4023\u001b[0m     +  1.8753\n",
            "     19        \u001b[36m0.7804\u001b[0m        \u001b[32m0.3895\u001b[0m     +  1.8382\n",
            "     20        0.7762        \u001b[32m0.3866\u001b[0m        1.8328\n",
            "     21        \u001b[36m0.7866\u001b[0m        \u001b[32m0.3787\u001b[0m     +  1.9450\n",
            "     22        0.7781        \u001b[32m0.3723\u001b[0m        1.8381\n",
            "     23        \u001b[36m0.7910\u001b[0m        \u001b[32m0.3697\u001b[0m     +  1.8325\n",
            "     24        \u001b[36m0.7976\u001b[0m        \u001b[32m0.3585\u001b[0m     +  1.8711\n",
            "     25        \u001b[36m0.8049\u001b[0m        \u001b[32m0.3475\u001b[0m     +  1.8395\n",
            "     26        0.8006        \u001b[32m0.3410\u001b[0m        1.9607\n",
            "     27        0.8003        0.3426        1.8390\n",
            "     28        \u001b[36m0.8256\u001b[0m        \u001b[32m0.3334\u001b[0m     +  1.8370\n",
            "     29        0.7888        0.3506        1.8417\n",
            "     30        0.7786        0.3438        1.9780\n",
            "     31        0.8084        \u001b[32m0.3246\u001b[0m        1.8334\n",
            "     32        0.8101        0.3256        1.8368\n",
            "     33        \u001b[36m0.8266\u001b[0m        \u001b[32m0.3046\u001b[0m     +  1.8468\n",
            "     34        \u001b[36m0.8465\u001b[0m        \u001b[32m0.2881\u001b[0m     +  1.9839\n",
            "     35        0.8412        \u001b[32m0.2838\u001b[0m        1.8427\n",
            "     36        \u001b[36m0.8476\u001b[0m        \u001b[32m0.2770\u001b[0m     +  1.8710\n",
            "     37        \u001b[36m0.8588\u001b[0m        \u001b[32m0.2562\u001b[0m     +  1.8433\n",
            "     38        0.8570        0.2565        1.8372\n",
            "     39        \u001b[36m0.8714\u001b[0m        \u001b[32m0.2467\u001b[0m     +  1.9590\n",
            "     40        0.8681        \u001b[32m0.2386\u001b[0m        1.8403\n",
            "     41        \u001b[36m0.8738\u001b[0m        \u001b[32m0.2345\u001b[0m     +  1.8485\n",
            "     42        \u001b[36m0.8762\u001b[0m        0.2397     +  1.8645\n",
            "     43        0.8678        0.2402        1.8497\n",
            "     44        0.8501        0.2490        1.8452\n",
            "     45        0.8410        0.2547        1.9471\n",
            "     46        0.8646        \u001b[32m0.2291\u001b[0m        1.8401\n",
            "     47        0.8686        0.2302        1.8449\n",
            "     48        \u001b[36m0.8891\u001b[0m        \u001b[32m0.2123\u001b[0m     +  1.8672\n",
            "     49        \u001b[36m0.8980\u001b[0m        \u001b[32m0.1937\u001b[0m     +  1.8372\n",
            "     50        0.8905        0.2022        1.8373\n",
            "     51        \u001b[36m0.8982\u001b[0m        0.1954     +  1.8353\n",
            "     52        0.8932        0.1995        1.9573\n",
            "     53        0.8960        \u001b[32m0.1900\u001b[0m        1.8615\n",
            "     54        \u001b[36m0.9019\u001b[0m        \u001b[32m0.1827\u001b[0m     +  1.8342\n",
            "     55        0.9002        \u001b[32m0.1767\u001b[0m        1.8353\n",
            "     56        \u001b[36m0.9124\u001b[0m        \u001b[32m0.1644\u001b[0m     +  1.9614\n",
            "     57        0.9015        \u001b[32m0.1632\u001b[0m        1.8372\n",
            "     58        0.9026        0.1749        1.8392\n",
            "     59        0.9118        \u001b[32m0.1594\u001b[0m        1.8654\n",
            "     60        \u001b[36m0.9194\u001b[0m        \u001b[32m0.1516\u001b[0m     +  1.8433\n",
            "     61        0.9133        0.1551        1.8475\n",
            "     62        \u001b[36m0.9197\u001b[0m        \u001b[32m0.1433\u001b[0m     +  1.8352\n",
            "     63        \u001b[36m0.9246\u001b[0m        \u001b[32m0.1358\u001b[0m     +  1.9538\n",
            "     64        \u001b[36m0.9350\u001b[0m        \u001b[32m0.1265\u001b[0m     +  1.8436\n",
            "     65        \u001b[36m0.9354\u001b[0m        0.1276     +  1.8628\n",
            "     66        \u001b[36m0.9380\u001b[0m        \u001b[32m0.1204\u001b[0m     +  1.8464\n",
            "     67        \u001b[36m0.9380\u001b[0m        0.1242     +  1.8453\n",
            "     68        \u001b[36m0.9449\u001b[0m        \u001b[32m0.1045\u001b[0m     +  1.8429\n",
            "     69        0.9447        0.1090        1.9483\n",
            "     70        0.9406        0.1104        1.8267\n",
            "     71        \u001b[36m0.9510\u001b[0m        \u001b[32m0.1026\u001b[0m     +  1.8604\n",
            "     72        0.9459        0.1085        1.8361\n",
            "     73        0.9455        0.1058        1.8371\n",
            "     74        0.9451        0.1033        1.8381\n",
            "     75        0.9422        \u001b[32m0.1012\u001b[0m        1.9458\n",
            "     76        0.9495        0.1043        1.8317\n",
            "     77        0.9435        0.1076        1.8577\n",
            "     78        0.9422        0.1129        1.8404\n",
            "     79        0.9408        0.1103        1.8298\n",
            "     80        \u001b[36m0.9517\u001b[0m        \u001b[32m0.0999\u001b[0m     +  1.8539\n",
            "     81        \u001b[36m0.9528\u001b[0m        \u001b[32m0.0976\u001b[0m     +  1.8620\n",
            "     82        0.9523        \u001b[32m0.0923\u001b[0m        1.9492\n",
            "     83        0.9435        \u001b[32m0.0915\u001b[0m        1.8655\n",
            "     84        \u001b[36m0.9534\u001b[0m        0.0917     +  1.8362\n",
            "     85        \u001b[36m0.9542\u001b[0m        \u001b[32m0.0884\u001b[0m     +  1.8357\n",
            "     86        0.9499        0.0947        1.8417\n",
            "     87        0.9525        0.0896        1.8403\n",
            "     88        \u001b[36m0.9554\u001b[0m        \u001b[32m0.0848\u001b[0m     +  1.9605\n",
            "     89        0.9466        0.0889        1.8730\n",
            "     90        0.9533        0.0894        1.8448\n",
            "     91        0.9514        0.0959        1.8387\n",
            "     92        0.9456        0.0905        1.8365\n",
            "     93        0.9544        0.0901        1.8387\n",
            "     94        0.9501        0.0943        1.8365\n",
            "     95        \u001b[36m0.9631\u001b[0m        0.0883     +  1.9931\n",
            "     96        0.9572        \u001b[32m0.0829\u001b[0m        1.8389\n",
            "     97        0.9572        \u001b[32m0.0800\u001b[0m        1.8419\n",
            "     98        0.9589        \u001b[32m0.0775\u001b[0m        1.8429\n",
            "     99        0.9609        \u001b[32m0.0746\u001b[0m        1.8369\n",
            "    100        \u001b[36m0.9649\u001b[0m        \u001b[32m0.0715\u001b[0m     +  1.8634\n",
            "time taken : 191.9069094657898\n"
          ]
        }
      ]
    },
    {
      "cell_type": "code",
      "metadata": {
        "colab": {
          "base_uri": "https://localhost:8080/"
        },
        "id": "zNOSUEiVDKIa",
        "outputId": "587553e9-c2dd-4253-95be-f1ef0ccbc916"
      },
      "source": [
        "#checking if loaded properly\n",
        "y_true = valC0.y\n",
        "y_pred = clf5.predict(valC0.X)\n",
        "\n",
        "print(\"From Last Checkpointed model - Prediction on Phase 2 Validation data after TL training on Phase 2 val\")\n",
        "print(confusion_matrix(y_true.cpu(), y_pred))\n",
        "print(classification_report(y_true.cpu(), y_pred))\n",
        "cohen_kappa = cohen_kappa_score(y_true.cpu(), y_pred)\n",
        "print(cohen_kappa)"
      ],
      "execution_count": null,
      "outputs": [
        {
          "output_type": "stream",
          "name": "stdout",
          "text": [
            "From Last Checkpointed model - Prediction on Phase 2 Validation data after TL training on Phase 2 val\n",
            "[[7790    7    3    1    1    7]\n",
            " [  39 1476   42    0    0   82]\n",
            " [   9   20 4415   21    1  238]\n",
            " [   0    0   42  647    0    0]\n",
            " [   0    0    0    1  144    0]\n",
            " [   9    0    5    0    0 1568]]\n",
            "              precision    recall  f1-score   support\n",
            "\n",
            "           0       0.99      1.00      1.00      7809\n",
            "           1       0.98      0.90      0.94      1639\n",
            "           2       0.98      0.94      0.96      4704\n",
            "           3       0.97      0.94      0.95       689\n",
            "           4       0.99      0.99      0.99       145\n",
            "           5       0.83      0.99      0.90      1582\n",
            "\n",
            "    accuracy                           0.97     16568\n",
            "   macro avg       0.96      0.96      0.96     16568\n",
            "weighted avg       0.97      0.97      0.97     16568\n",
            "\n",
            "0.9529875599569695\n"
          ]
        }
      ]
    },
    {
      "cell_type": "code",
      "metadata": {
        "colab": {
          "base_uri": "https://localhost:8080/"
        },
        "id": "DwzxSTQ3DKIb",
        "outputId": "6d948815-492f-4b56-be6c-6261010e08dc"
      },
      "source": [
        "#checking if loaded properly\n",
        "y_true = valA0.y\n",
        "y_pred = clf5.predict(valA0.X)\n",
        "\n",
        "print(\"From Last Checkpointed model - Prediction on Leaderboard Validation data after TL training on Phase 2 val\")\n",
        "print(confusion_matrix(y_true.cpu(), y_pred))\n",
        "print(classification_report(y_true.cpu(), y_pred))\n",
        "cohen_kappa = cohen_kappa_score(y_true.cpu(), y_pred)\n",
        "print(cohen_kappa)"
      ],
      "execution_count": null,
      "outputs": [
        {
          "output_type": "stream",
          "name": "stdout",
          "text": [
            "From Last Checkpointed model - Prediction on Leaderboard Validation data after TL training on Phase 2 val\n",
            "[[5451  201   97   10    2  249]\n",
            " [ 249  469  453    0    2  499]\n",
            " [ 103  253 4124   20    2  533]\n",
            " [   1    2  612   83    2    4]\n",
            " [   0    0  236  140   38    0]\n",
            " [ 140   65  113    0    2 1287]]\n",
            "              precision    recall  f1-score   support\n",
            "\n",
            "           0       0.92      0.91      0.91      6010\n",
            "           1       0.47      0.28      0.35      1672\n",
            "           2       0.73      0.82      0.77      5035\n",
            "           3       0.33      0.12      0.17       704\n",
            "           4       0.79      0.09      0.16       414\n",
            "           5       0.50      0.80      0.62      1607\n",
            "\n",
            "    accuracy                           0.74     15442\n",
            "   macro avg       0.62      0.50      0.50     15442\n",
            "weighted avg       0.74      0.74      0.72     15442\n",
            "\n",
            "0.6340654649550557\n"
          ]
        }
      ]
    },
    {
      "cell_type": "code",
      "metadata": {
        "colab": {
          "base_uri": "https://localhost:8080/"
        },
        "id": "cM32NwnuDKIc",
        "outputId": "653c139f-6988-4923-810b-e8bbb124e5d0"
      },
      "source": [
        "#checking if loaded properly\n",
        "y_true = trainA0.y\n",
        "y_pred = clf5.predict(trainA0.X)\n",
        "\n",
        "print(\"From Last Checkpointed model - Prediction on original Group 1 training data after TL training on Phase 2 Val data\")\n",
        "print(confusion_matrix(y_true.cpu(), y_pred))\n",
        "print(classification_report(y_true.cpu(), y_pred))\n",
        "cohen_kappa = cohen_kappa_score(y_true.cpu(), y_pred)\n",
        "print(cohen_kappa)"
      ],
      "execution_count": null,
      "outputs": [
        {
          "output_type": "stream",
          "name": "stdout",
          "text": [
            "From Last Checkpointed model - Prediction on original Group 1 training data after TL training on Phase 2 Val data\n",
            "[[21626   662   436    26    12  1281]\n",
            " [ 1440   991  2215     7     0  3288]\n",
            " [  850  1001 30391   255     7  3479]\n",
            " [   26    16  4133   974    81    17]\n",
            " [    0     1  1372  1318   365     1]\n",
            " [ 1244   440  1988    30     2 10570]]\n",
            "              precision    recall  f1-score   support\n",
            "\n",
            "           0       0.86      0.90      0.88     24043\n",
            "           1       0.32      0.12      0.18      7941\n",
            "           2       0.75      0.84      0.79     35983\n",
            "           3       0.37      0.19      0.25      5247\n",
            "           4       0.78      0.12      0.21      3057\n",
            "           5       0.57      0.74      0.64     14274\n",
            "\n",
            "    accuracy                           0.72     90545\n",
            "   macro avg       0.61      0.49      0.49     90545\n",
            "weighted avg       0.69      0.72      0.69     90545\n",
            "\n",
            "0.6018683529800133\n"
          ]
        }
      ]
    },
    {
      "cell_type": "markdown",
      "metadata": {
        "id": "eSfOFw0gDKId"
      },
      "source": [
        "Good Example of Catastrophic Forgetting, but group staying at around 60% is interesting"
      ]
    },
    {
      "cell_type": "code",
      "metadata": {
        "colab": {
          "base_uri": "https://localhost:8080/"
        },
        "id": "1Ha0Q2SqDKId",
        "outputId": "016e7513-3e3c-4589-c586-23f717cf516e"
      },
      "source": [
        "predict_leaderboard_unlabelled(clf=clf5,save_fname=\"AttnSleep_TL_final1\", x_test_data = testC.X[:,channel,:].unsqueeze(1))"
      ],
      "execution_count": null,
      "outputs": [
        {
          "output_type": "stream",
          "name": "stdout",
          "text": [
            "torch.Size([25756, 1, 3000])\n",
            "Checking if all classes have been predicted\n",
            "[0 1 2 3 4 5]\n"
          ]
        }
      ]
    },
    {
      "cell_type": "markdown",
      "metadata": {
        "id": "I8m8Wd4EDKIe"
      },
      "source": [
        "This model got 63.8% on the Sleep Leaderboard. Without the TL it was at 60%.. Not such a great improvement.. Seems like Overfitting on the 5 subject data wasn't enough to generalize to all the leaderboard data.."
      ]
    },
    {
      "cell_type": "code",
      "metadata": {
        "colab": {
          "base_uri": "https://localhost:8080/",
          "height": 443,
          "referenced_widgets": [
            "bcc1bf44d476410fb619ffdca6fc31ec",
            "1c2e25dd1fe543eb8b5b0f05ca83f627",
            "80ed1c51d00142e1a7bd2276b8f1228b",
            "ee7d3c67db304143966b2a7a4f4a258c",
            "5fe67647e3d94150a771abdbbedb855c",
            "d3ca02fb63c0483db6fd0f9bd8166b32",
            "ed99830578fc456d88207a3d1e4fc531",
            "4b80d35aba90474592c5e389fc78c471"
          ]
        },
        "id": "SXqYAS77DKIe",
        "outputId": "818164fc-5501-4481-dcfc-b5e86e2d520c"
      },
      "source": [
        "wandb.finish()"
      ],
      "execution_count": null,
      "outputs": [
        {
          "output_type": "display_data",
          "data": {
            "text/html": [
              "<br/>Waiting for W&B process to finish, PID 4460<br/>Program ended successfully."
            ],
            "text/plain": [
              "<IPython.core.display.HTML object>"
            ]
          },
          "metadata": {}
        },
        {
          "output_type": "display_data",
          "data": {
            "application/vnd.jupyter.widget-view+json": {
              "model_id": "bcc1bf44d476410fb619ffdca6fc31ec",
              "version_minor": 0,
              "version_major": 2
            },
            "text/plain": [
              "VBox(children=(Label(value=' 0.00MB of 0.00MB uploaded (0.00MB deduped)\\r'), FloatProgress(value=1.0, max=1.0)…"
            ]
          },
          "metadata": {}
        },
        {
          "output_type": "display_data",
          "data": {
            "text/html": [
              "Find user logs for this run at: <code>/content/wandb/run-20210927_143637-1e0wpixp/logs/debug.log</code>"
            ],
            "text/plain": [
              "<IPython.core.display.HTML object>"
            ]
          },
          "metadata": {}
        },
        {
          "output_type": "display_data",
          "data": {
            "text/html": [
              "Find internal logs for this run at: <code>/content/wandb/run-20210927_143637-1e0wpixp/logs/debug-internal.log</code>"
            ],
            "text/plain": [
              "<IPython.core.display.HTML object>"
            ]
          },
          "metadata": {}
        },
        {
          "output_type": "display_data",
          "data": {
            "text/html": [
              "<h3>Run summary:</h3><br/><style>\n",
              "    table.wandb td:nth-child(1) { padding: 0 10px; text-align: right }\n",
              "    </style><table class=\"wandb\">\n",
              "<tr><td>dur</td><td>1.86337</td></tr><tr><td>train_bacc</td><td>0.96495</td></tr><tr><td>train_loss</td><td>0.07148</td></tr></table>"
            ],
            "text/plain": [
              "<IPython.core.display.HTML object>"
            ]
          },
          "metadata": {}
        },
        {
          "output_type": "display_data",
          "data": {
            "text/html": [
              "<h3>Run history:</h3><br/><style>\n",
              "    table.wandb td:nth-child(1) { padding: 0 10px; text-align: right }\n",
              "    </style><table class=\"wandb\">\n",
              "<tr><td>dur</td><td>█▃▂▁▁▁▃▂▃▁▃▁▁▃▂▃▁▁▁▁▁▁▃▂▁▁▁▃▁▁▁▁▃▁▁▂▁▁▁▁</td></tr><tr><td>train_bacc</td><td>▁▂▃▄▄▄▅▅▅▅▆▆▆▆▆▇▇▆▆▇▇▇▇▇▇███████████████</td></tr><tr><td>train_loss</td><td>█▅▄▄▃▃▃▃▃▃▃▂▂▂▂▂▂▂▂▂▂▂▂▂▁▁▁▁▁▁▁▁▁▁▁▁▁▁▁▁</td></tr></table><br/>"
            ],
            "text/plain": [
              "<IPython.core.display.HTML object>"
            ]
          },
          "metadata": {}
        },
        {
          "output_type": "display_data",
          "data": {
            "text/html": [
              "Synced 5 W&B file(s), 0 media file(s), 0 artifact file(s) and 0 other file(s)"
            ],
            "text/plain": [
              "<IPython.core.display.HTML object>"
            ]
          },
          "metadata": {}
        },
        {
          "output_type": "display_data",
          "data": {
            "text/html": [
              "\n",
              "                    <br/>Synced <strong style=\"color:#cdcd00\">AttnSleep_TL_new</strong>: <a href=\"https://wandb.ai/sleep_hacking/cnn-fulltrain/runs/1e0wpixp\" target=\"_blank\">https://wandb.ai/sleep_hacking/cnn-fulltrain/runs/1e0wpixp</a><br/>\n",
              "                "
            ],
            "text/plain": [
              "<IPython.core.display.HTML object>"
            ]
          },
          "metadata": {}
        }
      ]
    },
    {
      "cell_type": "markdown",
      "metadata": {
        "id": "91AoT14vWFJ9"
      },
      "source": [
        "I only got around 46.77% and 45.38% when model with TL on val1 then val2 and model with only TL on val2 respectively on the final test phase data - These were overfitted models which was caused this. Lesser around the model after the 3rd epoch would've been better."
      ]
    }
  ]
}